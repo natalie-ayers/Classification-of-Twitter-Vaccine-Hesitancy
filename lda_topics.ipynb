{
 "metadata": {
  "language_info": {
   "codemirror_mode": {
    "name": "ipython",
    "version": 3
   },
   "file_extension": ".py",
   "mimetype": "text/x-python",
   "name": "python",
   "nbconvert_exporter": "python",
   "pygments_lexer": "ipython3",
   "version": "3.8.2"
  },
  "orig_nbformat": 2,
  "kernelspec": {
   "name": "python382jvsc74a57bd0cda595cc091c472e9dda46637922ba357e006ec97741f8a0b4e3fc352369fe49",
   "display_name": "Python 3.8.2 64-bit ('base': conda)"
  }
 },
 "nbformat": 4,
 "nbformat_minor": 2,
 "cells": [
  {
   "source": [
    "# LDA for COVID-19 Tweet Topic Identification\n",
    "\n",
    "This notebook to identify the primary topics in COVID-19 vaccine tweets is based on a variety of guides written by others:\n",
    "https://www.machinelearningplus.com/nlp/topic-modeling-gensim-python/; \n",
    "https://thinkinfi.com/guide-to-build-best-lda-model-using-gensim-python/; https://towardsdatascience.com/topic-modeling-and-latent-dirichlet-allocation-in-python-9bf156893c24\n",
    "\n",
    "\n"
   ],
   "cell_type": "markdown",
   "metadata": {}
  },
  {
   "source": [
    "First, we load in the packages we'll need - we'll primarily be using Gensim and the Gensim wrapper for Mallet for our LDA. We'll also load in our pre-processed, labeled data."
   ],
   "cell_type": "markdown",
   "metadata": {}
  },
  {
   "cell_type": "code",
   "execution_count": 1,
   "metadata": {},
   "outputs": [
    {
     "output_type": "stream",
     "name": "stderr",
     "text": [
      "/home/npodpx/miniconda3/lib/python3.8/site-packages/ipykernel/pylab/config.py:70: DeprecationWarning: InlineBackend._figure_formats_changed is deprecated in traitlets 4.1: use @observe and @unobserve instead.\n  def _figure_formats_changed(self, name, old, new):\n"
     ]
    }
   ],
   "source": [
    "import pandas as pd\n",
    "import numpy as np\n",
    "import gensim\n",
    "import gensim.corpora as corpora\n",
    "from gensim.models import CoherenceModel\n",
    "import pyLDAvis\n",
    "import pyLDAvis.gensim_models\n",
    "import matplotlib.pyplot as plt\n",
    "import os"
   ]
  },
  {
   "cell_type": "code",
   "execution_count": 2,
   "metadata": {},
   "outputs": [],
   "source": [
    "tweets = os.listdir('data/labeled')\n",
    "tweets_dfs = []\n",
    "for tweet in tweets:\n",
    "    tw_file = 'data/labeled/' + tweet\n",
    "    df = pd.read_json(tw_file)\n",
    "    tweets_dfs.append(df) \n",
    "tweets_clean = pd.concat(tweets_dfs)"
   ]
  },
  {
   "cell_type": "code",
   "execution_count": 26,
   "metadata": {},
   "outputs": [],
   "source": [
    "df_test = pd.read_json('data/labeled/2021-04-19_cln_labeled.json')"
   ]
  },
  {
   "cell_type": "code",
   "execution_count": 28,
   "metadata": {},
   "outputs": [
    {
     "output_type": "execute_result",
     "data": {
      "text/plain": [
       "(40040, 8)"
      ]
     },
     "metadata": {},
     "execution_count": 28
    }
   ],
   "source": [
    "df_test.shape"
   ]
  },
  {
   "source": [
    "Filter to include only tweets which are negative or neutral, in order to better identify topics related to vaccine hesitancy."
   ],
   "cell_type": "markdown",
   "metadata": {}
  },
  {
   "cell_type": "code",
   "execution_count": 4,
   "metadata": {},
   "outputs": [],
   "source": [
    "tweets_negneut = tweets_clean[tweets_clean['score']<=0]"
   ]
  },
  {
   "cell_type": "code",
   "execution_count": 5,
   "metadata": {},
   "outputs": [
    {
     "output_type": "stream",
     "name": "stdout",
     "text": [
      "\n    Size of combined df:\t(71810, 8)\n    First five rows:\n\n                     created_at  \\\n1 2021-04-27 04:03:50+00:00   \n2 2021-04-27 04:04:06+00:00   \n3 2021-04-27 04:03:50+00:00   \n5 2021-04-27 04:04:00+00:00   \n6 2021-04-27 04:04:03+00:00   \n\n                                            text_cln  \\\n1  don t know liberals s given doses capita count...   \n2       pharmeasy initiates covid  vaccination drive   \n3  india receive batch russia s covid  vaccine rd...   \n5  feel freely large moms family covid seriously ...   \n6    europe news coronavirus eu sues astrazeneca ...   \n\n                                        text_cln_tok  positive  neutral  \\\n1  [don know liberals given doses capita countrie...     0.000    0.722   \n2                        [pharmeasy initiates drive]     0.000    1.000   \n3  [india receive batch russia rdif india news la...     0.000    1.000   \n5  [feel freely large moms family seriously fuck ...     0.282    0.397   \n6  [europe news sues astrazeneca delivery delays ...     0.084    0.785   \n\n   negative  compound  score  \n1     0.278   -0.6124     -1  \n2     0.000    0.0000      0  \n3     0.000    0.0000      0  \n5     0.321   -0.2732     -1  \n6     0.131   -0.2100     -1  \n\n"
     ]
    }
   ],
   "source": [
    "print(\"\"\"\n",
    "    Size of combined df:\\t{}\n",
    "    First five rows:\n",
    "\n",
    "    {}\n",
    "\"\"\".format(\n",
    "    tweets_negneut.shape,\n",
    "    tweets_negneut.head()\n",
    ")\n",
    ")\n"
   ]
  },
  {
   "source": [
    "First (if desired), we can perform a grid search of possible parameters for both the Gensim and Mallet LDA models to identify the most promising. To do this, use the function choose_lda_models() in pipeline.py with the text_cln_tok column of the full tweets dataframe. In order to successfully run pipeline (for the Mallet LDA model), you'll need to download the Mallet LDA (download with: wget http://mallet.cs.umass.edu/dist/mallet-2.0.8.zip), unzip it, and re-assign the variable MALLET_PATH in pipeline.py to be the file path where the ballet-2.0.8/bin/mallet files are located (eg, MALLET_PATH = '/usr/lib/mallet-2.0.8/bin/mallet'). You also need to insure all packages used in pipeline.py are installed. "
   ],
   "cell_type": "markdown",
   "metadata": {}
  },
  {
   "source": [
    "Note on grid search: currently, the parameters to search through are hard-coded in pipeline.py. To search through different parameters, you'll need to adjust the parameter values in choose_lda_models. The initial step of creating a dictionary and corpus to use in the LDA models also takes parameters, which are currently hard-coded to not consider words which appear less than 50 times, words which appear in more than 80 % of the documents, and to filter for only the top 1000000 words. This can also be changed in pipeline.py when build_corpus_dict is called by choose_lda_models."
   ],
   "cell_type": "markdown",
   "metadata": {}
  },
  {
   "cell_type": "code",
   "execution_count": 72,
   "metadata": {},
   "outputs": [
    {
     "output_type": "execute_result",
     "data": {
      "text/plain": [
       "<module 'pipeline' from '/mnt/c/Users/natra/Documents/Education/UChicago/MLforPP/ml-for-pp_vaccine-hesitancy/pipeline.py'>"
      ]
     },
     "metadata": {},
     "execution_count": 72
    }
   ],
   "source": [
    "import pipeline\n",
    "#import importlib\n",
    "#from src import pipeline\n",
    "#import src\n",
    "#reload(src.pipeline)\n",
    "import importlib\n",
    "importlib.reload(pipeline)"
   ]
  },
  {
   "cell_type": "code",
   "execution_count": 68,
   "metadata": {},
   "outputs": [],
   "source": [
    "test_tweets = df_test\n",
    "test_tweets = test_tweets[test_tweets['text_cln_tok'].astype(str).map(len)!=2]"
   ]
  },
  {
   "cell_type": "code",
   "execution_count": 69,
   "metadata": {},
   "outputs": [
    {
     "output_type": "execute_result",
     "data": {
      "text/plain": [
       "                 created_at  \\\n",
       "0 2021-04-19 04:02:07+00:00   \n",
       "1 2021-04-19 04:02:11+00:00   \n",
       "2 2021-04-19 04:02:34+00:00   \n",
       "3 2021-04-19 04:02:34+00:00   \n",
       "4 2021-04-19 04:02:34+00:00   \n",
       "\n",
       "                                            text_cln  \\\n",
       "0  prelim data israel suggest people vaccinated w...   \n",
       "1  sc hear pleas seeking covid  vaccination years...   \n",
       "2  covid  vaccination officers staff cgda prevent...   \n",
       "3   pm chill now kiddo picked gfs mum shes sweet ...   \n",
       "4  mass vaccination weeks help country fighting c...   \n",
       "\n",
       "                                        text_cln_tok  positive  neutral  \\\n",
       "0  ['prelim', 'data', 'israel', 'suggest', 'peopl...     0.000    0.919   \n",
       "1  ['hear', 'pleas', 'seeking', 'years', 'age', '...     0.000    1.000   \n",
       "2  ['officers', 'staff', 'cgda', 'preventive', 'm...     0.000    1.000   \n",
       "3  ['chill', 'now', 'kiddo', 'picked', 'gfs', 'mu...     0.240    0.760   \n",
       "4  ['mass', 'weeks', 'help', 'country', 'fighting...     0.178    0.658   \n",
       "\n",
       "   negative  compound  score  \n",
       "0     0.081   -0.2960     -1  \n",
       "1     0.000    0.0000      0  \n",
       "2     0.000    0.0000      0  \n",
       "3     0.000    0.7184      1  \n",
       "4     0.164    0.0516      1  "
      ],
      "text/html": "<div>\n<style scoped>\n    .dataframe tbody tr th:only-of-type {\n        vertical-align: middle;\n    }\n\n    .dataframe tbody tr th {\n        vertical-align: top;\n    }\n\n    .dataframe thead th {\n        text-align: right;\n    }\n</style>\n<table border=\"1\" class=\"dataframe\">\n  <thead>\n    <tr style=\"text-align: right;\">\n      <th></th>\n      <th>created_at</th>\n      <th>text_cln</th>\n      <th>text_cln_tok</th>\n      <th>positive</th>\n      <th>neutral</th>\n      <th>negative</th>\n      <th>compound</th>\n      <th>score</th>\n    </tr>\n  </thead>\n  <tbody>\n    <tr>\n      <th>0</th>\n      <td>2021-04-19 04:02:07+00:00</td>\n      <td>prelim data israel suggest people vaccinated w...</td>\n      <td>['prelim', 'data', 'israel', 'suggest', 'peopl...</td>\n      <td>0.000</td>\n      <td>0.919</td>\n      <td>0.081</td>\n      <td>-0.2960</td>\n      <td>-1</td>\n    </tr>\n    <tr>\n      <th>1</th>\n      <td>2021-04-19 04:02:11+00:00</td>\n      <td>sc hear pleas seeking covid  vaccination years...</td>\n      <td>['hear', 'pleas', 'seeking', 'years', 'age', '...</td>\n      <td>0.000</td>\n      <td>1.000</td>\n      <td>0.000</td>\n      <td>0.0000</td>\n      <td>0</td>\n    </tr>\n    <tr>\n      <th>2</th>\n      <td>2021-04-19 04:02:34+00:00</td>\n      <td>covid  vaccination officers staff cgda prevent...</td>\n      <td>['officers', 'staff', 'cgda', 'preventive', 'm...</td>\n      <td>0.000</td>\n      <td>1.000</td>\n      <td>0.000</td>\n      <td>0.0000</td>\n      <td>0</td>\n    </tr>\n    <tr>\n      <th>3</th>\n      <td>2021-04-19 04:02:34+00:00</td>\n      <td>pm chill now kiddo picked gfs mum shes sweet ...</td>\n      <td>['chill', 'now', 'kiddo', 'picked', 'gfs', 'mu...</td>\n      <td>0.240</td>\n      <td>0.760</td>\n      <td>0.000</td>\n      <td>0.7184</td>\n      <td>1</td>\n    </tr>\n    <tr>\n      <th>4</th>\n      <td>2021-04-19 04:02:34+00:00</td>\n      <td>mass vaccination weeks help country fighting c...</td>\n      <td>['mass', 'weeks', 'help', 'country', 'fighting...</td>\n      <td>0.178</td>\n      <td>0.658</td>\n      <td>0.164</td>\n      <td>0.0516</td>\n      <td>1</td>\n    </tr>\n  </tbody>\n</table>\n</div>"
     },
     "metadata": {},
     "execution_count": 69
    }
   ],
   "source": [
    "test_tweets.head()"
   ]
  },
  {
   "cell_type": "code",
   "execution_count": 73,
   "metadata": {
    "tags": []
   },
   "outputs": [
    {
     "output_type": "stream",
     "name": "stdout",
     "text": [
      "Created doc_lst [['prelim', 'data', 'israel', 'suggest', 'people', 'pfizer', 'develop', 'fold', 'lower', 'viral', 'load', 'people', 'this', 'indicate', 'reduced', 'transmissibility', 'viral', 'load', 'identified', 'key', 'driver', 'transmission'], ['hear', 'pleas', 'seeking', 'years', 'age', 'april'], ['officers', 'staff', 'cgda', 'preventive', 'measures', 'contain', 'spread', 'officers', 'staff', 'cgda', 'circular', 'dated', 'post'], ['chill', 'now', 'kiddo', 'picked', 'gfs', 'mum', 'shes', 'sweet', 'hes', 'night', 'feed', 'animals', 'got', 'motivated', 'filled', 'form', 'week', 'early'], ['mass', 'weeks', 'help', 'country', 'fighting', 'speed', 'economic', 'recovery', 'process'], ['mass', 'campaign'], ['india', 'wait', 'long', 'time', 'foreign', 'available', 'country', 'companies', 'pfizer', 'moderna', 'apply', 'emergency', 'use', 'licences', 'allowed', 'recently', 'changed', 'rules'], ['ask', 'number', 'means', 'virus', 'ask', 'number', 'means', 'age', 'person', 'thing', 'rollout', 'head', 'subjected', 'ageist', 'material', 'govt']]\n",
      "dict: {'data': 0, 'israel': 1, 'key': 2, 'lower': 3, 'people': 4, 'pfizer': 5, 'this': 6, 'transmission': 7, 'age': 8, 'april': 9, 'hear': 10, 'years': 11, 'measures': 12, 'post': 13, 'spread': 14, 'staff': 15, 'early': 16, 'got': 17, 'now': 18, 'week': 19, 'country': 20, 'help': 21, 'mass': 22, 'process': 23, 'recovery': 24, 'weeks': 25, 'campaign': 26, 'allowed': 27, 'available': 28, 'companies': 29, 'emergency': 30, 'india': 31, 'long': 32, 'moderna': 33, 'time': 34, 'use': 35, 'wait': 36, 'ask': 37, 'govt': 38, 'means': 39, 'number': 40, 'person': 41, 'rollout': 42, 'thing': 43, 'virus': 44, 'cdc': 45, 'doctors': 46, 'don': 47, 'infections': 48, 'reports': 49, 'active': 50, 'cases': 51, 'death': 52, 'health': 53, 'hours': 54, 'ministry': 55, 'new': 56, 'toll': 57, 'total': 58, 'union': 59, 'provided': 60, 'senior': 61, 'dont': 62, 'dying': 63, 'far': 64, 'left': 65, 'like': 66, 'negative': 67, 'positive': 68, 'think': 69, 'trump': 70, 'wont': 71, 'anti': 72, 'media': 73, 'pandemic': 74, 'possible': 75, 'reason': 76, 'vax': 77, 'administered': 78, 'illinois': 79, 'million': 80, 'officials': 81, 'said': 82, 'state': 83, 'sunday': 84, 'trial': 85, 'americans': 86, 'chinese': 87, 'public': 88, 'getting': 89, 'known': 90, 'you': 91, 'distancing': 92, 'high': 93, 'immunity': 94, 'masks': 95, 'need': 96, 'report': 97, 'face': 98, 'friends': 99, 'life': 100, 'lives': 101, 'mask': 102, 'protect': 103, 'save': 104, 'wear': 105, 'able': 106, 'alberta': 107, 'astrazeneca': 108, 'minimum': 109, 'ontario': 110, 'oxford': 111, 'supply': 112, 'turn': 113, 'facts': 114, 'information': 115, 'lot': 116, 'making': 117, 'step': 118, 'there': 119, 'china': 120, 'fact': 121, 'millions': 122, 'question': 123, 'actually': 124, 'chile': 125, 'dose': 126, 'first': 127, 'little': 128, 'protection': 129, 'second': 130, 'best': 131, 'control': 132, 'encourage': 133, 'gets': 134, 'shots': 135, 'team': 136, 'way': 137, 'care': 138, 'days': 139, 'doses': 140, 'efficacy': 141, 'infected': 142, 'study': 143, 'workers': 144, 'issue': 145, 'national': 146, 'response': 147, 'effort': 148, 'government': 149, 'money': 150, 'sure': 151, 'that': 152, 'healthcare': 153, 'minister': 154, 'times': 155, 'going': 156, 'check': 157, 'effects': 158, 'register': 159, 'residents': 160, 'demand': 161, 'all': 162, 'happening': 163, 'require': 164, 'disease': 165, 'higher': 166, 'institute': 167, 'risk': 168, 'younger': 169, 'fight': 170, 'needs': 171, 'essential': 172, 'why': 173, 'distribution': 174, 'technology': 175, 'can': 176, 'old': 177, 'receiving': 178, 'talk': 179, 'year': 180, 'die': 181, 'works': 182, 'died': 183, 'events': 184, 'related': 185, 'united': 186, 'efforts': 187, 'fauci': 188, 'restrictions': 189, 'according': 190, 'county': 191, 'latest': 192, 'list': 193, 'sites': 194, 'adults': 195, 'half': 196, 'received': 197, 'shot': 198, 'ago': 199, 'asked': 200, 'what': 201, 'hesitancy': 202, 'news': 203, 'usa': 204, 'administration': 205, 'africa': 206, 'biden': 207, 'currently': 208, 'global': 209, 'support': 210, 'world': 211, 'calling': 212, 'likely': 213, 'months': 214, 'province': 215, 'ensure': 216, 'good': 217, 'ready': 218, 'cvs': 219, 'oxygen': 220, 'resources': 221, 'receives': 222, 'know': 223, 'wave': 224, 'doesnt': 225, 'want': 226, 'white': 227, 'cause': 228, 'gave': 229, 'stay': 230, 'work': 231, 'deaths': 232, 'defeat': 233, 'doesn': 234, 'saying': 235, 'well': 236, 'wearamask': 237, 'fully': 238, 'says': 239, 'social': 240, 'waiting': 241, 'watch': 242, 'join': 243, 'private': 244, 'rich': 245, 'book': 246, 'mrna': 247, 'safety': 248, 'term': 249, 'joe': 250, 'directly': 251, 'given': 252, 'hope': 253, 'instead': 254, 'read': 255, 'stop': 256, 'nation': 257, 'pharmaceutical': 258, 'effect': 259, 'herd': 260, 'lets': 261, 'soon': 262, 'europe': 263, 'event': 264, 'france': 265, 'reported': 266, 'severe': 267, 'variant': 268, 'home': 269, 'close': 270, 'spreading': 271, 'taking': 272, 'working': 273, 'day': 274, 'live': 275, 'single': 276, 'appointments': 277, 'near': 278, 'sign': 279, 'york': 280, 'eligible': 281, 'fast': 282, 'folks': 283, 'tuesday': 284, 'morning': 285, 'history': 286, 'president': 287, 'science': 288, 'centre': 289, 'states': 290, 'south': 291, 'link': 292, 'local': 293, 'open': 294, 'variants': 295, 'won': 296, 'drive': 297, 'set': 298, 'today': 299, 'philippines': 300, 'governments': 301, 'covax': 302, 'end': 303, 'prime': 304, 'company': 305, 'effective': 306, 'official': 307, 'preventing': 308, 'poor': 309, 'affect': 310, 'taken': 311, 'tell': 312, 'african': 313, 'advice': 314, 'citizens': 315, 'countries': 316, 'not': 317, 'them': 318, 'trials': 319, 'app': 320, 'modi': 321, 'namo': 322, 'infection': 323, 'site': 324, 'told': 325, 'vulnerable': 326, 'website': 327, 'action': 328, 'alert': 329, 'blood': 330, 'clot': 331, 'concerns': 332, 'needed': 333, 'treatment': 334, 'decision': 335, 'tests': 336, 'women': 337, 'one': 338, 'story': 339, 'trust': 340, 'west': 341, 'sense': 342, 'wearing': 343, 'update': 344, 'canada': 345, 'start': 346, 'trudeau': 347, 'despite': 348, 'later': 349, 'tested': 350, 'address': 351, 'program': 352, 'federal': 353, 'kids': 354, 'level': 355, 'too': 356, 'past': 357, 'allow': 358, 'problem': 359, 'developed': 360, 'fake': 361, 'impact': 362, 'leaders': 363, 'real': 364, 'offer': 365, 'patients': 366, 'additional': 367, 'supplies': 368, 'beginning': 369, 'big': 370, 'employees': 371, 'immune': 372, 'limited': 373, 'receive': 374, 'woman': 375, 'happy': 376, 'let': 377, 'love': 378, 'offered': 379, 'covaxin': 380, 'center': 381, 'gives': 382, 'school': 383, 'eligibility': 384, 'house': 385, 'including': 386, 'jesus': 387, 'safe': 388, 'hard': 389, 'questions': 390, 'situation': 391, 'opened': 392, 'provide': 393, 'the': 394, 'believe': 395, 'scheduled': 396, 'toronto': 397, 'phase': 398, 'registration': 399, 'community': 400, 'right': 401, 'ahead': 402, 'pharmacies': 403, 'schedule': 404, 'general': 405, 'population': 406, 'teachers': 407, 'adult': 408, 'monday': 409, 'card': 410, 'gotten': 411, 'comes': 412, 'coming': 413, 'especially': 414, 'medicine': 415, 'necessary': 416, 'older': 417, 'globally': 418, 'video': 419, 'created': 420, 'important': 421, 'milestone': 422, 'race': 423, 'having': 424, 'jab': 425, 'schools': 426, 'yet': 427, 'ages': 428, 'feel': 429, 'pause': 430, 'rare': 431, 'rest': 432, 'production': 433, 'clinic': 434, 'continue': 435, 'distance': 436, 'pay': 437, 'increase': 438, 'create': 439, 'experimental': 440, 'fda': 441, 'order': 442, 'things': 443, 'group': 444, 'johnson': 445, 'complete': 446, 'makes': 447, 'wants': 448, 'chief': 449, 'clots': 450, 'confirmed': 451, 'development': 452, 'daily': 453, 'human': 454, 'volunteers': 455, 'cards': 456, 'quickly': 457, 'seniors': 458, 'linked': 459, 'passing': 460, 'cbc': 461, 'wrong': 462, 'free': 463, 'fear': 464, 'follow': 465, 'staysafe': 466, 'nations': 467, 'north': 468, 'scams': 469, 'priority': 470, 'experience': 471, 'heres': 472, 'biotech': 473, 'doctor': 474, 'drug': 475, 'insurance': 476, 'nhs': 477, 'policy': 478, 'sick': 479, 'better': 480, 'offering': 481, 'access': 482, 'appointment': 483, 'fraud': 484, 'australia': 485, 'travel': 486, 'business': 487, 'common': 488, 'man': 489, 'plan': 490, 'special': 491, 'nearly': 492, 'surge': 493, 'administer': 494, 'gov': 495, 'they': 496, 'current': 497, 'pace': 498, 'reach': 499, 'info': 500, 'hospital': 501, 'case': 502, 'friday': 503, 'quarantine': 504, 'hands': 505, 'saturday': 506, 'started': 507, 'come': 508, 'shortage': 509, 'record': 510, 'expert': 511, 'centers': 512, 'prevention': 513, 'proof': 514, 'rates': 515, 'run': 516, 'breaking': 517, 'experts': 518, 'remember': 519, 'crisis': 520, 'helping': 521, 'look': 522, 'message': 523, 'request': 524, 'here': 525, 'line': 526, 'took': 527, 'june': 528, 'continues': 529, 'required': 530, 'approved': 531, 'cov': 532, 'sars': 533, 'living': 534, 'normal': 535, 'march': 536, 'personal': 537, 'jabs': 538, 'forward': 539, 'testing': 540, 'washington': 541, 'isn': 542, 'pharma': 543, 'aged': 544, 'mean': 545, 'yes': 546, 'online': 547, 'tomorrow': 548, 'true': 549, 'research': 550, 'university': 551, 'numbers': 552, 'progress': 553, 'everyone': 554, 'providing': 555, 'article': 556, 'thousands': 557, 'pre': 558, 'may': 559, 'thank': 560, 'increasing': 561, 'expands': 562, 'huge': 563, 'please': 564, 'children': 565, 'market': 566, 'major': 567, 'announced': 568, 'percent': 569, 'family': 570, 'black': 571, 'evidence': 572, 'healthy': 573, 'longer': 574, 'florida': 575, 'low': 576, 'covishield': 577, 'counties': 578, 'political': 579, 'starting': 580, 'based': 581, 'cdnpoli': 582, 'updated': 583, 'dangerous': 584, 'amid': 585, 'answer': 586, 'august': 587, 'details': 588, 'biontech': 589, 'fall': 590, 'groups': 591, 'persons': 592, 'scientists': 593, 'trying': 594, 'clinical': 595, 'expected': 596, 'opens': 597, 'youre': 598, 'area': 599, 'chicago': 600, 'booster': 601, 'role': 602, 'medical': 603, 'non': 604, 'out': 605, 'place': 606, 'tracker': 607, 'updates': 608, 'bad': 609, 'understand': 610, 'following': 611, 'mandate': 612, 'individuals': 613, 'politics': 614, 'benefits': 615, 'potential': 616, 'risks': 617, 'pregnant': 618, 'availability': 619, 'wednesday': 620, 'aid': 621, 'rite': 622, 'but': 623, 'red': 624, 'equity': 625, 'bring': 626, 'boost': 627, 'return': 628, 'city': 629, 'hit': 630, 'share': 631, 'more': 632, 'thats': 633, 'flu': 634, 'apr': 635, 'again': 636, 'international': 637, 'looking': 638, 'passports': 639, 'delhi': 640, 'change': 641, 'hold': 642, 'clinics': 643, 'strategy': 644, 'over': 645, 'remain': 646, 'students': 647, 'ford': 648, 'test': 649, 'goal': 650, 'young': 651, 'thanks': 652, 'college': 653, 'month': 654, 'crore': 655, 'fastest': 656, 'different': 657, 'seen': 658, 'produce': 659, 'learn': 660, 'rate': 661, 'american': 662, 'canadians': 663, 'great': 664, 'germany': 665, 'ireland': 666, 'lockdown': 667, 'announces': 668, 'mandatory': 669, 'maybe': 670, 'visit': 671, 'sputnik': 672, 'shows': 673, 'department': 674, 'massachusetts': 675, 'roll': 676, 'ones': 677, 'and': 678, 'bharat': 679, 'easy': 680, 'giving': 681, 'who': 682, 'job': 683, 'deal': 684, 'opening': 685, 'point': 686, 'plans': 687, 'saline': 688, 'walgreens': 689, 'walk': 690, 'late': 691, 'away': 692, 'led': 693, 'click': 694, 'buy': 695, 'communities': 696, 'guidelines': 697, 'body': 698, 'called': 699, 'chance': 700, 'campus': 701, 'source': 702, 'future': 703, 'breakingnews': 704, 'avoid': 705, 'begin': 706, 'european': 707, 'hosting': 708, 'biggest': 709, 'credit': 710, 'others': 711, 'facilities': 712, 'prevent': 713, 'service': 714, 'director': 715, 'discuss': 716, 'meet': 717, 'america': 718, 'michigan': 719, 'contact': 720, 'symptoms': 721, 'meeting': 722, 'programme': 723, 'capacity': 724, 'indian': 725, 'manufacturing': 726, 'status': 727, 'zero': 728, 'central': 729, 'together': 730, 'welcome': 731, 'listen': 732, 'issues': 733, 'large': 734, 'import': 735, 'accelerated': 736, 'leave': 737, 'administering': 738, 'recent': 739, 'russia': 740, 'adverse': 741, 'forced': 742, 'requiring': 743, 'opportunity': 744, 'manufacturers': 745, 'yrs': 746, 'loved': 747, 'hospitals': 748, 'duty': 749, 'region': 750, 'thursday': 751, 'members': 752, 'pharmacy': 753, 'date': 754, 'speak': 755, 'governor': 756, 'cost': 757, 'deadline': 758, 'yesterday': 759, 'weekend': 760, 'finally': 761, 'virginia': 762, 'services': 763, 'locations': 764, 'appts': 765, 'baptist': 766, 'often': 767, 'liberalised': 768, 'whale': 769, 'busted': 770}\n",
      "Training model: GensimLDA | {'chunksize': 2000, 'num_topics': 5, 'alpha': 0.1, 'eta': 0.1, 'random_state': 100}\n",
      "Time Elapsed: 0:00:51.352003\n",
      "Training model: GensimLDA | {'chunksize': 2000, 'num_topics': 5, 'alpha': 0.1, 'eta': 0.8, 'random_state': 100}\n",
      "Time Elapsed: 0:00:51.501660\n",
      "Training model: GensimLDA | {'chunksize': 2000, 'num_topics': 5, 'alpha': 0.1, 'eta': 'symmetric', 'random_state': 100}\n",
      "Time Elapsed: 0:00:49.581861\n",
      "Training model: GensimLDA | {'chunksize': 2000, 'num_topics': 5, 'alpha': 0.5, 'eta': 0.1, 'random_state': 100}\n",
      "Time Elapsed: 0:00:43.655137\n",
      "Training model: GensimLDA | {'chunksize': 2000, 'num_topics': 5, 'alpha': 0.5, 'eta': 0.8, 'random_state': 100}\n",
      "Time Elapsed: 0:00:46.638070\n",
      "Training model: GensimLDA | {'chunksize': 2000, 'num_topics': 5, 'alpha': 0.5, 'eta': 'symmetric', 'random_state': 100}\n",
      "Time Elapsed: 0:00:42.075033\n",
      "Training model: GensimLDA | {'chunksize': 2000, 'num_topics': 5, 'alpha': 0.8, 'eta': 0.1, 'random_state': 100}\n",
      "Time Elapsed: 0:00:40.763946\n",
      "Training model: GensimLDA | {'chunksize': 2000, 'num_topics': 5, 'alpha': 0.8, 'eta': 0.8, 'random_state': 100}\n",
      "Time Elapsed: 0:00:42.629080\n",
      "Training model: GensimLDA | {'chunksize': 2000, 'num_topics': 5, 'alpha': 0.8, 'eta': 'symmetric', 'random_state': 100}\n",
      "Time Elapsed: 0:00:42.839278\n"
     ]
    }
   ],
   "source": [
    "#results = pipeline.choose_lda_models(tweets_negneut['text_cln_tok'])\n",
    "results = pipeline.choose_lda_models(test_tweets['text_cln_tok'])"
   ]
  },
  {
   "cell_type": "code",
   "execution_count": 74,
   "metadata": {},
   "outputs": [
    {
     "output_type": "execute_result",
     "data": {
      "text/plain": [
       "   LDA Model                                             Params  \\\n",
       "0  GensimLDA  {'chunksize': 2000, 'num_topics': 5, 'alpha': ...   \n",
       "1  GensimLDA  {'chunksize': 2000, 'num_topics': 5, 'alpha': ...   \n",
       "6  GensimLDA  {'chunksize': 2000, 'num_topics': 5, 'alpha': ...   \n",
       "8  GensimLDA  {'chunksize': 2000, 'num_topics': 5, 'alpha': ...   \n",
       "2  GensimLDA  {'chunksize': 2000, 'num_topics': 5, 'alpha': ...   \n",
       "7  GensimLDA  {'chunksize': 2000, 'num_topics': 5, 'alpha': ...   \n",
       "3  GensimLDA  {'chunksize': 2000, 'num_topics': 5, 'alpha': ...   \n",
       "4  GensimLDA  {'chunksize': 2000, 'num_topics': 5, 'alpha': ...   \n",
       "5  GensimLDA  {'chunksize': 2000, 'num_topics': 5, 'alpha': ...   \n",
       "\n",
       "            Time Elapsed  Coherence  Perplexity  \\\n",
       "0 0 days 00:00:51.352003   0.313928   -6.321619   \n",
       "1 0 days 00:00:51.501660   0.293632   -6.207316   \n",
       "6 0 days 00:00:40.763946   0.291672   -6.171491   \n",
       "8 0 days 00:00:42.839278   0.288162   -6.176527   \n",
       "2 0 days 00:00:49.581861   0.287996   -6.294063   \n",
       "7 0 days 00:00:42.629080   0.285318   -6.198679   \n",
       "3 0 days 00:00:43.655137   0.279818   -6.193472   \n",
       "4 0 days 00:00:46.638070   0.278139   -6.200984   \n",
       "5 0 days 00:00:42.075033   0.274915   -6.194202   \n",
       "\n",
       "                                              Topics  \n",
       "0  [(0, 0.055*\"available\" + 0.052*\"appointments\" ...  \n",
       "1  [(0, 0.057*\"appointments\" + 0.056*\"available\" ...  \n",
       "6  [(0, 0.047*\"available\" + 0.038*\"news\" + 0.037*...  \n",
       "8  [(0, 0.047*\"available\" + 0.038*\"news\" + 0.037*...  \n",
       "2  [(0, 0.056*\"available\" + 0.052*\"appointments\" ...  \n",
       "7  [(0, 0.047*\"available\" + 0.038*\"news\" + 0.037*...  \n",
       "3  [(0, 0.050*\"available\" + 0.041*\"news\" + 0.040*...  \n",
       "4  [(0, 0.050*\"available\" + 0.041*\"news\" + 0.040*...  \n",
       "5  [(0, 0.050*\"available\" + 0.041*\"news\" + 0.040*...  "
      ],
      "text/html": "<div>\n<style scoped>\n    .dataframe tbody tr th:only-of-type {\n        vertical-align: middle;\n    }\n\n    .dataframe tbody tr th {\n        vertical-align: top;\n    }\n\n    .dataframe thead th {\n        text-align: right;\n    }\n</style>\n<table border=\"1\" class=\"dataframe\">\n  <thead>\n    <tr style=\"text-align: right;\">\n      <th></th>\n      <th>LDA Model</th>\n      <th>Params</th>\n      <th>Time Elapsed</th>\n      <th>Coherence</th>\n      <th>Perplexity</th>\n      <th>Topics</th>\n    </tr>\n  </thead>\n  <tbody>\n    <tr>\n      <th>0</th>\n      <td>GensimLDA</td>\n      <td>{'chunksize': 2000, 'num_topics': 5, 'alpha': ...</td>\n      <td>0 days 00:00:51.352003</td>\n      <td>0.313928</td>\n      <td>-6.321619</td>\n      <td>[(0, 0.055*\"available\" + 0.052*\"appointments\" ...</td>\n    </tr>\n    <tr>\n      <th>1</th>\n      <td>GensimLDA</td>\n      <td>{'chunksize': 2000, 'num_topics': 5, 'alpha': ...</td>\n      <td>0 days 00:00:51.501660</td>\n      <td>0.293632</td>\n      <td>-6.207316</td>\n      <td>[(0, 0.057*\"appointments\" + 0.056*\"available\" ...</td>\n    </tr>\n    <tr>\n      <th>6</th>\n      <td>GensimLDA</td>\n      <td>{'chunksize': 2000, 'num_topics': 5, 'alpha': ...</td>\n      <td>0 days 00:00:40.763946</td>\n      <td>0.291672</td>\n      <td>-6.171491</td>\n      <td>[(0, 0.047*\"available\" + 0.038*\"news\" + 0.037*...</td>\n    </tr>\n    <tr>\n      <th>8</th>\n      <td>GensimLDA</td>\n      <td>{'chunksize': 2000, 'num_topics': 5, 'alpha': ...</td>\n      <td>0 days 00:00:42.839278</td>\n      <td>0.288162</td>\n      <td>-6.176527</td>\n      <td>[(0, 0.047*\"available\" + 0.038*\"news\" + 0.037*...</td>\n    </tr>\n    <tr>\n      <th>2</th>\n      <td>GensimLDA</td>\n      <td>{'chunksize': 2000, 'num_topics': 5, 'alpha': ...</td>\n      <td>0 days 00:00:49.581861</td>\n      <td>0.287996</td>\n      <td>-6.294063</td>\n      <td>[(0, 0.056*\"available\" + 0.052*\"appointments\" ...</td>\n    </tr>\n    <tr>\n      <th>7</th>\n      <td>GensimLDA</td>\n      <td>{'chunksize': 2000, 'num_topics': 5, 'alpha': ...</td>\n      <td>0 days 00:00:42.629080</td>\n      <td>0.285318</td>\n      <td>-6.198679</td>\n      <td>[(0, 0.047*\"available\" + 0.038*\"news\" + 0.037*...</td>\n    </tr>\n    <tr>\n      <th>3</th>\n      <td>GensimLDA</td>\n      <td>{'chunksize': 2000, 'num_topics': 5, 'alpha': ...</td>\n      <td>0 days 00:00:43.655137</td>\n      <td>0.279818</td>\n      <td>-6.193472</td>\n      <td>[(0, 0.050*\"available\" + 0.041*\"news\" + 0.040*...</td>\n    </tr>\n    <tr>\n      <th>4</th>\n      <td>GensimLDA</td>\n      <td>{'chunksize': 2000, 'num_topics': 5, 'alpha': ...</td>\n      <td>0 days 00:00:46.638070</td>\n      <td>0.278139</td>\n      <td>-6.200984</td>\n      <td>[(0, 0.050*\"available\" + 0.041*\"news\" + 0.040*...</td>\n    </tr>\n    <tr>\n      <th>5</th>\n      <td>GensimLDA</td>\n      <td>{'chunksize': 2000, 'num_topics': 5, 'alpha': ...</td>\n      <td>0 days 00:00:42.075033</td>\n      <td>0.274915</td>\n      <td>-6.194202</td>\n      <td>[(0, 0.050*\"available\" + 0.041*\"news\" + 0.040*...</td>\n    </tr>\n  </tbody>\n</table>\n</div>"
     },
     "metadata": {},
     "execution_count": 74
    }
   ],
   "source": [
    "results.sort_values('Coherence',ascending=False)"
   ]
  },
  {
   "cell_type": "code",
   "execution_count": 120,
   "metadata": {},
   "outputs": [
    {
     "output_type": "stream",
     "name": "stderr",
     "text": [
      "/home/npodpx/miniconda3/lib/python3.8/site-packages/ipykernel/ipkernel.py:283: DeprecationWarning: `should_run_async` will not call `transform_cell` automatically in the future. Please pass the result to `transformed_cell` argument and any exception that happen during thetransform in `preprocessing_exc_tuple` in IPython 7.17 and above.\n  \n"
     ]
    }
   ],
   "source": [
    "results.to_csv('lda_models_gs_3day.csv')"
   ]
  },
  {
   "source": [
    "Once the ideal parameters are selected, we can manually create the models to consider specific aspects more in-depth (and to create the dynamic visualizations below). First, we use Gensim to create a dictionary of the unique words that appear mapped to an id. (We are still filtering out from the dictionary words that don't appear enough or appear in too many tweets.) Second, we'll create a corpus of the tweets, which contains the number of times a given word (identified by id) appeared in each tweet. "
   ],
   "cell_type": "markdown",
   "metadata": {}
  },
  {
   "cell_type": "code",
   "execution_count": 56,
   "metadata": {},
   "outputs": [
    {
     "output_type": "error",
     "ename": "SyntaxError",
     "evalue": "invalid syntax (<unknown>, line 1)",
     "traceback": [
      "Traceback \u001b[0;36m(most recent call last)\u001b[0m:\n",
      "  File \u001b[1;32m\"/home/npodpx/miniconda3/lib/python3.8/site-packages/IPython/core/interactiveshell.py\"\u001b[0m, line \u001b[1;32m3437\u001b[0m, in \u001b[1;35mrun_code\u001b[0m\n    exec(code_obj, self.user_global_ns, self.user_ns)\n",
      "  File \u001b[1;32m\"/tmp/ipykernel_11870/122563067.py\"\u001b[0m, line \u001b[1;32m4\u001b[0m, in \u001b[1;35m<module>\u001b[0m\n    tweets_nn_lst.append(ast.literal_eval(tweet))\n",
      "  File \u001b[1;32m\"/home/npodpx/miniconda3/lib/python3.8/ast.py\"\u001b[0m, line \u001b[1;32m59\u001b[0m, in \u001b[1;35mliteral_eval\u001b[0m\n    node_or_string = parse(node_or_string, mode='eval')\n",
      "\u001b[0;36m  File \u001b[0;32m\"/home/npodpx/miniconda3/lib/python3.8/ast.py\"\u001b[0;36m, line \u001b[0;32m47\u001b[0;36m, in \u001b[0;35mparse\u001b[0;36m\u001b[0m\n\u001b[0;31m    return compile(source, filename, mode, flags,\u001b[0m\n",
      "\u001b[0;36m  File \u001b[0;32m\"<unknown>\"\u001b[0;36m, line \u001b[0;32m1\u001b[0m\n\u001b[0;31m    [don know liberals given doses capita countries members dislike trudeau blame things actually done acquiring]\u001b[0m\n\u001b[0m         ^\u001b[0m\n\u001b[0;31mSyntaxError\u001b[0m\u001b[0;31m:\u001b[0m invalid syntax\n"
     ]
    }
   ],
   "source": [
    "import ast\n",
    "tweets_nn_lst = []\n",
    "for tweet in tweets_negneut['text_cln_tok']:\n",
    "    tweets_nn_lst.append(ast.literal_eval(tweet))"
   ]
  },
  {
   "cell_type": "code",
   "execution_count": 57,
   "metadata": {},
   "outputs": [],
   "source": [
    "import ast\n",
    "tweets_nn_lst = []\n",
    "for tweet in test_tweets['text_cln_tok']:\n",
    "    tweets_nn_lst.append(ast.literal_eval(tweet))"
   ]
  },
  {
   "cell_type": "code",
   "execution_count": 61,
   "metadata": {},
   "outputs": [],
   "source": [
    "single_dict = corpora.Dictionary(tweets_nn_lst)\n",
    "single_dict.filter_extremes(no_below=100, no_above=0.80, keep_n=1000000)\n",
    "\n",
    "single_corpus = [single_dict.doc2bow(tweet) for tweet in tweets_nn_lst]"
   ]
  },
  {
   "source": [
    "To see the dictionary and corpus contents, run the below 2 cells:"
   ],
   "cell_type": "markdown",
   "metadata": {}
  },
  {
   "cell_type": "code",
   "execution_count": 62,
   "metadata": {
    "tags": []
   },
   "outputs": [
    {
     "output_type": "stream",
     "name": "stdout",
     "text": [
      "{'people': 0, 'week': 1, 'world': 2, 'cases': 3, 'india': 4, 'age': 5, 'years': 6, 'doses': 7, 'getting': 8, 'need': 9, 'pfizer': 10, 'shot': 11, 'new': 12, 'appointments': 13, 'available': 14, 'near': 15, 'sign': 16, 'know': 17, 'today': 18, 'government': 19, 'adults': 20, 'april': 21, 'eligible': 22, 'dose': 23, 'says': 24, 'health': 25, 'news': 26, 'astrazeneca': 27, 'received': 28, 'second': 29, 'pandemic': 30, 'states': 31}\n"
     ]
    }
   ],
   "source": [
    "print(single_dict.token2id)"
   ]
  },
  {
   "cell_type": "code",
   "execution_count": 14,
   "metadata": {},
   "outputs": [
    {
     "output_type": "stream",
     "name": "stdout",
     "text": [
      "[(0, 1), (1, 1), (2, 1), (3, 1), (4, 1), (5, 1)]\n",
      "/home/npodpx/miniconda3/lib/python3.8/site-packages/ipykernel/ipkernel.py:283: DeprecationWarning: `should_run_async` will not call `transform_cell` automatically in the future. Please pass the result to `transformed_cell` argument and any exception that happen during thetransform in `preprocessing_exc_tuple` in IPython 7.17 and above.\n",
      "  \n"
     ]
    }
   ],
   "source": [
    "print(single_corpus[0])"
   ]
  },
  {
   "source": [
    "Next, we can train the model with the parameters we identified above (or, with any other parameters)."
   ],
   "cell_type": "markdown",
   "metadata": {}
  },
  {
   "cell_type": "code",
   "execution_count": 129,
   "metadata": {
    "tags": []
   },
   "outputs": [
    {
     "output_type": "stream",
     "name": "stderr",
     "text": [
      "/home/npodpx/miniconda3/lib/python3.8/site-packages/ipykernel/ipkernel.py:283: DeprecationWarning: `should_run_async` will not call `transform_cell` automatically in the future. Please pass the result to `transformed_cell` argument and any exception that happen during thetransform in `preprocessing_exc_tuple` in IPython 7.17 and above.\n  \n"
     ]
    }
   ],
   "source": [
    "#import logging\n",
    "#logging.basicConfig(format='%(asctime)s : %(levelname)s : %(message)s', level=logging.INFO)\n",
    "single_model = gensim.models.ldamodel.LdaModel(corpus=single_corpus,\n",
    "                                           id2word=single_dict,\n",
    "                                           num_topics=5, \n",
    "                                           random_state=100,\n",
    "                                           update_every=1,\n",
    "                                           chunksize=2000,\n",
    "                                           passes=10,\n",
    "                                           alpha=0.1,\n",
    "                                           eta=1,\n",
    "                                           per_word_topics=True)"
   ]
  },
  {
   "cell_type": "code",
   "execution_count": 127,
   "metadata": {},
   "outputs": [
    {
     "output_type": "stream",
     "name": "stderr",
     "text": [
      "/home/npodpx/miniconda3/lib/python3.8/site-packages/ipykernel/ipkernel.py:283: DeprecationWarning: `should_run_async` will not call `transform_cell` automatically in the future. Please pass the result to `transformed_cell` argument and any exception that happen during thetransform in `preprocessing_exc_tuple` in IPython 7.17 and above.\n  \n"
     ]
    },
    {
     "output_type": "execute_result",
     "data": {
      "text/plain": [
       "[(0,\n",
       "  '0.072*\"available\" + 0.071*\"covid\" + 0.071*\"19\" + 0.069*\"vaccination\" + 0.068*\"appointments\" + 0.058*\"sign\" + 0.057*\"near\" + 0.056*\"04\" + 0.054*\"00\" + 0.052*\"cvs\"'),\n",
       " (1,\n",
       "  '0.040*\"dose\" + 0.038*\"cases\" + 0.036*\"doses\" + 0.025*\"covid19\" + 0.022*\"people\" + 0.021*\"vaccinated\" + 0.020*\"million\" + 0.020*\"new\" + 0.020*\"received\" + 0.018*\"deaths\"'),\n",
       " (2,\n",
       "  '0.020*\"covid19\" + 0.020*\"vaccines\" + 0.020*\"people\" + 0.013*\"t\" + 0.013*\"vaccinated\" + 0.012*\"vaccine\" + 0.009*\"india\" + 0.008*\"need\" + 0.007*\"getting\" + 0.007*\"know\"'),\n",
       " (3,\n",
       "  '0.108*\"covid\" + 0.102*\"vaccine\" + 0.097*\"19\" + 0.038*\"johnson\" + 0.029*\"s\" + 0.020*\"j\" + 0.020*\"vaccines\" + 0.019*\"coronavirus\" + 0.018*\"covid19\" + 0.016*\"vaccination\"'),\n",
       " (4,\n",
       "  '0.019*\"eligible\" + 0.017*\"april\" + 0.014*\"today\" + 0.014*\"state\" + 0.014*\"appointment\" + 0.013*\"age\" + 0.012*\"health\" + 0.012*\"county\" + 0.011*\"receive\" + 0.010*\"students\"')]"
      ]
     },
     "metadata": {},
     "execution_count": 127
    }
   ],
   "source": [
    "# View the topics identified in the above model\n",
    "single_model.print_topics()"
   ]
  },
  {
   "source": [
    "We can use Coherence as one method for considering our model's accuracy:"
   ],
   "cell_type": "markdown",
   "metadata": {}
  },
  {
   "cell_type": "code",
   "execution_count": 130,
   "metadata": {},
   "outputs": [
    {
     "output_type": "stream",
     "name": "stderr",
     "text": [
      "/home/npodpx/miniconda3/lib/python3.8/site-packages/ipykernel/ipkernel.py:283: DeprecationWarning: `should_run_async` will not call `transform_cell` automatically in the future. Please pass the result to `transformed_cell` argument and any exception that happen during thetransform in `preprocessing_exc_tuple` in IPython 7.17 and above.\n",
      "  \n",
      "0.3935333507272311\n"
     ]
    }
   ],
   "source": [
    "# Compute Coherence Score\n",
    "single_coherence_model_lda = CoherenceModel(model=single_model, texts=tweets_nn_lst, dictionary=single_dict, coherence='c_v')\n",
    "single_coherence_lda = single_coherence_model_lda.get_coherence()\n",
    "print(single_coherence_lda)"
   ]
  },
  {
   "source": [
    "We can also visualize the topics and their overlap:"
   ],
   "cell_type": "markdown",
   "metadata": {}
  },
  {
   "cell_type": "code",
   "execution_count": 21,
   "metadata": {},
   "outputs": [
    {
     "output_type": "stream",
     "name": "stderr",
     "text": [
      "/home/npodpx/miniconda3/lib/python3.8/site-packages/ipykernel/ipkernel.py:283: DeprecationWarning: `should_run_async` will not call `transform_cell` automatically in the future. Please pass the result to `transformed_cell` argument and any exception that happen during thetransform in `preprocessing_exc_tuple` in IPython 7.17 and above.\n  \n"
     ]
    },
    {
     "output_type": "execute_result",
     "data": {
      "text/plain": [
       "PreparedData(topic_coordinates=              x         y  topics  cluster       Freq\n",
       "topic                                                \n",
       "3     -0.347104 -0.270027       1        1  21.493818\n",
       "0      0.235138 -0.113997       2        1  18.678340\n",
       "2      0.012179  0.129301       3        1  18.054852\n",
       "1      0.228433 -0.177726       4        1  15.699520\n",
       "5     -0.063569  0.161599       5        1  15.486252\n",
       "4     -0.065077  0.270850       6        1  10.587218, topic_info=             Term         Freq        Total Category  logprob  loglift\n",
       "22         people  2828.000000  2828.000000  Default  30.0000  30.0000\n",
       "1       available  2638.000000  2638.000000  Default  29.0000  29.0000\n",
       "0    appointments  2389.000000  2389.000000  Default  28.0000  28.0000\n",
       "550          near  2360.000000  2360.000000  Default  27.0000  27.0000\n",
       "4            sign  2325.000000  2325.000000  Default  26.0000  26.0000\n",
       "..            ...          ...          ...      ...      ...      ...\n",
       "133        taking   107.510772   108.402962   Topic6  -4.6140   2.2373\n",
       "266          lakh   104.460851   105.362945   Topic6  -4.6428   2.2369\n",
       "540    infections   102.652038   103.545210   Topic6  -4.6603   2.2369\n",
       "204         march   102.509339   103.401968   Topic6  -4.6617   2.2369\n",
       "476          laws   276.449312   292.496050   Topic6  -3.6696   2.1891\n",
       "\n",
       "[213 rows x 6 columns], token_table=      Topic      Freq          Term\n",
       "term                               \n",
       "87        4  0.996178        access\n",
       "434       3  0.995897     according\n",
       "177       6  0.996760        active\n",
       "479       4  0.996811  administered\n",
       "622       4  0.997940   administers\n",
       "...     ...       ...           ...\n",
       "148       5  0.997105         world\n",
       "83        1  0.995938         wrong\n",
       "102       6  0.996099          year\n",
       "149       3  0.997375           you\n",
       "263       3  0.997551         young\n",
       "\n",
       "[189 rows x 3 columns], R=30, lambda_step=0.01, plot_opts={'xlab': 'PC1', 'ylab': 'PC2'}, topic_order=[4, 1, 3, 2, 6, 5])"
      ],
      "text/html": "\n<link rel=\"stylesheet\" type=\"text/css\" href=\"https://cdn.jsdelivr.net/gh/bmabey/pyLDAvis@3.3.1/pyLDAvis/js/ldavis.v1.0.0.css\">\n\n\n<div id=\"ldavis_el19731397749451037602771054418\"></div>\n<script type=\"text/javascript\">\n\nvar ldavis_el19731397749451037602771054418_data = {\"mdsDat\": {\"x\": [-0.3471043460376804, 0.23513812647986368, 0.012179097992583416, 0.22843271946455693, -0.06356884384769389, -0.06507675405162956], \"y\": [-0.27002684721079884, -0.1139974620268362, 0.12930083808831133, -0.17772581548581112, 0.16159919146942556, 0.2708500951657097], \"topics\": [1, 2, 3, 4, 5, 6], \"cluster\": [1, 1, 1, 1, 1, 1], \"Freq\": [21.493818268958382, 18.678339604352335, 18.05485156589462, 15.699519894652322, 15.486252271476515, 10.587218394665827]}, \"tinfo\": {\"Term\": [\"people\", \"available\", \"appointments\", \"near\", \"sign\", \"cvs\", \"india\", \"cases\", \"new\", \"health\", \"total\", \"situation\", \"doses\", \"fully\", \"time\", \"nation\", \"pfizer\", \"deaths\", \"death\", \"dose\", \"getting\", \"virus\", \"times\", \"news\", \"need\", \"going\", \"soon\", \"lack\", \"modi\", \"million\", \"available\", \"appointments\", \"near\", \"sign\", \"cvs\", \"canada\", \"risk\", \"johnson\", \"says\", \"future\", \"cdc\", \"check\", \"wrong\", \"appointment\", \"rate\", \"disease\", \"variants\", \"workers\", \"shows\", \"high\", \"doesn\", \"study\", \"research\", \"latest\", \"vax\", \"trump\", \"ages\", \"sites\", \"based\", \"developed\", \"nation\", \"pfizer\", \"dose\", \"getting\", \"need\", \"going\", \"black\", \"govt\", \"today\", \"second\", \"shot\", \"present\", \"days\", \"tested\", \"drive\", \"data\", \"saturday\", \"weeks\", \"said\", \"age\", \"experts\", \"live\", \"start\", \"adults\", \"think\", \"now\", \"group\", \"here\", \"trials\", \"update\", \"farm\", \"news\", \"india\", \"situation\", \"time\", \"soon\", \"modi\", \"fight\", \"pandemic\", \"tough\", \"global\", \"outbreak\", \"you\", \"indian\", \"public\", \"stop\", \"countries\", \"mass\", \"spread\", \"way\", \"according\", \"effects\", \"read\", \"life\", \"china\", \"possible\", \"coming\", \"biden\", \"die\", \"young\", \"daily\", \"continue\", \"people\", \"doses\", \"lack\", \"know\", \"country\", \"government\", \"anti\", \"administered\", \"dont\", \"doctor\", \"mask\", \"access\", \"states\", \"oxygen\", \"don\", \"dies\", \"like\", \"months\", \"children\", \"hospitals\", \"administers\", \"fake\", \"blood\", \"want\", \"long\", \"testing\", \"shots\", \"wear\", \"reactions\", \"kenyan\", \"health\", \"fully\", \"times\", \"million\", \"world\", \"dying\", \"food\", \"use\", \"stand\", \"americans\", \"passed\", \"australia\", \"moderna\", \"population\", \"emergency\", \"received\", \"county\", \"supply\", \"positive\", \"astrazeneca\", \"work\", \"sick\", \"center\", \"died\", \"april\", \"jab\", \"centre\", \"masks\", \"mrna\", \"city\", \"cases\", \"new\", \"total\", \"deaths\", \"death\", \"virus\", \"reports\", \"state\", \"got\", \"hours\", \"recoveries\", \"toll\", \"active\", \"year\", \"immunity\", \"ministry\", \"union\", \"discharges\", \"dead\", \"day\", \"right\", \"look\", \"reported\", \"wait\", \"flu\", \"spike\", \"taking\", \"lakh\", \"infections\", \"march\", \"laws\"], \"Freq\": [2828.0, 2638.0, 2389.0, 2360.0, 2325.0, 2317.0, 1914.0, 1243.0, 983.0, 965.0, 768.0, 905.0, 835.0, 740.0, 753.0, 728.0, 701.0, 519.0, 500.0, 663.0, 628.0, 457.0, 542.0, 730.0, 539.0, 538.0, 527.0, 459.0, 494.0, 446.0, 2637.7353808367484, 2388.2918290007246, 2359.6473445334977, 2324.992061373677, 2316.215730888246, 299.96838291566854, 292.5703064540705, 261.02809232724877, 253.99127330017558, 289.4365033156893, 210.99790604256876, 207.06105110948465, 207.95052577271377, 198.2707748360619, 188.02355337921105, 188.70976818245853, 179.1838721009759, 178.11377897474017, 177.84833730712415, 168.69784953327584, 166.17330300778997, 158.44365518242907, 144.78518118594982, 128.49905412114768, 127.10398311767764, 122.70897828629266, 121.23878460427227, 114.36012721983641, 112.53754603462416, 110.65010668099376, 727.1764806612885, 701.1547197292915, 662.3118836808006, 628.1377245671613, 538.7891642497315, 538.0979876239588, 439.60027479746105, 421.0995107398539, 417.4437349537095, 413.5041957145315, 386.36534564573316, 358.8268884833585, 329.6796304853256, 292.2398391447908, 280.7005115335555, 272.8445126728152, 270.70721532690305, 262.80382750613154, 255.19616176651743, 230.61551354496882, 220.49081500574397, 218.25569216091824, 214.6873337681372, 208.17784791876824, 204.86288412310017, 203.35242562721322, 202.78261749253207, 194.48963859756657, 186.17393652695617, 176.78650256034143, 341.7916355891078, 625.2409206696549, 1914.1291593795763, 904.778466870277, 753.1483744772229, 526.2827241743305, 493.9312633793548, 447.9131954839935, 385.9898468793757, 389.8132843407073, 332.36655941176474, 330.3752338265657, 288.94052928891557, 273.94086483933387, 264.4044253550006, 260.87185180449757, 248.57615019427547, 247.3264552274827, 215.7462902756495, 213.5651727154683, 211.0287960005188, 194.39284116700946, 189.56007974977064, 188.09662978383304, 187.34788433510383, 187.80485283182497, 184.62617748791706, 177.57431255199327, 174.71744115586307, 171.59444409670985, 169.2953374980742, 169.93508650260696, 2827.2769676852577, 834.5133224426725, 458.1874345383925, 418.23954792296075, 388.77409839711083, 368.2867213450998, 330.963241389494, 288.0762518020511, 259.87123530647045, 254.56199334423704, 246.02925629809027, 239.06612103636337, 227.69779165782842, 227.29204792630463, 217.76797555324427, 213.44392718677457, 205.00508372806013, 204.88485559584385, 194.5600812388283, 186.06894318634772, 184.5397420090282, 172.8451668677798, 169.71776740661352, 168.52998656189723, 163.20025218938818, 155.35621292278833, 152.17602453339748, 149.28866190136569, 147.18194325814363, 145.6963633518201, 964.8954767285944, 739.7060504766035, 541.6979988995481, 445.3387312694357, 433.4119485791834, 405.5900490774402, 409.2457453771969, 394.14952621464437, 374.48531946306923, 357.89388236140394, 365.9579522154141, 343.11928503562115, 337.2112310872929, 315.211180360869, 304.2728166683746, 282.74466316601934, 272.2461615904487, 247.8304007664277, 239.96087621715478, 235.99678290576432, 229.97000105803124, 205.7706249706479, 204.98533633170976, 203.6985091287894, 199.2663013366094, 194.52334709458708, 182.45454899161797, 178.53147480266034, 176.75534384605103, 166.5291850102352, 1242.6956579633415, 982.1104884599673, 767.8254931828751, 518.269198690188, 499.52498836237896, 457.0697938263668, 346.5236072673206, 309.95567042594604, 271.780301346972, 269.9134930951658, 260.23299756821, 260.02504015161634, 244.90362864258373, 244.06355583757392, 240.2189196114139, 211.47406479878026, 207.75877311561382, 225.2109522774686, 197.07471586738706, 186.32220824245582, 177.62618187302084, 165.83773598352786, 121.07701840676323, 117.62618398625133, 116.41884702901764, 108.77924554810492, 107.5107719793282, 104.46085109191424, 102.65203776523502, 102.50933852950187, 276.4493120479472], \"Total\": [2828.0, 2638.0, 2389.0, 2360.0, 2325.0, 2317.0, 1914.0, 1243.0, 983.0, 965.0, 768.0, 905.0, 835.0, 740.0, 753.0, 728.0, 701.0, 519.0, 500.0, 663.0, 628.0, 457.0, 542.0, 730.0, 539.0, 538.0, 527.0, 459.0, 494.0, 446.0, 2638.623456616976, 2389.179456368598, 2360.5350535331922, 2325.8796300724275, 2317.103271527123, 300.8634506131959, 293.4685003859281, 261.91687584541984, 254.88322127256748, 290.4612010829543, 211.89094039599328, 207.95080029712975, 208.84833688671995, 199.1616767673403, 188.91700691802407, 189.60992858701715, 180.07721137618438, 179.01032919347932, 178.74749677736668, 169.5977739821312, 167.08325560701792, 159.3375449071675, 145.6999354768229, 129.40225205670498, 127.9990400510728, 123.60219581433432, 122.13620096921267, 115.24992690045568, 113.43833956707411, 111.54270869654013, 728.0289088683152, 701.9938802356934, 663.1507703793364, 628.9782549316587, 539.630138067041, 538.941291932736, 440.4481618442043, 421.9459604833853, 418.28492088085585, 414.34364496363514, 387.20483815430845, 359.6846427394873, 330.52103792596137, 293.08187173866486, 281.5404508485483, 273.6850014487005, 271.54977357774004, 263.64612741977936, 256.03620078783314, 231.4541556742244, 221.33470152449414, 219.09539505582626, 215.529134772338, 209.01621048186695, 205.70410331295312, 204.1922375110611, 203.6209851151362, 195.32962228278078, 187.01784642578835, 177.628718091046, 366.32216166078393, 730.8427303874748, 1914.9588767358082, 905.6127755001618, 753.9733823460352, 527.1130038605539, 494.7595337894396, 448.7362038940716, 386.8116846012245, 390.65541465083186, 333.18705900834834, 331.19775902963136, 289.76064507603616, 274.76135799518465, 265.22763898222206, 261.69603171554826, 249.3991714206605, 248.15194374656136, 216.56796591668657, 214.3890577874633, 211.8693095326026, 195.21554827337377, 190.38638198866298, 188.92256853573676, 188.1711451552285, 188.6307083543652, 185.45236769446706, 178.39894883887405, 175.53790210820335, 172.42232311077706, 170.11771077105016, 170.76170498627798, 2828.1255301209458, 835.3568499203187, 459.0474944779674, 419.08511105820423, 389.61967803124526, 369.131552557967, 331.8050652354794, 288.92146916625427, 260.7169139334249, 255.40425995864953, 246.8728214840617, 239.91697977304997, 228.54145883386414, 228.13697611231277, 218.61189478354572, 214.28461230868504, 205.84862893195609, 205.7338368868006, 195.4049449032379, 186.91261358137166, 185.38188426569337, 173.69439869307223, 170.56266375281956, 169.37390759338422, 164.0456837459648, 156.2030074681691, 153.02066100366582, 150.13176458241415, 148.02550432296445, 146.53597740524913, 965.7512690695, 740.5512772739859, 542.5464487506828, 446.18211529036967, 434.25730750256565, 406.4415662810131, 410.11397782372046, 394.9919800320634, 375.36103236040964, 358.7368476544979, 366.82775342100047, 343.96749553275043, 338.05300073851544, 316.0564600834391, 305.11447399589684, 283.5889399292422, 273.08992049138584, 248.6760352697824, 240.80327177509238, 236.84103486721412, 230.8179664857244, 206.6221980214593, 205.83375649928988, 204.542582869413, 200.11199541525914, 195.36753415615917, 183.30293516344184, 179.37922035996488, 177.60053881337706, 167.37384107552177, 1243.5867229404441, 983.0016098793018, 768.7182090649632, 519.1588087510074, 500.41861543456974, 457.9623691353145, 347.41396377986325, 310.85049602268, 272.6738431697869, 270.8050096073757, 261.1267131739568, 260.93012884711305, 245.79646451637566, 244.95555513218193, 241.1108643045887, 212.36608614719677, 208.65401638161717, 226.18631312847825, 197.96552788984474, 187.21423804777265, 178.51956429582305, 166.73170833171392, 121.96858926151633, 118.51774717602585, 117.3095011131604, 109.66993202587582, 108.40296245828121, 105.36294546299075, 103.54521049054405, 103.40196812556495, 292.4960497305497], \"Category\": [\"Default\", \"Default\", \"Default\", \"Default\", \"Default\", \"Default\", \"Default\", \"Default\", \"Default\", \"Default\", \"Default\", \"Default\", \"Default\", \"Default\", \"Default\", \"Default\", \"Default\", \"Default\", \"Default\", \"Default\", \"Default\", \"Default\", \"Default\", \"Default\", \"Default\", \"Default\", \"Default\", \"Default\", \"Default\", \"Default\", \"Topic1\", \"Topic1\", \"Topic1\", \"Topic1\", \"Topic1\", \"Topic1\", \"Topic1\", \"Topic1\", \"Topic1\", \"Topic1\", \"Topic1\", \"Topic1\", \"Topic1\", \"Topic1\", \"Topic1\", \"Topic1\", \"Topic1\", \"Topic1\", \"Topic1\", \"Topic1\", \"Topic1\", \"Topic1\", \"Topic1\", \"Topic1\", \"Topic1\", \"Topic1\", \"Topic1\", \"Topic1\", \"Topic1\", \"Topic1\", \"Topic2\", \"Topic2\", \"Topic2\", \"Topic2\", \"Topic2\", \"Topic2\", \"Topic2\", \"Topic2\", \"Topic2\", \"Topic2\", \"Topic2\", \"Topic2\", \"Topic2\", \"Topic2\", \"Topic2\", \"Topic2\", \"Topic2\", \"Topic2\", \"Topic2\", \"Topic2\", \"Topic2\", \"Topic2\", \"Topic2\", \"Topic2\", \"Topic2\", \"Topic2\", \"Topic2\", \"Topic2\", \"Topic2\", \"Topic2\", \"Topic2\", \"Topic2\", \"Topic3\", \"Topic3\", \"Topic3\", \"Topic3\", \"Topic3\", \"Topic3\", \"Topic3\", \"Topic3\", \"Topic3\", \"Topic3\", \"Topic3\", \"Topic3\", \"Topic3\", \"Topic3\", \"Topic3\", \"Topic3\", \"Topic3\", \"Topic3\", \"Topic3\", \"Topic3\", \"Topic3\", \"Topic3\", \"Topic3\", \"Topic3\", \"Topic3\", \"Topic3\", \"Topic3\", \"Topic3\", \"Topic3\", \"Topic3\", \"Topic4\", \"Topic4\", \"Topic4\", \"Topic4\", \"Topic4\", \"Topic4\", \"Topic4\", \"Topic4\", \"Topic4\", \"Topic4\", \"Topic4\", \"Topic4\", \"Topic4\", \"Topic4\", \"Topic4\", \"Topic4\", \"Topic4\", \"Topic4\", \"Topic4\", \"Topic4\", \"Topic4\", \"Topic4\", \"Topic4\", \"Topic4\", \"Topic4\", \"Topic4\", \"Topic4\", \"Topic4\", \"Topic4\", \"Topic4\", \"Topic5\", \"Topic5\", \"Topic5\", \"Topic5\", \"Topic5\", \"Topic5\", \"Topic5\", \"Topic5\", \"Topic5\", \"Topic5\", \"Topic5\", \"Topic5\", \"Topic5\", \"Topic5\", \"Topic5\", \"Topic5\", \"Topic5\", \"Topic5\", \"Topic5\", \"Topic5\", \"Topic5\", \"Topic5\", \"Topic5\", \"Topic5\", \"Topic5\", \"Topic5\", \"Topic5\", \"Topic5\", \"Topic5\", \"Topic5\", \"Topic6\", \"Topic6\", \"Topic6\", \"Topic6\", \"Topic6\", \"Topic6\", \"Topic6\", \"Topic6\", \"Topic6\", \"Topic6\", \"Topic6\", \"Topic6\", \"Topic6\", \"Topic6\", \"Topic6\", \"Topic6\", \"Topic6\", \"Topic6\", \"Topic6\", \"Topic6\", \"Topic6\", \"Topic6\", \"Topic6\", \"Topic6\", \"Topic6\", \"Topic6\", \"Topic6\", \"Topic6\", \"Topic6\", \"Topic6\", \"Topic6\"], \"logprob\": [30.0, 29.0, 28.0, 27.0, 26.0, 25.0, 24.0, 23.0, 22.0, 21.0, 20.0, 19.0, 18.0, 17.0, 16.0, 15.0, 14.0, 13.0, 12.0, 11.0, 10.0, 9.0, 8.0, 7.0, 6.0, 5.0, 4.0, 3.0, 2.0, 1.0, -2.1221, -2.2214, -2.2335, -2.2483, -2.2521, -4.2961, -4.321, -4.4351, -4.4624, -4.3318, -4.6479, -4.6667, -4.6624, -4.7101, -4.7632, -4.7595, -4.8113, -4.8173, -4.8188, -4.8716, -4.8867, -4.9343, -5.0245, -5.1438, -5.1547, -5.1899, -5.202, -5.2604, -5.2765, -5.2934, -3.2702, -3.3066, -3.3636, -3.4166, -3.57, -3.5713, -3.7735, -3.8165, -3.8252, -3.8347, -3.9026, -3.9765, -4.0612, -4.1818, -4.2221, -4.2504, -4.2583, -4.2879, -4.3173, -4.4186, -4.4635, -4.4737, -4.4902, -4.521, -4.537, -4.5444, -4.5472, -4.589, -4.6327, -4.6844, -4.0251, -3.4212, -2.2684, -3.0177, -3.2011, -3.5596, -3.623, -3.7208, -3.8696, -3.8597, -4.0192, -4.0252, -4.1592, -4.2125, -4.2479, -4.2614, -4.3096, -4.3147, -4.4513, -4.4615, -4.4734, -4.5555, -4.5807, -4.5884, -4.5924, -4.59, -4.6071, -4.646, -4.6622, -4.6803, -4.6937, -4.69, -1.7385, -2.9588, -3.5583, -3.6496, -3.7226, -3.7767, -3.8836, -4.0224, -4.1254, -4.1461, -4.1802, -4.2089, -4.2576, -4.2594, -4.3022, -4.3222, -4.3626, -4.3632, -4.4149, -4.4595, -4.4677, -4.5332, -4.5515, -4.5585, -4.5906, -4.6399, -4.6606, -4.6797, -4.6939, -4.7041, -2.7999, -3.0657, -3.3772, -3.5731, -3.6002, -3.6666, -3.6576, -3.6952, -3.7464, -3.7917, -3.7694, -3.8339, -3.8512, -3.9187, -3.954, -4.0274, -4.0652, -4.1592, -4.1915, -4.2081, -4.234, -4.3452, -4.349, -4.3553, -4.3773, -4.4014, -4.4654, -4.4872, -4.4972, -4.5568, -2.1666, -2.4019, -2.6481, -3.0411, -3.078, -3.1668, -3.4437, -3.5552, -3.6866, -3.6935, -3.73, -3.7308, -3.7908, -3.7942, -3.8101, -3.9375, -3.9552, -3.8746, -4.008, -4.0641, -4.1119, -4.1806, -4.4952, -4.5241, -4.5344, -4.6023, -4.614, -4.6428, -4.6603, -4.6617, -3.6696], \"loglift\": [30.0, 29.0, 28.0, 27.0, 26.0, 25.0, 24.0, 23.0, 22.0, 21.0, 20.0, 19.0, 18.0, 17.0, 16.0, 15.0, 14.0, 13.0, 12.0, 11.0, 10.0, 9.0, 8.0, 7.0, 6.0, 5.0, 4.0, 3.0, 2.0, 1.0, 1.5371, 1.537, 1.537, 1.537, 1.537, 1.5344, 1.5343, 1.534, 1.5339, 1.5339, 1.5332, 1.5331, 1.5331, 1.5329, 1.5327, 1.5326, 1.5324, 1.5324, 1.5324, 1.5321, 1.5319, 1.5318, 1.5311, 1.5304, 1.5304, 1.5302, 1.53, 1.5297, 1.5294, 1.5294, 1.6766, 1.6766, 1.6765, 1.6765, 1.6762, 1.6762, 1.6759, 1.6758, 1.6758, 1.6758, 1.6756, 1.6754, 1.6753, 1.6749, 1.6748, 1.6747, 1.6747, 1.6746, 1.6745, 1.6742, 1.674, 1.674, 1.6739, 1.6738, 1.6737, 1.6737, 1.6737, 1.6735, 1.6733, 1.6731, 1.6085, 1.5217, 1.7113, 1.7108, 1.7107, 1.7102, 1.7101, 1.7099, 1.7096, 1.7096, 1.7093, 1.7093, 1.7089, 1.7088, 1.7086, 1.7086, 1.7085, 1.7084, 1.708, 1.7079, 1.7078, 1.7075, 1.7074, 1.7074, 1.7074, 1.7074, 1.7073, 1.7071, 1.7071, 1.7069, 1.7069, 1.7069, 1.8512, 1.8505, 1.8497, 1.8495, 1.8494, 1.8492, 1.849, 1.8486, 1.8483, 1.8482, 1.8481, 1.848, 1.8478, 1.8478, 1.8477, 1.8476, 1.8474, 1.8474, 1.8472, 1.847, 1.847, 1.8466, 1.8466, 1.8465, 1.8464, 1.8461, 1.846, 1.8459, 1.8458, 1.8458, 1.8643, 1.8641, 1.8637, 1.8633, 1.8633, 1.8631, 1.8631, 1.8631, 1.8629, 1.8629, 1.8628, 1.8627, 1.8627, 1.8625, 1.8625, 1.8622, 1.8621, 1.8618, 1.8617, 1.8616, 1.8615, 1.8611, 1.8611, 1.8611, 1.861, 1.8609, 1.8606, 1.8605, 1.8604, 1.8602, 2.2448, 2.2446, 2.2444, 2.2438, 2.2437, 2.2436, 2.243, 2.2426, 2.2422, 2.2422, 2.2421, 2.242, 2.2419, 2.2419, 2.2418, 2.2413, 2.2412, 2.2412, 2.241, 2.2407, 2.2405, 2.2401, 2.2382, 2.238, 2.2379, 2.2374, 2.2373, 2.2369, 2.2369, 2.2369, 2.1891]}, \"token.table\": {\"Topic\": [4, 3, 6, 4, 4, 2, 2, 1, 5, 4, 1, 1, 5, 5, 5, 1, 1, 3, 2, 4, 1, 6, 1, 5, 5, 1, 4, 3, 5, 3, 3, 3, 4, 5, 1, 3, 2, 6, 2, 6, 6, 6, 1, 3, 5, 4, 6, 1, 4, 1, 4, 4, 2, 4, 2, 5, 3, 5, 2, 4, 2, 3, 6, 3, 6, 5, 5, 1, 2, 3, 2, 6, 4, 2, 2, 5, 2, 1, 4, 6, 6, 3, 3, 6, 5, 1, 4, 4, 4, 6, 1, 2, 3, 5, 6, 3, 4, 2, 4, 6, 6, 4, 5, 3, 5, 6, 5, 3, 4, 5, 2, 1, 2, 6, 2, 4, 2, 3, 4, 3, 5, 4, 2, 5, 5, 3, 2, 3, 1, 4, 3, 5, 6, 6, 6, 1, 6, 1, 2, 2, 1, 2, 2, 4, 1, 5, 1, 1, 3, 3, 6, 3, 5, 2, 6, 4, 3, 1, 5, 6, 2, 4, 2, 3, 5, 2, 6, 6, 3, 2, 1, 6, 2, 5, 1, 1, 6, 6, 4, 3, 4, 2, 5, 1, 5, 1, 6, 3, 3], \"Freq\": [0.9961779288238899, 0.9958969539546791, 0.9967596583704214, 0.9968106587270466, 0.9979400130319851, 0.9951381259878161, 0.9980378158564427, 0.9906972628901478, 0.9979459939526268, 0.9975736800916284, 0.9941671671669174, 0.9995063341242726, 0.9944431346409214, 0.9964489478451838, 0.9971872472099379, 0.9997637189893797, 0.9961358781453696, 0.9977637265159316, 0.9989824867418499, 0.9967011317691721, 0.9971300913705667, 0.9995282010256133, 0.9957952879234561, 0.9959493694646109, 0.9928919023458076, 0.995427763222016, 0.9979276629696427, 0.9937761703354552, 0.9977664306852283, 0.9975607337879215, 0.9955393688160985, 0.9983994677352507, 0.9984095309703644, 0.9960089318220728, 0.9995238574211688, 0.9934297800858936, 0.9974971173243891, 0.9935141789404778, 0.9984235861982315, 0.9951227473786144, 0.9991634695000181, 0.9977679108367721, 0.9951345210916779, 0.9969356925100324, 0.9973473353968577, 0.9940051117304004, 0.9947551506894036, 0.9967832455211477, 0.9984171761320074, 0.9935166716552032, 0.9972009995880985, 0.997250220852154, 0.9982646926902035, 0.9995728173889366, 0.9980803794022515, 0.9989135799149347, 0.9937733019519964, 0.996347357825077, 0.9939697593043428, 0.9960021814272821, 0.9336044492898948, 0.06278626413353093, 0.002729837571023084, 0.9983593837811995, 0.9888372118137541, 0.9972837360247222, 0.999255585276937, 0.9949693760216292, 0.9984446919683018, 0.9964372595625972, 0.9982534425422102, 0.9975287575736874, 0.9969345547674652, 0.9977581003920464, 0.996950289211178, 0.9992220884470348, 0.993192930661301, 0.9964753429948073, 0.9951174318100562, 0.9970273459544088, 0.9953927239745392, 0.999499270325093, 0.9972290208465268, 0.9947345658194993, 0.9981187552079898, 0.9964993632332383, 0.996342349402926, 0.9974107620872898, 0.9977181130698499, 0.98706428092911, 0.9891636193774239, 0.03760734550136082, 0.013675398364131208, 0.003418849591032802, 0.9436024871250533, 0.9951166843491107, 0.9958774127553863, 0.9950003738985608, 0.9936256552315994, 0.99561146263638, 0.9961125679438052, 0.9964644893722413, 0.9978859292664787, 0.995357909637259, 0.997350599116685, 0.9935673055336628, 0.9968851016372727, 0.9984648425395217, 0.9964330763577585, 0.9966185980212138, 0.9985867197637597, 0.9997733337904084, 0.9988322778462705, 0.9989810699502061, 0.8551771455243734, 0.14366976044809474, 0.9941612006137279, 0.9963835533394289, 0.9950162567607934, 0.9979016026828111, 0.9977434820204281, 0.9996020225732705, 0.998584203846108, 0.9966573691195548, 0.9966641990818023, 0.9966563855913623, 0.9980965472023693, 0.9953713761245511, 0.9951459800629703, 0.9930721105957052, 0.9979705376790763, 0.9979232619953756, 0.9956851860912208, 0.9920586991504874, 0.9988084423108405, 0.9951960481345975, 0.9970895946454246, 0.998403575220809, 0.9959529129683822, 0.9979754224409889, 0.9965348002581034, 0.9991706281300264, 0.9968883700935878, 0.9933299137713085, 0.9958181412839716, 0.9969887164718155, 0.9996218075686057, 0.9891546404056701, 0.9993233581540153, 0.9978884909831434, 0.9938913792185285, 0.9973774241528174, 0.9963740712458857, 0.9975449501391219, 0.9972639708362636, 0.9976308069589346, 0.9973403046619186, 0.9916055885764602, 0.9972814619267635, 0.9962827357376299, 0.9963086364494439, 0.9922984359413551, 0.9965771061363714, 0.9987089964064693, 0.9989928074325414, 0.9969281204826844, 0.9964353336610735, 0.9990657056688734, 0.9983222691245233, 0.9945574903933446, 0.995127952134128, 0.9968655461660464, 0.9964604930002154, 0.9974886071560671, 0.9940180583209162, 0.992194941066166, 0.9978985846869219, 0.9956314797710686, 0.9977924132548098, 0.9981852721800336, 0.992461524810808, 0.9975492626191675, 0.9964562269645721, 0.994356028515051, 0.9971046946571919, 0.9959380242171615, 0.9960990673117567, 0.9973749193033562, 0.9975506471368807], \"Term\": [\"access\", \"according\", \"active\", \"administered\", \"administers\", \"adults\", \"age\", \"ages\", \"americans\", \"anti\", \"appointment\", \"appointments\", \"april\", \"astrazeneca\", \"australia\", \"available\", \"based\", \"biden\", \"black\", \"blood\", \"canada\", \"cases\", \"cdc\", \"center\", \"centre\", \"check\", \"children\", \"china\", \"city\", \"coming\", \"continue\", \"countries\", \"country\", \"county\", \"cvs\", \"daily\", \"data\", \"day\", \"days\", \"dead\", \"death\", \"deaths\", \"developed\", \"die\", \"died\", \"dies\", \"discharges\", \"disease\", \"doctor\", \"doesn\", \"don\", \"dont\", \"dose\", \"doses\", \"drive\", \"dying\", \"effects\", \"emergency\", \"experts\", \"fake\", \"farm\", \"farm\", \"farm\", \"fight\", \"flu\", \"food\", \"fully\", \"future\", \"getting\", \"global\", \"going\", \"got\", \"government\", \"govt\", \"group\", \"health\", \"here\", \"high\", \"hospitals\", \"hours\", \"immunity\", \"india\", \"indian\", \"infections\", \"jab\", \"johnson\", \"kenyan\", \"know\", \"lack\", \"lakh\", \"latest\", \"laws\", \"laws\", \"laws\", \"laws\", \"life\", \"like\", \"live\", \"long\", \"look\", \"march\", \"mask\", \"masks\", \"mass\", \"million\", \"ministry\", \"moderna\", \"modi\", \"months\", \"mrna\", \"nation\", \"near\", \"need\", \"new\", \"news\", \"news\", \"now\", \"outbreak\", \"oxygen\", \"pandemic\", \"passed\", \"people\", \"pfizer\", \"population\", \"positive\", \"possible\", \"present\", \"public\", \"rate\", \"reactions\", \"read\", \"received\", \"recoveries\", \"reported\", \"reports\", \"research\", \"right\", \"risk\", \"said\", \"saturday\", \"says\", \"second\", \"shot\", \"shots\", \"shows\", \"sick\", \"sign\", \"sites\", \"situation\", \"soon\", \"spike\", \"spread\", \"stand\", \"start\", \"state\", \"states\", \"stop\", \"study\", \"supply\", \"taking\", \"tested\", \"testing\", \"think\", \"time\", \"times\", \"today\", \"toll\", \"total\", \"tough\", \"trials\", \"trump\", \"union\", \"update\", \"use\", \"variants\", \"vax\", \"virus\", \"wait\", \"want\", \"way\", \"wear\", \"weeks\", \"work\", \"workers\", \"world\", \"wrong\", \"year\", \"you\", \"young\"]}, \"R\": 30, \"lambda.step\": 0.01, \"plot.opts\": {\"xlab\": \"PC1\", \"ylab\": \"PC2\"}, \"topic.order\": [4, 1, 3, 2, 6, 5]};\n\nfunction LDAvis_load_lib(url, callback){\n  var s = document.createElement('script');\n  s.src = url;\n  s.async = true;\n  s.onreadystatechange = s.onload = callback;\n  s.onerror = function(){console.warn(\"failed to load library \" + url);};\n  document.getElementsByTagName(\"head\")[0].appendChild(s);\n}\n\nif(typeof(LDAvis) !== \"undefined\"){\n   // already loaded: just create the visualization\n   !function(LDAvis){\n       new LDAvis(\"#\" + \"ldavis_el19731397749451037602771054418\", ldavis_el19731397749451037602771054418_data);\n   }(LDAvis);\n}else if(typeof define === \"function\" && define.amd){\n   // require.js is available: use it to load d3/LDAvis\n   require.config({paths: {d3: \"https://d3js.org/d3.v5\"}});\n   require([\"d3\"], function(d3){\n      window.d3 = d3;\n      LDAvis_load_lib(\"https://cdn.jsdelivr.net/gh/bmabey/pyLDAvis@3.3.1/pyLDAvis/js/ldavis.v3.0.0.js\", function(){\n        new LDAvis(\"#\" + \"ldavis_el19731397749451037602771054418\", ldavis_el19731397749451037602771054418_data);\n      });\n    });\n}else{\n    // require.js not available: dynamically load d3 & LDAvis\n    LDAvis_load_lib(\"https://d3js.org/d3.v5.js\", function(){\n         LDAvis_load_lib(\"https://cdn.jsdelivr.net/gh/bmabey/pyLDAvis@3.3.1/pyLDAvis/js/ldavis.v3.0.0.js\", function(){\n                 new LDAvis(\"#\" + \"ldavis_el19731397749451037602771054418\", ldavis_el19731397749451037602771054418_data);\n            })\n         });\n}\n</script>"
     },
     "metadata": {},
     "execution_count": 21
    }
   ],
   "source": [
    "pyLDAvis.enable_notebook()\n",
    "single_plot = pyLDAvis.gensim_models.prepare(single_model, single_corpus, single_dict)\n",
    "single_plot\n"
   ]
  },
  {
   "source": [
    "We can also try building a Mallet LDA model using either parameters identified above or any other parameters."
   ],
   "cell_type": "markdown",
   "metadata": {}
  },
  {
   "cell_type": "code",
   "execution_count": 97,
   "metadata": {},
   "outputs": [
    {
     "output_type": "stream",
     "name": "stderr",
     "text": [
      "/home/npodpx/miniconda3/lib/python3.8/site-packages/ipykernel/ipkernel.py:283: DeprecationWarning: `should_run_async` will not call `transform_cell` automatically in the future. Please pass the result to `transformed_cell` argument and any exception that happen during thetransform in `preprocessing_exc_tuple` in IPython 7.17 and above.\n  \n"
     ]
    }
   ],
   "source": [
    "# Download MalletLDA with: wget http://mallet.cs.umass.edu/dist/mallet-2.0.8.zip\n",
    "mallet_path = '/usr/lib/mallet-2.0.8/bin/mallet'\n",
    "mallet_lda = gensim.models.wrappers.LdaMallet(mallet_path=mallet_path, corpus=single_corpus, num_topics=4, alpha='0.6', id2word=single_dict)"
   ]
  },
  {
   "cell_type": "code",
   "execution_count": 99,
   "metadata": {},
   "outputs": [
    {
     "output_type": "stream",
     "name": "stdout",
     "text": [
      "[(0, '0.046*\"people\" + 0.016*\"virus\" + 0.015*\"anti\" + 0.014*\"dose\" + 0.014*\"fully\" + 0.013*\"pfizer\" + 0.013*\"cdc\" + 0.013*\"risk\" + 0.012*\"variants\" + 0.010*\"doctor\"'), (1, '0.052*\"india\" + 0.035*\"cases\" + 0.034*\"doses\" + 0.015*\"total\" + 0.015*\"health\" + 0.014*\"deaths\" + 0.013*\"million\" + 0.011*\"sputnik\" + 0.011*\"world\" + 0.010*\"news\"'), (2, '0.038*\"emergency\" + 0.032*\"moderna\" + 0.029*\"health\" + 0.028*\"johnson\" + 0.027*\"immunity\" + 0.027*\"usa\" + 0.026*\"wait\" + 0.026*\"fake\" + 0.025*\"die\" + 0.024*\"company\"'), (3, '0.080*\"appointments\" + 0.072*\"sign\" + 0.070*\"cvs\" + 0.028*\"india\" + 0.027*\"age\" + 0.026*\"people\" + 0.022*\"today\" + 0.020*\"modi\" + 0.017*\"group\" + 0.016*\"hospital\"')]\n",
      "/home/npodpx/miniconda3/lib/python3.8/site-packages/ipykernel/ipkernel.py:283: DeprecationWarning: `should_run_async` will not call `transform_cell` automatically in the future. Please pass the result to `transformed_cell` argument and any exception that happen during thetransform in `preprocessing_exc_tuple` in IPython 7.17 and above.\n",
      "  \n"
     ]
    }
   ],
   "source": [
    "print(mallet_lda.show_topics())"
   ]
  },
  {
   "cell_type": "code",
   "execution_count": 98,
   "metadata": {},
   "outputs": [
    {
     "output_type": "stream",
     "name": "stderr",
     "text": [
      "/home/npodpx/miniconda3/lib/python3.8/site-packages/ipykernel/ipkernel.py:283: DeprecationWarning: `should_run_async` will not call `transform_cell` automatically in the future. Please pass the result to `transformed_cell` argument and any exception that happen during thetransform in `preprocessing_exc_tuple` in IPython 7.17 and above.\n",
      "  \n",
      "0.3216132084984953\n"
     ]
    }
   ],
   "source": [
    "coherence_model_malletlda = CoherenceModel(model=mallet_lda,texts=tweets_nn_lst, dictionary=single_dict, coherence='c_v')\n",
    "coherence_malletlda = coherence_model_malletlda.get_coherence()\n",
    "print(coherence_malletlda)"
   ]
  },
  {
   "source": [
    "Additional things to try? Create bigram and trigram lists as well? Additional models to try? If so, use Gensim.models.phrases and gensim.models.phraser?"
   ],
   "cell_type": "markdown",
   "metadata": {}
  },
  {
   "source": [
    "Other resources used: https://www.geeksforgeeks.org/python-convert-a-string-representation-of-list-into-list/; https://stackoverflow.com/questions/66759852/no-module-named-pyldavis; http://mallet.cs.umass.edu/download.php; https://www.machinelearningplus.com/nlp/topic-modeling-gensim-python/; https://thinkinfi.com/guide-to-build-best-lda-model-using-gensim-python/; https://medium.com/swlh/topic-modeling-lda-mallet-implementation-in-python-part-2-602ffb38d396; https://www.linkedin.com/pulse/nlp-a-complete-guide-topic-modeling-latent-dirichlet-sahil-m/"
   ],
   "cell_type": "markdown",
   "metadata": {}
  }
 ]
}