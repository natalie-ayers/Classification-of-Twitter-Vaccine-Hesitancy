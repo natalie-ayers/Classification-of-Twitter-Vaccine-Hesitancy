{
 "metadata": {
  "language_info": {
   "codemirror_mode": {
    "name": "ipython",
    "version": 3
   },
   "file_extension": ".py",
   "mimetype": "text/x-python",
   "name": "python",
   "nbconvert_exporter": "python",
   "pygments_lexer": "ipython3",
   "version": "3.8.2"
  },
  "orig_nbformat": 2,
  "kernelspec": {
   "name": "python382jvsc74a57bd0cda595cc091c472e9dda46637922ba357e006ec97741f8a0b4e3fc352369fe49",
   "display_name": "Python 3.8.2 64-bit ('base': conda)"
  }
 },
 "nbformat": 4,
 "nbformat_minor": 2,
 "cells": [
  {
   "source": [
    "# LDA for COVID-19 Tweet Topic Identification\n",
    "\n",
    "This notebook to identify the primary topics in COVID-19 vaccine tweets is based on a variety of guides written by others:\n",
    "https://www.machinelearningplus.com/nlp/topic-modeling-gensim-python/; \n",
    "https://thinkinfi.com/guide-to-build-best-lda-model-using-gensim-python/; https://towardsdatascience.com/topic-modeling-and-latent-dirichlet-allocation-in-python-9bf156893c24\n",
    "\n",
    "\n"
   ],
   "cell_type": "markdown",
   "metadata": {}
  },
  {
   "source": [
    "First, we load in the packages we'll need - we'll primarily be using Gensim for our LDA. We'll also load in our pre-processed data."
   ],
   "cell_type": "markdown",
   "metadata": {}
  },
  {
   "cell_type": "code",
   "execution_count": 1,
   "metadata": {},
   "outputs": [],
   "source": [
    "import pandas as pd\n",
    "import numpy as np\n",
    "import gensim\n",
    "import gensim.corpora as corpora\n",
    "from gensim.models import CoherenceModel\n",
    "import pyLDAvis\n",
    "import pyLDAvis.gensim_models\n",
    "import matplotlib.pyplot as plt"
   ]
  },
  {
   "cell_type": "code",
   "execution_count": 3,
   "metadata": {},
   "outputs": [
    {
     "output_type": "stream",
     "name": "stderr",
     "text": [
      "/home/npodpx/miniconda3/lib/python3.8/site-packages/ipykernel/ipkernel.py:287: DeprecationWarning: `should_run_async` will not call `transform_cell` automatically in the future. Please pass the result to `transformed_cell` argument and any exception that happen during thetransform in `preprocessing_exc_tuple` in IPython 7.17 and above.\n  and should_run_async(code)\n"
     ]
    },
    {
     "output_type": "execute_result",
     "data": {
      "text/plain": [
       "                       created_at  \\\n",
       "0  Tue Apr 27 04:03:47 +0000 2021   \n",
       "1  Tue Apr 27 04:03:50 +0000 2021   \n",
       "2  Tue Apr 27 04:04:06 +0000 2021   \n",
       "3  Tue Apr 27 04:03:50 +0000 2021   \n",
       "4  Tue Apr 27 04:04:00 +0000 2021   \n",
       "\n",
       "                                                text in_reply_to_screen_name  \\\n",
       "0  We could have just, you know, not hoarded mill...                     NaN   \n",
       "1  @kmcinnes2 @Rythmol81 Don't know about Liberal...               kmcinnes2   \n",
       "2  PharmEasy initiates COVID-19 vaccination drive...                     NaN   \n",
       "3  India to receive first batch of Russia's Covid...                     NaN   \n",
       "4  @axios \"Several state university systems and p...                   axios   \n",
       "\n",
       "   retweet_count favorite_count           source               id_str  \\\n",
       "0            1.0              1  Twitter Web App  1386893816607559684   \n",
       "1            0.0              0  Twitter Web App  1386893829249318912   \n",
       "2            0.0              1            IFTTT  1386893894336532480   \n",
       "3            0.0              0            IFTTT  1386893829106774019   \n",
       "4            0.0              0        TweetDeck  1386893868961091587   \n",
       "\n",
       "  is_retweet                                           text_cln  \n",
       "0      False  just know hoarded millions doses vaccine allow...  \n",
       "1      False  don t know liberals s given doses capita count...  \n",
       "2      False     pharmeasy initiates covid 19 vaccination drive  \n",
       "3      False  india receive batch russia s covid 19 vaccine ...  \n",
       "4      False   several state university systems public unive...  "
      ],
      "text/html": "<div>\n<style scoped>\n    .dataframe tbody tr th:only-of-type {\n        vertical-align: middle;\n    }\n\n    .dataframe tbody tr th {\n        vertical-align: top;\n    }\n\n    .dataframe thead th {\n        text-align: right;\n    }\n</style>\n<table border=\"1\" class=\"dataframe\">\n  <thead>\n    <tr style=\"text-align: right;\">\n      <th></th>\n      <th>created_at</th>\n      <th>text</th>\n      <th>in_reply_to_screen_name</th>\n      <th>retweet_count</th>\n      <th>favorite_count</th>\n      <th>source</th>\n      <th>id_str</th>\n      <th>is_retweet</th>\n      <th>text_cln</th>\n    </tr>\n  </thead>\n  <tbody>\n    <tr>\n      <th>0</th>\n      <td>Tue Apr 27 04:03:47 +0000 2021</td>\n      <td>We could have just, you know, not hoarded mill...</td>\n      <td>NaN</td>\n      <td>1.0</td>\n      <td>1</td>\n      <td>Twitter Web App</td>\n      <td>1386893816607559684</td>\n      <td>False</td>\n      <td>just know hoarded millions doses vaccine allow...</td>\n    </tr>\n    <tr>\n      <th>1</th>\n      <td>Tue Apr 27 04:03:50 +0000 2021</td>\n      <td>@kmcinnes2 @Rythmol81 Don't know about Liberal...</td>\n      <td>kmcinnes2</td>\n      <td>0.0</td>\n      <td>0</td>\n      <td>Twitter Web App</td>\n      <td>1386893829249318912</td>\n      <td>False</td>\n      <td>don t know liberals s given doses capita count...</td>\n    </tr>\n    <tr>\n      <th>2</th>\n      <td>Tue Apr 27 04:04:06 +0000 2021</td>\n      <td>PharmEasy initiates COVID-19 vaccination drive...</td>\n      <td>NaN</td>\n      <td>0.0</td>\n      <td>1</td>\n      <td>IFTTT</td>\n      <td>1386893894336532480</td>\n      <td>False</td>\n      <td>pharmeasy initiates covid 19 vaccination drive</td>\n    </tr>\n    <tr>\n      <th>3</th>\n      <td>Tue Apr 27 04:03:50 +0000 2021</td>\n      <td>India to receive first batch of Russia's Covid...</td>\n      <td>NaN</td>\n      <td>0.0</td>\n      <td>0</td>\n      <td>IFTTT</td>\n      <td>1386893829106774019</td>\n      <td>False</td>\n      <td>india receive batch russia s covid 19 vaccine ...</td>\n    </tr>\n    <tr>\n      <th>4</th>\n      <td>Tue Apr 27 04:04:00 +0000 2021</td>\n      <td>@axios \"Several state university systems and p...</td>\n      <td>axios</td>\n      <td>0.0</td>\n      <td>0</td>\n      <td>TweetDeck</td>\n      <td>1386893868961091587</td>\n      <td>False</td>\n      <td>several state university systems public unive...</td>\n    </tr>\n  </tbody>\n</table>\n</div>"
     },
     "metadata": {},
     "execution_count": 3
    }
   ],
   "source": [
    "tweets_clean = pd.read_csv('data/pre-processed/2021-04-27_cln.csv')\n",
    "#tweets_clean.drop('Unnamed: 0', axis=1, inplace=True)\n",
    "tweets_clean.head()"
   ]
  },
  {
   "cell_type": "code",
   "execution_count": 34,
   "metadata": {},
   "outputs": [
    {
     "output_type": "stream",
     "name": "stderr",
     "text": [
      "/home/npodpx/miniconda3/lib/python3.8/site-packages/ipykernel/ipkernel.py:287: DeprecationWarning: `should_run_async` will not call `transform_cell` automatically in the future. Please pass the result to `transformed_cell` argument and any exception that happen during thetransform in `preprocessing_exc_tuple` in IPython 7.17 and above.\n  and should_run_async(code)\n"
     ]
    },
    {
     "output_type": "execute_result",
     "data": {
      "text/plain": [
       "                       created_at  \\\n",
       "0  Tue Apr 27 04:03:47 +0000 2021   \n",
       "1  Tue Apr 27 04:03:50 +0000 2021   \n",
       "2  Tue Apr 27 04:04:06 +0000 2021   \n",
       "3  Tue Apr 27 04:03:50 +0000 2021   \n",
       "4  Tue Apr 27 04:04:00 +0000 2021   \n",
       "\n",
       "                                                text in_reply_to_screen_name  \\\n",
       "0  We could have just, you know, not hoarded mill...                     NaN   \n",
       "1  @kmcinnes2 @Rythmol81 Don't know about Liberal...               kmcinnes2   \n",
       "2  PharmEasy initiates COVID-19 vaccination drive...                     NaN   \n",
       "3  India to receive first batch of Russia's Covid...                     NaN   \n",
       "4  @axios \"Several state university systems and p...                   axios   \n",
       "\n",
       "   retweet_count favorite_count           source               id_str  \\\n",
       "0            1.0              1  Twitter Web App  1386893816607559684   \n",
       "1            0.0              0  Twitter Web App  1386893829249318912   \n",
       "2            0.0              1            IFTTT  1386893894336532480   \n",
       "3            0.0              0            IFTTT  1386893829106774019   \n",
       "4            0.0              0        TweetDeck  1386893868961091587   \n",
       "\n",
       "  is_retweet                                           text_cln  \\\n",
       "0      False  just know hoarded millions doses vaccine allow...   \n",
       "1      False  don t know liberals s given doses capita count...   \n",
       "2      False     pharmeasy initiates covid 19 vaccination drive   \n",
       "3      False  india receive batch russia s covid 19 vaccine ...   \n",
       "4      False   several state university systems public unive...   \n",
       "\n",
       "                                           text_list  \n",
       "0  ['just', 'know', 'hoarded', 'millions', 'doses...  \n",
       "1  ['don', 't', 'know', 'liberals', 's', 'given',...  \n",
       "2  ['pharmeasy', 'initiates', 'covid', '19', 'vac...  \n",
       "3  ['india', 'receive', 'batch', 'russia', 's', '...  \n",
       "4  ['several', 'state', 'university', 'systems', ...  "
      ],
      "text/html": "<div>\n<style scoped>\n    .dataframe tbody tr th:only-of-type {\n        vertical-align: middle;\n    }\n\n    .dataframe tbody tr th {\n        vertical-align: top;\n    }\n\n    .dataframe thead th {\n        text-align: right;\n    }\n</style>\n<table border=\"1\" class=\"dataframe\">\n  <thead>\n    <tr style=\"text-align: right;\">\n      <th></th>\n      <th>created_at</th>\n      <th>text</th>\n      <th>in_reply_to_screen_name</th>\n      <th>retweet_count</th>\n      <th>favorite_count</th>\n      <th>source</th>\n      <th>id_str</th>\n      <th>is_retweet</th>\n      <th>text_cln</th>\n      <th>text_list</th>\n    </tr>\n  </thead>\n  <tbody>\n    <tr>\n      <th>0</th>\n      <td>Tue Apr 27 04:03:47 +0000 2021</td>\n      <td>We could have just, you know, not hoarded mill...</td>\n      <td>NaN</td>\n      <td>1.0</td>\n      <td>1</td>\n      <td>Twitter Web App</td>\n      <td>1386893816607559684</td>\n      <td>False</td>\n      <td>just know hoarded millions doses vaccine allow...</td>\n      <td>['just', 'know', 'hoarded', 'millions', 'doses...</td>\n    </tr>\n    <tr>\n      <th>1</th>\n      <td>Tue Apr 27 04:03:50 +0000 2021</td>\n      <td>@kmcinnes2 @Rythmol81 Don't know about Liberal...</td>\n      <td>kmcinnes2</td>\n      <td>0.0</td>\n      <td>0</td>\n      <td>Twitter Web App</td>\n      <td>1386893829249318912</td>\n      <td>False</td>\n      <td>don t know liberals s given doses capita count...</td>\n      <td>['don', 't', 'know', 'liberals', 's', 'given',...</td>\n    </tr>\n    <tr>\n      <th>2</th>\n      <td>Tue Apr 27 04:04:06 +0000 2021</td>\n      <td>PharmEasy initiates COVID-19 vaccination drive...</td>\n      <td>NaN</td>\n      <td>0.0</td>\n      <td>1</td>\n      <td>IFTTT</td>\n      <td>1386893894336532480</td>\n      <td>False</td>\n      <td>pharmeasy initiates covid 19 vaccination drive</td>\n      <td>['pharmeasy', 'initiates', 'covid', '19', 'vac...</td>\n    </tr>\n    <tr>\n      <th>3</th>\n      <td>Tue Apr 27 04:03:50 +0000 2021</td>\n      <td>India to receive first batch of Russia's Covid...</td>\n      <td>NaN</td>\n      <td>0.0</td>\n      <td>0</td>\n      <td>IFTTT</td>\n      <td>1386893829106774019</td>\n      <td>False</td>\n      <td>india receive batch russia s covid 19 vaccine ...</td>\n      <td>['india', 'receive', 'batch', 'russia', 's', '...</td>\n    </tr>\n    <tr>\n      <th>4</th>\n      <td>Tue Apr 27 04:04:00 +0000 2021</td>\n      <td>@axios \"Several state university systems and p...</td>\n      <td>axios</td>\n      <td>0.0</td>\n      <td>0</td>\n      <td>TweetDeck</td>\n      <td>1386893868961091587</td>\n      <td>False</td>\n      <td>several state university systems public unive...</td>\n      <td>['several', 'state', 'university', 'systems', ...</td>\n    </tr>\n  </tbody>\n</table>\n</div>"
     },
     "metadata": {},
     "execution_count": 34
    }
   ],
   "source": [
    "tweets_clean.head()"
   ]
  },
  {
   "cell_type": "code",
   "execution_count": 33,
   "metadata": {},
   "outputs": [
    {
     "output_type": "stream",
     "name": "stderr",
     "text": [
      "/home/npodpx/miniconda3/lib/python3.8/site-packages/ipykernel/ipkernel.py:287: DeprecationWarning: `should_run_async` will not call `transform_cell` automatically in the future. Please pass the result to `transformed_cell` argument and any exception that happen during thetransform in `preprocessing_exc_tuple` in IPython 7.17 and above.\n  and should_run_async(code)\n<ipython-input-33-84538a45cddf>:8: SettingWithCopyWarning: \nA value is trying to be set on a copy of a slice from a DataFrame\n\nSee the caveats in the documentation: https://pandas.pydata.org/pandas-docs/stable/user_guide/indexing.html#returning-a-view-versus-a-copy\n  tweets_clean['text_list'][idx] = str(lst)\n/home/npodpx/miniconda3/lib/python3.8/site-packages/pandas/core/indexing.py:1637: SettingWithCopyWarning: \nA value is trying to be set on a copy of a slice from a DataFrame\n\nSee the caveats in the documentation: https://pandas.pydata.org/pandas-docs/stable/user_guide/indexing.html#returning-a-view-versus-a-copy\n  self._setitem_single_block(indexer, value, name)\n"
     ]
    }
   ],
   "source": [
    "tweets_clean['text_list'] = 0\n",
    "for idx in tweets_clean.index:\n",
    "    lst = list(str(tweets_clean['text_cln'][idx]).split(\" \"))\n",
    "    if ' ' in lst:\n",
    "        lst.remove(' ')\n",
    "    if \"\" in lst:\n",
    "        lst.remove(\"\")\n",
    "    tweets_clean['text_list'][idx] = str(lst)\n"
   ]
  },
  {
   "source": [
    "Create bigram and trigram lists as well? Additional models to try? If so, use Gensim.models.phrases and gensim.models.phraser?"
   ],
   "cell_type": "markdown",
   "metadata": {}
  },
  {
   "source": [
    "Next, we use Gensim to create a dictionary of the unique words that appear mapped to an id. (We may also want to filter out from the dictionary some words that don't appear enough or appear in too many tweets.) Second, we'll create a corpus of the tweets, which contains the number of times a given word (identified by id) appeared in each tweet. "
   ],
   "cell_type": "markdown",
   "metadata": {}
  },
  {
   "cell_type": "code",
   "execution_count": 36,
   "metadata": {},
   "outputs": [
    {
     "output_type": "stream",
     "name": "stderr",
     "text": [
      "/home/npodpx/miniconda3/lib/python3.8/site-packages/ipykernel/ipkernel.py:287: DeprecationWarning: `should_run_async` will not call `transform_cell` automatically in the future. Please pass the result to `transformed_cell` argument and any exception that happen during thetransform in `preprocessing_exc_tuple` in IPython 7.17 and above.\n  and should_run_async(code)\n"
     ]
    }
   ],
   "source": [
    "import ast\n",
    "tweets_clean_lst = []\n",
    "for tweet in tweets_clean['text_list']:\n",
    "    tweets_clean_lst.append(ast.literal_eval(tweet))"
   ]
  },
  {
   "cell_type": "code",
   "execution_count": 41,
   "metadata": {},
   "outputs": [
    {
     "output_type": "stream",
     "name": "stderr",
     "text": [
      "/home/npodpx/miniconda3/lib/python3.8/site-packages/ipykernel/ipkernel.py:287: DeprecationWarning: `should_run_async` will not call `transform_cell` automatically in the future. Please pass the result to `transformed_cell` argument and any exception that happen during thetransform in `preprocessing_exc_tuple` in IPython 7.17 and above.\n  and should_run_async(code)\n"
     ]
    }
   ],
   "source": [
    "single_dict = corpora.Dictionary(tweets_clean_lst)\n",
    "#for actual tweet data, commented params might be a better place to start\n",
    "single_dict.filter_extremes(no_below=50, no_above=0.80, keep_n=1000000)\n",
    "#single_dict.filter_extremes(no_below=10, no_above=0.80, keep_n=1000000)\n",
    "\n",
    "single_corpus = [single_dict.doc2bow(tweet) for tweet in tweets_clean_lst]"
   ]
  },
  {
   "cell_type": "code",
   "execution_count": 42,
   "metadata": {
    "tags": [
     "outputPrepend"
    ]
   },
   "outputs": [
    {
     "output_type": "stream",
     "name": "stdout",
     "text": [
      " 'price': 705, 'a': 706, 'novaccinepassportsanywhere': 707, 'icymi': 708, 'measures': 709, 'areas': 710, 'black': 711, 'failed': 712, 'k': 713, 'lost': 714, 'effective': 715, 'stand': 716, 'covid_19': 717, 'sending': 718, 'uk': 719, 'absolutely': 720, 'already': 721, 'haven': 722, 'normal': 723, 'there': 724, 'eligible': 725, 'run': 726, 'schedule': 727, 'walk': 728, 'doctors': 729, 'hope': 730, 'report': 731, '10': 732, 'apr': 733, 'et': 734, 'able': 735, 'self': 736, 'reasons': 737, 'widely': 738, 'house': 739, 'issue': 740, 'press': 741, 'secretary': 742, 'white': 743, 'breaking': 744, '26': 745, 'c': 746, 'citizens': 747, 'currently': 748, 'older': 749, 'online': 750, 'nice': 751, 'corona2ndwave': 752, 'covid19india': 753, 'covidhelp': 754, 'explore': 755, 'join': 756, 'research': 757, 'confidence': 758, 'experimental': 759, 'formula': 760, 'good': 761, 'injection': 762, 'led': 763, 'project': 764, 'reporting': 765, 'uptake': 766, 'covidvaccination': 767, 'retweet': 768, 'africans': 769, 'are': 770, 'boosting': 771, 'commit': 772, 'continent': 773, 'efforts': 774, 'globalcitizen': 775, 'nearly': 776, 'poverty': 777, 'purchasing': 778, 'recovery': 779, 'sdrs': 780, 'spend': 781, 'indias': 782, 'youtube': 783, 'covidindia': 784, 'crore': 785, 'far': 786, 'listen': 787, 'shots': 788, 'showing': 789, 'gather': 790, 'pace': 791, 'process': 792, 'step': 793, '00': 794, 'communities': 795, 'educate': 796, 'begins': 797, 'foreign': 798, 'happens': 799, 'federal': 800, 'planning': 801, 'they': 802, 'gets': 803, 'maharashtra': 804, 'poor': 805, 'healthy': 806, 'stayhome': 807, 'young': 808, 'protocols': 809, 'rising': 810, 'data': 811, 'missed': 812, 'access': 813, 'contracting': 814, 'onpoli': 815, 'covid19vaccine': 816, 'person': 817, 'proud': 818, 'md': 819, 'governments': 820, 'local': 821, 'tells': 822, 'covidsecondwave': 823, 'vaccineforall': 824, 'gotten': 825, 'trusted': 826, 'importance': 827, 'individuals': 828, 'parents': 829, 'recent': 830, 'rich': 831, 'unvaccinated': 832, 'baltimore': 833, 'republicans': 834, 'takes': 835, 'set': 836, 'australia': 837, 'distance': 838, 'hoping': 839, 'condition': 840, 'woman': 841, 'aware': 842, 'lawmakers': 843, 'maybe': 844, 'youre': 845, '1': 846, '28': 847, 'april': 848, 'b': 849, 'dna': 850, 'double': 851, 'system': 852, 'variant': 853, 'considering': 854, 'expert': 855, 'afraid': 856, 'catch': 857, 'designed': 858, 'die': 859, 'fauci': 860, 'll': 861, 'talk': 862, 'chinese': 863, 'despite': 864, 'shares': 865, 'ensure': 866, 'russias': 867, 'arrive': 868, 'mobile': 869, 'related': 870, 'seek': 871, 'area': 872, 'region': 873, 'surge': 874, 'explain': 875, 'passports': 876, 'plan': 877, 'bc': 878, 'changes': 879, 'details': 880, 'folks': 881, 'history': 882, 'me': 883, 'pls': 884, 'continue': 885, 'rise': 886, 'battle': 887, 'looking': 888, 'fighting': 889, 'later': 890, 'out': 891, 'special': 892, 'guidelines': 893, 'hand': 894, 'increase': 895, 'rules': 896, 'small': 897, 'solution': 898, 'amid': 899, 'opens': 900, 'kill': 901, 'killing': 902, 'natural': 903, 'pop': 904, 'having': 905, 'informed': 906, 'meeting': 907, 'freedom': 908, 'huge': 909, 'crowd': 910, 'develop': 911, 'administer': 912, 'app': 913, 'namo': 914, 'discussed': 915, 'needs': 916, 'worse': 917, 'claims': 918, 'evidence': 919, 'production': 920, 'sites': 921, 'thought': 922, 'centner': 923, 'employ': 924, 'not': 925, 'telling': 926, 'wtf': 927, 'st': 928, 'adding': 929, 'box': 930, 'fact': 931, 'twitter': 932, 'alert': 933, 'anymore': 934, 'come': 935, 'elderly': 936, 'neighbors': 937, 'probably': 938, 'staysafe': 939, 'click': 940, 'catching': 941, 'father': 942, 'happen': 943, 'ill': 944, 'pass': 945, 'adult': 946, 'd': 947, 'oh': 948, 'understand': 949, 'covid19vaccines': 950, 'figures': 951, 'chances': 952, 'hit': 953, 'manufacturing': 954, 'thinking': 955, 'campaign': 956, 'remain': 957, 'gov': 958, 'healthcare': 959, 'indiafightscovid19': 960, 'struggling': 961, 'worst': 962, 'only': 963, 'big': 964, 'guy': 965, 'lie': 966, 'close': 967, 'urge': 968, 'plasma': 969, 'businesses': 970, 'patients': 971, 'and': 972, 'or': 973, 'strain': 974, 'god': 975, 'lose': 976, 'sad': 977, 'talking': 978, 'adds': 979, 'vote': 980, 'amazing': 981, 'city': 982, 'tweet': 983, 'centres': 984, 'scale': 985, 'visiting': 986, 'green': 987, 'town': 988, 'lowest': 989, 'immune': 990, 'impact': 991, 'working': 992, 'team': 993, 'washington': 994, 'calling': 995, 'half': 996, 'prevent': 997, 'wish': 998, 'yourself': 999, 'kind': 1000, 'poison': 1001, 'florida': 1002, 'jobs': 1003, 'threatens': 1004, 'coronaviruspandemic': 1005, 'covid19vaccination': 1006, 'hospital': 1007, 'levels': 1008, 'doesnt': 1009, 'info': 1010, 'wow': 1011, 'lift': 1012, 'arm': 1013, 'nurse': 1014, 'two': 1015, 'workers': 1016, 'education': 1017, 'letter': 1018, 'senior': 1019, 'law': 1020, 'over': 1021, 'ups': 1022, 'passport': 1023, 'talks': 1024, 'travel': 1025, 'yesterday': 1026, 'produce': 1027, 'department': 1028, 'allocation': 1029, 'authorities': 1030, 'so': 1031, 'covidiots': 1032, 'socialdistancing': 1033, 'extended': 1034, 'families': 1035, 'goal': 1036, 'wife': 1037, 'indiafightscorona': 1038, 'unite2fightcorona': 1039, '7': 1040, 'hell': 1041, 'james': 1042, 'jesus': 1043, 'resist': 1044, 'road': 1045, 'gonna': 1046, 'body': 1047, 'claimed': 1048, 'died': 1049, 'sinovac': 1050, 'affect': 1051, 'changed': 1052, 'period': 1053, 'effectiveness': 1054, 'child': 1055, 'clot': 1056, 'imagine': 1057, 'risks': 1058, 'sent': 1059, 'brazil': 1060, 'efficacy': 1061, 'import': 1062, 'request': 1063, 'safety': 1064, 'meet': 1065, 'register': 1066, 'centers': 1067, 'concern': 1068, 'site': 1069, 'providers': 1070, 'texas': 1071, 'told': 1072, 'brain': 1073, 'significant': 1074, 'opened': 1075, 'routine': 1076, 'tuesday': 1077, 'webinar': 1078, 'development': 1079, 'bullshit': 1080, 'cowin': 1081, 'platform': 1082, 'completed': 1083, 'dies': 1084, 'conditions': 1085, 'priority': 1086, 'bangladesh': 1087, 'session': 1088, 'asap': 1089, 'hot': 1090, 'island': 1091, 'safely': 1092, '24': 1093, 'north': 1094, 'official': 1095, 'on': 1096, 'source': 1097, 'ireland': 1098, 'police': 1099, 'cancer': 1100, 'low': 1101, 'patient': 1102, 'who': 1103, 'australian': 1104, 'officer': 1105, 'park': 1106, 'face': 1107, 'gives': 1108, 'man': 1109, 'gap': 1110, 'leadership': 1111, 'precautions': 1112, 'uae': 1113, 'south': 1114, 'concerned': 1115, 'increased': 1116, 'schools': 1117, 'simple': 1118, 'alberta': 1119, 'asks': 1120, 'declares': 1121, 'j': 1122, 'known': 1123, 'turn': 1124, 'agree': 1125, 'coronavirusindia': 1126, 'gates': 1127, 'vaccinessavelives': 1128, 'lakh': 1129, 'adverse': 1130, 'x': 1131, 'crucial': 1132, 'upcoming': 1133, 'mean': 1134, 'living': 1135, 'reached': 1136, 'records': 1137, 'rest': 1138, 'experienced': 1139, 'challenge': 1140, 'contact': 1141, 'insurance': 1142, 'line': 1143, 'york': 1144, 'paid': 1145, 'announcement': 1146, 'congress': 1147, 'leader': 1148, 'board': 1149, 'no': 1150, 'players': 1151, 'zero': 1152, 'speed': 1153, 'beds': 1154, 'doctor': 1155, 'explains': 1156, 'outweigh': 1157, 'key': 1158, 'average': 1159, 'republican': 1160, 'la': 1161, 'say': 1162, 'theres': 1163, 'according': 1164, 'poll': 1165, 'present': 1166, 'variants': 1167, 'happy': 1168, 'sharing': 1169, 'capacity': 1170, 'facility': 1171, 'idiot': 1172, 'wait': 1173, 'ip': 1174, 'waiver': 1175, 'personal': 1176, 'altman': 1177, 'church': 1178, 'hold': 1179, 'priest': 1180, 'entire': 1181, 'expected': 1182, 'export': 1183, 'ask': 1184, 'works': 1185, 'remember': 1186, 'beginning': 1187, 'frontline': 1188, 'approved': 1189, 'helped': 1190, 'humanity': 1191, 'giving': 1192, 'age': 1193, 'delhi': 1194, 'clinics': 1195, 'analysis': 1196, 'enough': 1197, 'nations': 1198, 'patents': 1199, 'reach': 1200, 'suspend': 1201, '09': 1202, 'begin': 1203, 'stock': 1204, 'mayor': 1205, 'announces': 1206, 'money': 1207, 'viral': 1208, 'decided': 1209, 'friday': 1210, 'lifted': 1211, 'scientific': 1212, 'cover': 1213, 'army': 1214, 'urged': 1215, 'funding': 1216, 'head': 1217, 'slow': 1218, 'authorization': 1219, 'philippines': 1220, 'added': 1221, 'ready': 1222, 'n': 1223, 'clinic': 1224, 'general': 1225, 'ongoing': 1226, 'totally': 1227, 'treatments': 1228, 'we': 1229, 'sunday': 1230, 'f': 1231, 'kid': 1232, 'event': 1233, 'hosted': 1234, 'unable': 1235, 'view': 1236, 'strong': 1237, 'hey': 1238, 'refuse': 1239, 'seniors': 1240, 'worry': 1241, 'younger': 1242, 'antibodies': 1243, 'mutations': 1244, 'literally': 1245, '33': 1246, 'programme': 1247, 'east': 1248, 'decide': 1249, 'cut': 1250, 'longer': 1251, 'shouldn': 1252, 'won': 1253, 'opinion': 1254, 'strains': 1255, 'the': 1256, 'etc': 1257, 'polio': 1258, 'political': 1259, 'pretty': 1260, 'delay': 1261, 'comes': 1262, 'oxford': 1263, 'including': 1264, 'may': 1265, 'dumb': 1266, 'makes': 1267, 'reason': 1268, 'manufacture': 1269, 'pharma': 1270, 'pressure': 1271, 'didn': 1272, 'wouldn': 1273, 'complete': 1274, 'ins': 1275, 'largestvaccinedrive': 1276, 'affairs': 1277, 'african': 1278, 'music': 1279, 'playing': 1280, 'radio': 1281, 'tune': 1282, 'illinois': 1283, 'reported': 1284, 'plans': 1285, 'old': 1286, 'type': 1287, 'largestvaccinationdrive': 1288, 'registrations': 1289, 'campaigns': 1290, 'easier': 1291, 'hesitant': 1292, 'list': 1293, 'coverage': 1294, 'complications': 1295, 'selfish': 1296, 'date': 1297, 'highest': 1298, 'worldimmunisationweek': 1299, 'mumbai': 1300, 'janssen': 1301, 'covid19indiahelp': 1302, 'launches': 1303, 'measles': 1304, '3': 1305, '5': 1306, '6': 1307, 'tracker': 1308, 'knowledge': 1309, 'protein': 1310, 'rapid': 1311, 'shared': 1312, 'realize': 1313, 'caused': 1314, 'services': 1315, 'severe': 1316, 'vulnerable': 1317, 'website': 1318, 'recovered': 1319, 'safer': 1320, 'harmful': 1321, '36': 1322, 'distribute': 1323, 'th': 1324, 'citing': 1325, 'rejects': 1326, 'air': 1327, 'deliver': 1328, 'faster': 1329, 'future': 1330, 'potential': 1331, 'cdnpoli': 1332, 'page': 1333, 'heart': 1334, 'inflammation': 1335, 'nhs': 1336, 'what': 1337, 'shit': 1338, 'tech': 1339, 'exercise': 1340, 'go': 1341, 'plus': 1342, 'survival': 1343, 'california': 1344, 'onwards': 1345, 'glad': 1346, 'program': 1347, 'decision': 1348, 'called': 1349, 'donate': 1350, 'extra': 1351, 'booster': 1352, 'possible': 1353, 'rd': 1354, 'anybody': 1355, 'intellectual': 1356, 'property': 1357, 'discuss': 1358, 'efficient': 1359, 'publichealth': 1360, 'herd': 1361, 'inoculated': 1362, 'symptoms': 1363, 'course': 1364, 'faculty': 1365, 'responsible': 1366, 'limited': 1367, 'maximum': 1368, 'published': 1369, 'abc': 1370, 'game': 1371, 'viruses': 1372, 'hoarding': 1373, 'bit': 1374, 'excited': 1375, 'include': 1376, 'updated': 1377, 'different': 1378, 'mutate': 1379, 'masking': 1380, 'nigeria': 1381, 'drug': 1382, 'nyc': 1383, 'party': 1384, 'answer': 1385, 'opportunity': 1386, 'requirements': 1387, 'steps': 1388, 'quick': 1389, 'clearly': 1390, 'non': 1391, 'apart': 1392, 'dozens': 1393, 'piece': 1394, 'campus': 1395, 'ceo': 1396, 'student': 1397, 'biggest': 1398, 'progress': 1399, 'cells': 1400, 'host': 1401, 'till': 1402, 'auspol': 1403, 'asking': 1404, 'extremely': 1405, 'mother': 1406, 'worth': 1407, 'persons': 1408, 'q': 1409, 'about': 1410, 'reactions': 1411, 'sources': 1412, 'basis': 1413, 'ventilators': 1414, 'preventing': 1415, 'defeat': 1416, 'left': 1417, 'street': 1418, 'province': 1419, '01': 1420, '02': 1421, '54': 1422, 'fucking': 1423, 'lol': 1424, 'refusing': 1425, 'success': 1426, 'jabs': 1427, 'concerns': 1428, 'finds': 1429, 'cure': 1430, 'necessary': 1431, 'june': 1432, 'facebook': 1433, 'heres': 1434, 'reuters': 1435, 'britain': 1436, 'lets': 1437, 'bbc': 1438, 'food': 1439, 'hour': 1440, 'service': 1441, 'equity': 1442, 'came': 1443, 'late': 1444, 'delivered': 1445, 'finally': 1446, 'place': 1447, 'interview': 1448, 'athletes': 1449, 'july': 1450, 'olympics': 1451, 'fox': 1452, 'hospitalized': 1453, 'gop': 1454, 'yet': 1455, 'forum': 1456, 'reading': 1457, 'heard': 1458, 'ive': 1459, 'scheduled': 1460, 'co': 1461, 'portal': 1462, 'win': 1463, 'council': 1464, 'survey': 1465, 'boost': 1466, '51': 1467, 'management': 1468, 'politics': 1469, 'attack': 1470, 'beat': 1471, 'negative': 1472, 'ways': 1473, 'wont': 1474, 'existing': 1475, 'market': 1476, 'treatment': 1477, 'groups': 1478, 'infections': 1479, 'massive': 1480, 'location': 1481, 'holder': 1482, 'coronavirusvaccine': 1483, 'novel': 1484, 'equitable': 1485, 'joining': 1486, 'temporary': 1487, 'breakthrough': 1488, 'illness': 1489, 'individual': 1490, 'simply': 1491, 'produced': 1492, 'combat': 1493, '07': 1494, 'turkey': 1495, 'havent': 1496, 'appointment': 1497, 'partnership': 1498, 'sir': 1499, 'guide': 1500, 'ad': 1501, 'threat': 1502, 'therapy': 1503, 'options': 1504, 'guidance': 1505, 'nbc': 1506, 'outdoor': 1507, 'friend': 1508, 'district': 1509, 'georgia': 1510, 'required': 1511, 'calls': 1512, 'expects': 1513, 'cabinet': 1514, 'barriers': 1515, 'crazy': 1516, 'debunked': 1517, 'propaganda': 1518, 'push': 1519, 'theory': 1520, 'clinical': 1521, 'thoughts': 1522, 'associated': 1523, 'ages': 1524, 'worldimmunizationweek': 1525, 'pharmacy': 1526, 'saturday': 1527, 'slots': 1528, 'spring': 1529, 'kindly': 1530, 'mandate': 1531, '12': 1532, 'choose': 1533, 'went': 1534, 'essential': 1535, 'fast': 1536, 'love': 1537, 'damage': 1538, 'guess': 1539, 'down': 1540, 'faces': 1541, 'lot': 1542, 'message': 1543, 'others': 1544, 'potentially': 1545, 'above': 1546, 'indiastaystrong': 1547, 'nearest': 1548, 'vaccinebhiprecautionsbhi': 1549, 'group': 1550, 'phone': 1551, 'tonight': 1552, 'protecting': 1553, 'gone': 1554, 'challenges': 1555, 'spot': 1556, 'society': 1557, 'started': 1558, 'have': 1559, 'organizations': 1560, 'manufacturers': 1561, 'super': 1562, 'y': 1563, '03': 1564, 'drink': 1565, 'sharp': 1566, 'patent': 1567, 'willing': 1568, 'released': 1569, 'mild': 1570, 'then': 1571, 'of': 1572, 'outbreak': 1573, 'italy': 1574, 'games': 1575, 'inoculation': 1576, 'olympic': 1577, 'podcast': 1578, '05': 1579, 'injuries': 1580, 'highly': 1581, 'infectious': 1582, 'petition': 1583, 'mexico': 1584, 'requirement': 1585, 'warning': 1586, 'deal': 1587, 'briefing': 1588, 'director': 1589, 'cr': 1590, 'be': 1591, 'correct': 1592, 'bihar': 1593, 'cares': 1594, 'migrant': 1595, 'plants': 1596, 'pmcares': 1597, 'offered': 1598, 'covidvaccines': 1599, 'english': 1600, 'links': 1601, 'damn': 1602, 'providing': 1603, 'sorry': 1604, 'expands': 1605, 'distributed': 1606, 'yall': 1607, 'conspiracy': 1608, 'option': 1609, 'continued': 1610, 'politicians': 1611, 'id': 1612, 'credit': 1613, 'debate': 1614, 'gave': 1615, '18': 1616, 'bank': 1617, 'timelines': 1618, 'populations': 1619, 'smartnews': 1620, 'learning': 1621, 'bad': 1622, 'worried': 1623, 'trial': 1624, 'booked': 1625, 'london': 1626, 'speak': 1627, 'pregnancy': 1628, 'passes': 1629, 'involved': 1630, 'globe': 1631, 'miss': 1632, 'roll': 1633, 'organization': 1634, 'release': 1635, 'strict': 1636, 'olds': 1637, 'positivity': 1638, 'stupid': 1639, 'prevention': 1640, 'bcci': 1641, 'charge': 1642, 'ipl': 1643, 'hub': 1644, 'confirmed': 1645, 'wise': 1646, 'compared': 1647, 'locations': 1648, 'receives': 1649, 'restrictions': 1650, '17': 1651, 'launched': 1652, 'outdoors': 1653, 'greater': 1654, 'counties': 1655, 'dead': 1656, 'order': 1657, 'fmrevolution': 1658, 'medtech': 1659, 'todaysmedicalupdate': 1660, 'sports': 1661, 'denmark': 1662, 'attending': 1663, 'wednesday': 1664, 'turning': 1665, 'surplus': 1666, 'volunteers': 1667, 'held': 1668, 'indonesia': 1669, 'note': 1670, 'chile': 1671, 'additional': 1672, 'final': 1673, 'job': 1674, 'users': 1675, 'highlights': 1676, 'atlanta': 1677, 'docs': 1678, 'ennaid': 1679, 'ingredient': 1680, 'poisons': 1681, 'crowds': 1682, 'intelligence': 1683, 'difference': 1684, 'how': 1685, 'virtual': 1686, 'hes': 1687, 'remdesivir': 1688, 'supporting': 1689, 'ahead': 1690, '25': 1691, 'kazakhstan': 1692, 'wall': 1693, 'member': 1694, 'weekly': 1695, 'code': 1696, 'reality': 1697, 'multiple': 1698, 'rna': 1699, '8': 1700, 'lots': 1701, 'theyre': 1702, 'cnn': 1703, 'issues': 1704, 'partners': 1705, 'iowa': 1706, 'bishop': 1707, 'contain': 1708, 'mortality': 1709, 'income': 1710, 'below': 1711, 'convince': 1712, 'create': 1713, 'arms': 1714, 'add': 1715, 'experience': 1716, 'england': 1717, 'cross': 1718, 'definitely': 1719, 'lockdowns': 1720, 'middle': 1721, 'hc': 1722, 'certificates': 1723, 'accepting': 1724, 'however': 1725, 'running': 1726, 'example': 1727, 'maskup': 1728, 'advice': 1729, 'recommends': 1730, 'relief': 1731, 'participating': 1732, 'successful': 1733, 'hong': 1734, 'encourage': 1735, 'provides': 1736, 'stopped': 1737, 'irresponsible': 1738, 'canadian': 1739, 'regardless': 1740, 'ever': 1741, 'office': 1742, 'couple': 1743, 'red': 1744, 'promoting': 1745, 'series': 1746, 'everybody': 1747, 'linked': 1748, 'professionals': 1749, 'statement': 1750, '39': 1751, 'if': 1752, 'hopefully': 1753, 'novaccinepassports': 1754, 'interested': 1755, 'download': 1756, 'spaces': 1757, 'signed': 1758, 'committee': 1759, 'improve': 1760, '08': 1761, '23': 1762, 'recommendations': 1763, 'happening': 1764, 'prohibit': 1765, 'banned': 1766, 'spots': 1767, 'grateful': 1768, 'vital': 1769, 'agency': 1770, 'trends': 1771, 'get': 1772, 'quarter': 1773, 'citizen': 1774, 'alone': 1775, 'codes': 1776, 'postal': 1777, 'myth': 1778, 'guys': 1779, 'sound': 1780, 'dixit': 1781, 'madhuri': 1782, 'moving': 1783, 'hall': 1784, 'reopen': 1785, 'league': 1786, 'boris': 1787, 'initiative': 1788, 'theyve': 1789, 'prioritize': 1790, 'forward': 1791, 'achieve': 1792, 'border': 1793, 'words': 1794, 'antibody': 1795, 'invited': 1796, 'building': 1797, 'chain': 1798, 'incentive': 1799, 'putting': 1800, 'feeling': 1801, 'from': 1802, 'discussion': 1803, 'idiots': 1804, 'race': 1805, 'youll': 1806, 'mandates': 1807, 'side': 1808, 'houston': 1809, 'attend': 1810, 'poorest': 1811, 'database': 1812, 'indoor': 1813, 'billions': 1814, 'peoplesvaccine': 1815, 'provincial': 1816, 'via': 1817, 'genocide': 1818, 'settings': 1819, 'vaccineequity': 1820, 'facilities': 1821, 'includes': 1822, 'document': 1823, 'promising': 1824, 'founded': 1825, 'cbs': 1826, 'actual': 1827, 'activities': 1828, 'listening': 1829, 'tuesdayvibe': 1830, 'cylinders': 1831, 'serve': 1832, 'log': 1833, 'men': 1834, 'household': 1835, 'encouraging': 1836, 'investigating': 1837, 'tries': 1838, 'participate': 1839, 'packed': 1840, 'please': 1841, 'minnesota': 1842, 'deserves': 1843, 'considered': 1844, 'goes': 1845, 'urging': 1846, 'tennessee': 1847, 'minority': 1848, 'factor': 1849, 'practice': 1850, 'notice': 1851, 'activist': 1852, 'email': 1853, 'joinctap': 1854, 'position': 1855, 'youve': 1856, 'covidemergency': 1857, 'asymptomatic': 1858, 'licensed': 1859, 'p': 1860, 'military': 1861, 'wonder': 1862, 'quebec': 1863, 'dc': 1864, 'harry': 1865, 'sarscov2': 1866, 'evangelicals': 1867, 'inside': 1868, 'address': 1869, 'fans': 1870, 'interim': 1871, 'founder': 1872, 'covering': 1873, 'hosting': 1874, 'chairs': 1875, 'appt': 1876, 'falsely': 1877, 'virtue': 1878, 'johnsons': 1879, 'attention': 1880, 'indoors': 1881, 'walking': 1882, 'color': 1883, 'peel': 1884, 'categorises': 1885, 'surprisingly': 1886, 'covid19on': 1887, 'prince': 1888, 'vhcon': 1889, 'paidsickdays': 1890, 'concert': 1891, 'meghan': 1892, 'godless': 1893, 'parishioners': 1894, 'crowded': 1895, 'strangers': 1896, 'callahan': 1897, 'parish': 1898, 'vermin': 1899, 'covidvaccinerace': 1900, 'kvax': 1901, 'milwaukee': 1902, 'rogan': 1903, 'biking': 1904, 'hiking': 1905, 'eases': 1906, 'punishment': 1907, 'dogecoin': 1908}\n",
      "/home/npodpx/miniconda3/lib/python3.8/site-packages/ipykernel/ipkernel.py:287: DeprecationWarning: `should_run_async` will not call `transform_cell` automatically in the future. Please pass the result to `transformed_cell` argument and any exception that happen during thetransform in `preprocessing_exc_tuple` in IPython 7.17 and above.\n",
      "  and should_run_async(code)\n"
     ]
    }
   ],
   "source": [
    "print(single_dict.token2id)"
   ]
  },
  {
   "cell_type": "code",
   "execution_count": 43,
   "metadata": {},
   "outputs": [
    {
     "output_type": "stream",
     "name": "stdout",
     "text": [
      "[(0, 1), (1, 1), (2, 1), (3, 1), (4, 1), (5, 1), (6, 1), (7, 1), (8, 1), (9, 1), (10, 1), (11, 1), (12, 1)]\n",
      "/home/npodpx/miniconda3/lib/python3.8/site-packages/ipykernel/ipkernel.py:287: DeprecationWarning: `should_run_async` will not call `transform_cell` automatically in the future. Please pass the result to `transformed_cell` argument and any exception that happen during thetransform in `preprocessing_exc_tuple` in IPython 7.17 and above.\n",
      "  and should_run_async(code)\n"
     ]
    }
   ],
   "source": [
    "print(single_corpus[0])"
   ]
  },
  {
   "source": [
    "Now, we can try training an initial model."
   ],
   "cell_type": "markdown",
   "metadata": {}
  },
  {
   "cell_type": "code",
   "execution_count": 44,
   "metadata": {
    "tags": []
   },
   "outputs": [
    {
     "output_type": "stream",
     "name": "stderr",
     "text": [
      "/home/npodpx/miniconda3/lib/python3.8/site-packages/ipykernel/ipkernel.py:287: DeprecationWarning: `should_run_async` will not call `transform_cell` automatically in the future. Please pass the result to `transformed_cell` argument and any exception that happen during thetransform in `preprocessing_exc_tuple` in IPython 7.17 and above.\n  and should_run_async(code)\n"
     ]
    }
   ],
   "source": [
    "#import logging\n",
    "#logging.basicConfig(format='%(asctime)s : %(levelname)s : %(message)s', level=logging.INFO)\n",
    "single_model = gensim.models.ldamodel.LdaModel(corpus=single_corpus,\n",
    "                                           id2word=single_dict,\n",
    "                                           num_topics=8, \n",
    "                                           random_state=100,\n",
    "                                           update_every=1,\n",
    "                                           chunksize=100,\n",
    "                                           passes=10,\n",
    "                                           alpha='auto',\n",
    "                                           per_word_topics=True)"
   ]
  },
  {
   "cell_type": "code",
   "execution_count": 45,
   "metadata": {},
   "outputs": [
    {
     "output_type": "stream",
     "name": "stderr",
     "text": [
      "/home/npodpx/miniconda3/lib/python3.8/site-packages/ipykernel/ipkernel.py:287: DeprecationWarning: `should_run_async` will not call `transform_cell` automatically in the future. Please pass the result to `transformed_cell` argument and any exception that happen during thetransform in `preprocessing_exc_tuple` in IPython 7.17 and above.\n  and should_run_async(code)\n"
     ]
    },
    {
     "output_type": "execute_result",
     "data": {
      "text/plain": [
       "[(0,\n",
       "  '0.159*\"covid\" + 0.142*\"19\" + 0.132*\"vaccine\" + 0.042*\"people\" + 0.032*\"coronavirus\" + 0.017*\"health\" + 0.014*\"28\" + 0.010*\"virus\" + 0.009*\"cdc\" + 0.009*\"news\"'),\n",
       " (1,\n",
       "  '0.140*\"vaccinated\" + 0.031*\"fully\" + 0.029*\"today\" + 0.027*\"registration\" + 0.023*\"vaccinations\" + 0.022*\"state\" + 0.021*\"young\" + 0.019*\"private\" + 0.017*\"register\" + 0.016*\"dr\"'),\n",
       " (2,\n",
       "  '0.036*\"study\" + 0.030*\"good\" + 0.026*\"working\" + 0.024*\"citizens\" + 0.023*\"employ\" + 0.020*\"online\" + 0.017*\"immune\" + 0.016*\"body\" + 0.016*\"out\" + 0.015*\"may\"'),\n",
       " (3,\n",
       "  '0.131*\"vaccination\" + 0.046*\"available\" + 0.044*\"appointments\" + 0.038*\"near\" + 0.036*\"sign\" + 0.035*\"04\" + 0.033*\"00\" + 0.032*\"cvs\" + 0.021*\"school\" + 0.020*\"pa\"'),\n",
       " (4,\n",
       "  '0.066*\"t\" + 0.036*\"need\" + 0.028*\"like\" + 0.024*\"countries\" + 0.023*\"don\" + 0.020*\"said\" + 0.019*\"know\" + 0.018*\"age\" + 0.018*\"covaxin\" + 0.017*\"life\"'),\n",
       " (5,\n",
       "  '0.070*\"new\" + 0.051*\"mask\" + 0.040*\"cases\" + 0.028*\"masks\" + 0.024*\"you\" + 0.024*\"wear\" + 0.020*\"end\" + 0.018*\"death\" + 0.018*\"re\" + 0.016*\"deaths\"'),\n",
       " (6,\n",
       "  '0.122*\"covid19\" + 0.102*\"vaccines\" + 0.063*\"s\" + 0.022*\"world\" + 0.020*\"getting\" + 0.020*\"shot\" + 0.020*\"it\" + 0.019*\"\" + 0.017*\"help\" + 0.016*\"pandemic\"'),\n",
       " (7,\n",
       "  '0.102*\"india\" + 0.057*\"doses\" + 0.055*\"dose\" + 0.034*\"says\" + 0.031*\"second\" + 0.029*\"joe\" + 0.026*\"pm\" + 0.022*\"m\" + 0.022*\"rogan\" + 0.019*\"days\"')]"
      ]
     },
     "metadata": {},
     "execution_count": 45
    }
   ],
   "source": [
    "single_model.print_topics()"
   ]
  },
  {
   "source": [
    "We can use Perplexity and Coherence as two methods for considering our model's accuracy:"
   ],
   "cell_type": "markdown",
   "metadata": {}
  },
  {
   "cell_type": "code",
   "execution_count": 46,
   "metadata": {},
   "outputs": [
    {
     "output_type": "stream",
     "name": "stderr",
     "text": [
      "/home/npodpx/miniconda3/lib/python3.8/site-packages/ipykernel/ipkernel.py:287: DeprecationWarning: `should_run_async` will not call `transform_cell` automatically in the future. Please pass the result to `transformed_cell` argument and any exception that happen during thetransform in `preprocessing_exc_tuple` in IPython 7.17 and above.\n  and should_run_async(code)\n"
     ]
    }
   ],
   "source": [
    "# Perplexity\n",
    "single_model.log_perplexity(single_corpus)  # a measure of how good the model is. lower the better.\n",
    "\n",
    "# Compute Coherence Score\n",
    "single_coherence_model_lda = CoherenceModel(model=single_model, texts=tweets_clean_lst, dictionary=single_dict, coherence='c_v')\n",
    "single_coherence_lda = single_coherence_model_lda.get_coherence()\n"
   ]
  },
  {
   "cell_type": "code",
   "execution_count": 47,
   "metadata": {},
   "outputs": [
    {
     "output_type": "stream",
     "name": "stdout",
     "text": [
      "0.2755605520579796\n",
      "/home/npodpx/miniconda3/lib/python3.8/site-packages/ipykernel/ipkernel.py:287: DeprecationWarning: `should_run_async` will not call `transform_cell` automatically in the future. Please pass the result to `transformed_cell` argument and any exception that happen during thetransform in `preprocessing_exc_tuple` in IPython 7.17 and above.\n",
      "  and should_run_async(code)\n"
     ]
    }
   ],
   "source": [
    "print(single_coherence_lda)"
   ]
  },
  {
   "source": [
    "We can also visualize the topics and their overlap:"
   ],
   "cell_type": "markdown",
   "metadata": {}
  },
  {
   "cell_type": "code",
   "execution_count": 48,
   "metadata": {},
   "outputs": [
    {
     "output_type": "stream",
     "name": "stderr",
     "text": [
      "/home/npodpx/miniconda3/lib/python3.8/site-packages/ipykernel/ipkernel.py:287: DeprecationWarning: `should_run_async` will not call `transform_cell` automatically in the future. Please pass the result to `transformed_cell` argument and any exception that happen during thetransform in `preprocessing_exc_tuple` in IPython 7.17 and above.\n  and should_run_async(code)\n"
     ]
    },
    {
     "output_type": "execute_result",
     "data": {
      "text/plain": [
       "PreparedData(topic_coordinates=              x         y  topics  cluster       Freq\n",
       "topic                                                \n",
       "0      0.327850  0.235503       1        1  30.373125\n",
       "6     -0.233485  0.037001       2        1  17.573957\n",
       "1     -0.055914  0.009069       3        1  11.513686\n",
       "3      0.132062 -0.417745       4        1  11.271250\n",
       "4     -0.222575  0.057222       5        1  11.146542\n",
       "5      0.060801  0.010464       6        1   7.114003\n",
       "7     -0.041834  0.040858       7        1   6.566583\n",
       "2      0.033094  0.027628       8        1   4.440855, topic_info=              Term          Freq         Total Category  logprob  loglift\n",
       "27           covid  27101.000000  27101.000000  Default  30.0000  30.0000\n",
       "26              19  24218.000000  24218.000000  Default  29.0000  29.0000\n",
       "12         vaccine  22436.000000  22436.000000  Default  28.0000  28.0000\n",
       "45         covid19  11996.000000  11996.000000  Default  27.0000  27.0000\n",
       "56      vaccinated   8996.000000   8996.000000  Default  26.0000  26.0000\n",
       "...            ...           ...           ...      ...      ...      ...\n",
       "949     understand    252.099724    252.990949   Topic8  -4.5908   3.1108\n",
       "874          surge    244.198826    245.090346   Topic8  -4.6227   3.1107\n",
       "1257           etc    242.962735    243.855987   Topic8  -4.6277   3.1107\n",
       "1537          love    240.532629    241.423531   Topic8  -4.6378   3.1106\n",
       "759   experimental    234.961600    235.852841   Topic8  -4.6612   3.1105\n",
       "\n",
       "[273 rows x 6 columns], token_table=      Topic      Freq   Term\n",
       "term                        \n",
       "42        2  0.999762       \n",
       "794       4  0.999521     00\n",
       "358       4  0.999563     04\n",
       "26        1  0.999966     19\n",
       "847       1  0.999661     28\n",
       "...     ...       ...    ...\n",
       "82        2  0.999756  world\n",
       "191       2  0.999291   year\n",
       "238       2  0.999705  years\n",
       "419       6  0.999044    you\n",
       "808       3  0.999001  young\n",
       "\n",
       "[245 rows x 3 columns], R=30, lambda_step=0.01, plot_opts={'xlab': 'PC1', 'ylab': 'PC2'}, topic_order=[1, 7, 2, 4, 5, 6, 8, 3])"
      ],
      "text/html": "\n<link rel=\"stylesheet\" type=\"text/css\" href=\"https://cdn.jsdelivr.net/gh/bmabey/pyLDAvis@3.3.1/pyLDAvis/js/ldavis.v1.0.0.css\">\n\n\n<div id=\"ldavis_el11471400396295351524521287452\"></div>\n<script type=\"text/javascript\">\n\nvar ldavis_el11471400396295351524521287452_data = {\"mdsDat\": {\"x\": [0.32784953668925315, -0.23348492125762157, -0.05591376805643174, 0.13206194047528386, -0.22257469438935512, 0.06080122105975199, -0.041833769280669834, 0.033094454759789206], \"y\": [0.23550260685238608, 0.03700142468847123, 0.009068900547320896, -0.41774484624760194, 0.057222106831246636, 0.01046387139286343, 0.04085779905020089, 0.027628136885112887], \"topics\": [1, 2, 3, 4, 5, 6, 7, 8], \"cluster\": [1, 1, 1, 1, 1, 1, 1, 1], \"Freq\": [30.373125397832663, 17.57395681185918, 11.513685583932627, 11.271250107139068, 11.146541697662613, 7.114002699851094, 6.56658291480052, 4.4408547869222375]}, \"tinfo\": {\"Term\": [\"covid\", \"19\", \"vaccine\", \"covid19\", \"vaccinated\", \"vaccination\", \"vaccines\", \"s\", \"india\", \"t\", \"people\", \"new\", \"coronavirus\", \"available\", \"appointments\", \"doses\", \"dose\", \"mask\", \"near\", \"need\", \"sign\", \"04\", \"00\", \"cvs\", \"fully\", \"cases\", \"today\", \"like\", \"registration\", \"world\", \"covid\", \"19\", \"vaccine\", \"people\", \"coronavirus\", \"health\", \"28\", \"virus\", \"cdc\", \"news\", \"pfizer\", \"april\", \"dont\", \"received\", \"risk\", \"centers\", \"free\", \"open\", \"produce\", \"calling\", \"astrazeneca\", \"st\", \"johnson\", \"tuesday\", \"moderna\", \"data\", \"live\", \"canada\", \"want\", \"effective\", \"covid19\", \"s\", \"world\", \"getting\", \"shot\", \"it\", \"\", \"help\", \"pandemic\", \"years\", \"effects\", \"time\", \"year\", \"got\", \"won\", \"longer\", \"public\", \"disease\", \"transmission\", \"mrna\", \"protect\", \"governor\", \"vaccineswork\", \"family\", \"old\", \"rate\", \"cure\", \"update\", \"fight\", \"oxygen\", \"vaccines\", \"vaccinated\", \"fully\", \"today\", \"registration\", \"vaccinations\", \"state\", \"young\", \"private\", \"register\", \"dr\", \"million\", \"americans\", \"app\", \"here\", \"day\", \"healthy\", \"read\", \"government\", \"tennessee\", \"week\", \"states\", \"care\", \"guidelines\", \"single\", \"vaccinate\", \"considering\", \"follow\", \"program\", \"hesitancy\", \"florida\", \"declares\", \"vaccination\", \"available\", \"appointments\", \"near\", \"sign\", \"04\", \"00\", \"cvs\", \"school\", \"pa\", \"science\", \"i\", \"share\", \"md\", \"teachers\", \"miami\", \"36\", \"govt\", \"u\", \"covidvaccine\", \"indian\", \"residents\", \"white\", \"getvaccinated\", \"all\", \"long\", \"months\", \"51\", \"blood\", \"house\", \"t\", \"need\", \"like\", \"countries\", \"don\", \"said\", \"know\", \"age\", \"covaxin\", \"life\", \"covid19vaccine\", \"safe\", \"work\", \"patents\", \"saving\", \"begin\", \"peoplesvaccine\", \"fair\", \"suspend\", \"population\", \"appointment\", \"deserves\", \"way\", \"right\", \"let\", \"covishield\", \"walk\", \"fauci\", \"start\", \"country\", \"now\", \"new\", \"mask\", \"cases\", \"masks\", \"you\", \"wear\", \"end\", \"death\", \"re\", \"deaths\", \"outside\", \"can\", \"children\", \"covid19india\", \"variants\", \"going\", \"social\", \"phase\", \"demand\", \"corona\", \"trump\", \"that\", \"tested\", \"up\", \"rollout\", \"weeks\", \"likely\", \"number\", \"flu\", \"dying\", \"india\", \"doses\", \"dose\", \"says\", \"second\", \"joe\", \"pm\", \"m\", \"rogan\", \"days\", \"emergency\", \"use\", \"spread\", \"biden\", \"this\", \"times\", \"global\", \"ve\", \"wont\", \"administered\", \"a\", \"case\", \"saying\", \"higher\", \"return\", \"president\", \"j\", \"drug\", \"on\", \"covidindia\", \"study\", \"good\", \"working\", \"citizens\", \"employ\", \"online\", \"immune\", \"body\", \"out\", \"may\", \"c\", \"cells\", \"currently\", \"herd\", \"patients\", \"face\", \"d\", \"older\", \"b\", \"registrations\", \"encouraging\", \"heart\", \"citing\", \"not\", \"sir\", \"understand\", \"surge\", \"etc\", \"love\", \"experimental\"], \"Freq\": [27101.0, 24218.0, 22436.0, 11996.0, 8996.0, 8249.0, 10102.0, 6184.0, 3743.0, 4087.0, 7209.0, 2788.0, 5466.0, 2872.0, 2760.0, 2091.0, 2030.0, 2039.0, 2400.0, 2234.0, 2240.0, 2192.0, 2098.0, 2037.0, 1980.0, 1603.0, 1886.0, 1763.0, 1766.0, 2139.0, 27100.822451483426, 24217.933789638417, 22435.11834258974, 7208.624121137889, 5466.093337840929, 2810.3703786320107, 2367.908019071477, 1745.8511148811745, 1531.0329744698454, 1522.2890863891635, 1516.368493223434, 1360.8072544717909, 1117.699100669135, 1016.1579124155493, 969.6007725312953, 921.6701335453909, 916.6516461051776, 895.1382686526273, 892.3298531793664, 882.5207395363292, 858.126765489122, 849.4214214940979, 825.5767204540047, 787.9089389367547, 780.7922919261393, 779.2700775535426, 759.2182886632937, 746.377805359526, 722.3605661125871, 712.334909105362, 11995.409678444512, 6183.929739944536, 2138.6366732873357, 1960.235590892465, 1953.9423922022504, 1940.28166689313, 1891.563780350841, 1625.9005264331142, 1564.9988636164935, 1379.5198560443644, 1204.4086167184264, 1121.8182604824076, 1010.8316677591636, 1006.6326300313973, 901.5400036504426, 871.7901872435134, 800.2806122907587, 770.9288375869916, 728.2471994362008, 668.100405399484, 624.6245613975727, 619.5430269300876, 612.7424761886381, 563.8612423436364, 529.973752208278, 504.95734405766984, 498.3669421169349, 494.24699067786645, 489.653116828993, 482.60408768425805, 10006.917156502122, 8995.937640975928, 1979.8518438588894, 1886.0678444029934, 1765.4746840776506, 1513.5902849887598, 1424.9463891583098, 1324.423286737577, 1237.1788153514858, 1073.232539418551, 1048.7303107242099, 1017.4968996561755, 907.4208442622981, 828.1812103076118, 730.953493834042, 697.4412926912539, 689.7248967873352, 595.526806426263, 583.8997986585356, 552.2216944013605, 542.4838676303825, 532.5555866450835, 490.00446089303887, 486.33533705239813, 473.8556056426683, 440.76583602754874, 432.50237929440357, 425.9043468581958, 385.759460692946, 374.65710208177677, 374.31267637597887, 414.42894040505007, 8248.35860290811, 2871.7608857098203, 2759.1172513599668, 2400.0252530571315, 2239.741957301261, 2192.0475492769074, 2097.0945914986482, 2037.008885572073, 1352.3160739928146, 1279.9486808827046, 1110.6234994322879, 971.8367100785147, 894.0462884797204, 811.4177225969387, 805.1761381785111, 788.4155079675645, 730.0113221016156, 717.2599418277166, 699.2654567689583, 678.4789529160399, 667.4013976308767, 561.0809389578944, 557.4753572195691, 552.8617210635672, 553.0731299470366, 546.2548263238572, 530.2940136614848, 574.2282923586251, 516.9527561973109, 510.36900541427957, 4086.195749192339, 2233.459784833493, 1762.4675394362353, 1510.6865121662695, 1429.086321886355, 1254.7010849546089, 1193.5734689569424, 1135.0885323301668, 1116.8524645936695, 1078.7588909205454, 961.1740074124519, 944.4529550191542, 852.8752733555528, 851.8279492902712, 750.0580135235116, 745.8812068443942, 685.5466502587432, 685.554957283056, 684.1966135802173, 669.1766422565096, 644.9430191483374, 636.8713217970254, 628.5188121692938, 619.8124116876215, 619.6185617566301, 580.1011757345099, 578.5573472160717, 569.4631887813374, 568.3897818215353, 561.9948253776662, 763.5191107392916, 2787.312098732825, 2039.0860779698758, 1602.9207014943993, 1132.2708799567636, 951.0146020563704, 937.5986498250472, 800.8672219403287, 735.9675558019414, 706.9584481854827, 630.8861750993168, 584.596657511406, 560.421523718316, 544.9117504238577, 544.728747311549, 540.8849404493691, 535.0543115074663, 518.0436976560044, 505.9388351857374, 494.1055855195169, 477.1470623027376, 473.22528632686544, 459.1070188693542, 451.58179445453914, 444.1468481147792, 439.07266416891264, 439.29974967598133, 400.88911669095546, 393.06932993268566, 377.82379148049307, 374.8640424005259, 3742.628053339975, 2090.8172677139564, 2029.9414733192637, 1262.181143603666, 1135.1482382150177, 1061.2308182951526, 961.0867560406904, 826.5162602172811, 816.549984183284, 699.3200461869978, 690.0757914692656, 661.8426293785192, 641.7135730732517, 631.2152777301897, 611.7079030644742, 608.2899887152169, 596.7574965678358, 551.9388566728152, 474.02506348299767, 453.57411256682934, 434.0449725414995, 392.4412063061259, 363.30129112050065, 361.88931474891234, 354.3416287464056, 349.47943220877386, 336.15602056557475, 314.89027177667214, 311.9816531534861, 268.47153572735834, 904.4403630056634, 745.1107350534178, 642.8471643638321, 587.1805702783336, 568.7918444600201, 497.5105944004382, 418.5044316540375, 409.98998918575273, 404.9429604437746, 378.86468576305685, 373.5199343527087, 358.7601895763029, 356.4190257109177, 355.7927990348637, 343.1452558758499, 329.60292464123546, 327.7848121055428, 320.0000956737715, 315.38708381611747, 309.39911813343235, 286.0949827285373, 281.5391825030514, 277.3004532163614, 272.58067871340336, 257.8387778562539, 252.09972443245564, 244.19882580267299, 242.96273516251603, 240.53262942721898, 234.9616004571184], \"Total\": [27101.0, 24218.0, 22436.0, 11996.0, 8996.0, 8249.0, 10102.0, 6184.0, 3743.0, 4087.0, 7209.0, 2788.0, 5466.0, 2872.0, 2760.0, 2091.0, 2030.0, 2039.0, 2400.0, 2234.0, 2240.0, 2192.0, 2098.0, 2037.0, 1980.0, 1603.0, 1886.0, 1763.0, 1766.0, 2139.0, 27101.715844019112, 24218.82716824843, 22436.01172438767, 7209.517636486773, 5466.986996185497, 2811.2636827021024, 2368.8033670048085, 1746.7448014933666, 1531.9265840248393, 1523.1825642458107, 1517.2616305344357, 1361.7009578632337, 1118.592632379215, 1017.0511463691269, 970.4942062748825, 922.5658707549255, 917.5449414084682, 896.0321385386259, 893.2245782538255, 883.4151151305363, 859.0200006342758, 850.3157992198712, 826.4695767687145, 788.8023531641434, 781.685408578349, 780.163439556001, 760.1119378850505, 747.2710669662561, 723.2539769691008, 713.2287980106781, 11996.295859438342, 6184.8157306230805, 2139.522680863661, 1961.121439159338, 1954.828480734223, 1941.1675360627914, 1892.4497996432278, 1626.786697328735, 1565.8848297390691, 1380.406683087273, 1205.2950110031238, 1122.704260753227, 1011.7177984829843, 1007.5184393720984, 902.4263623681692, 872.6766852584244, 801.1665469040212, 771.8148378202258, 729.1344556625298, 668.9867296679801, 625.5102457897176, 620.4294295043004, 613.628206923222, 564.7471906843065, 530.8596056425531, 505.84359630335194, 499.2526453822561, 495.13305517174, 490.53952508750837, 483.49025822659564, 10102.561382269725, 8996.838140883645, 1980.7519965489228, 1886.9687184081422, 1766.376165424593, 1514.4906901049828, 1425.8468326080058, 1325.32383122067, 1238.0793147176596, 1074.133271762267, 1049.631708591212, 1018.3977501293651, 908.3212294216062, 829.0831108966732, 731.8539573910077, 698.3420638724076, 690.6254865563086, 596.4272726686347, 584.8002995219532, 553.1219765631528, 543.3843876163631, 533.4563357064989, 490.90514833458604, 487.2358528887729, 474.7569824455705, 441.66648727868784, 433.40505764830107, 426.8052131368183, 386.6608799855834, 375.55770713622735, 375.21284979103, 415.77479226312, 8249.269525277552, 2872.6709825808052, 2760.0272688328946, 2400.9352385654943, 2240.6518118752256, 2192.9573938465387, 2098.0043980954733, 2037.9186538631097, 1353.2264099839692, 1280.8585051371817, 1111.5347231935316, 972.7480907859423, 894.9575316414931, 812.3275546400755, 806.0865040338643, 789.3257545217767, 730.9225253491909, 718.1728237362789, 700.1765224280939, 679.3897969277679, 668.3150975129572, 561.9922543017385, 558.3869861680048, 553.7729575450468, 553.9847362246579, 547.1661851166776, 531.2050870696717, 575.21657189835, 517.8639263961153, 511.280616903967, 4087.089308895413, 2234.3534663251007, 1763.3612558967288, 1511.5798442912997, 1429.9797599365809, 1255.5950022377094, 1194.466899388726, 1135.9823490309404, 1117.7474455430092, 1079.6519717573467, 962.0677514911091, 945.3466483142485, 853.7688408571473, 852.7209228751811, 750.9509842482345, 746.7761282918962, 686.4394875696169, 686.4478735978607, 685.089445771686, 670.0708320578491, 645.8361617313714, 637.7641655786214, 629.4124091047244, 620.7059770201162, 620.5121423867785, 580.9960835999765, 579.4507235903874, 570.3569907414591, 569.2838352152062, 562.8886904873303, 871.7660525745991, 2788.207935062965, 2039.9815413193796, 1603.8162207068651, 1133.1661386423762, 951.9101402908187, 938.4938869775365, 801.7632972328269, 736.8631047010963, 707.8538803313664, 631.7815469445097, 585.4920369709524, 561.3173919726158, 545.8074730155714, 545.6261439297626, 541.7809274236254, 535.9496716635505, 518.9395623479102, 506.8356119130468, 495.0013916023026, 478.04380599518623, 474.1212033529455, 460.0028648065881, 452.47913755999605, 445.0423913077504, 439.96826971032095, 440.1959391477987, 401.7863437061359, 393.96494785199366, 378.7197263515513, 375.7599042911202, 3743.524864203135, 2091.713686125643, 2030.837926393987, 1263.0774536843262, 1136.044327188589, 1062.1268500992435, 961.9842404822829, 827.4126350972472, 817.446108135773, 700.2165814722559, 690.9726325435745, 662.7392168779861, 642.610018078686, 632.1114814362329, 612.6048006779688, 609.187043021778, 597.6541681831327, 552.8360046972218, 474.92165937652555, 454.4702256450758, 434.9416145700985, 393.3384061762388, 364.1978821006351, 362.7866296061255, 355.2385877363006, 350.37563097726127, 337.05195252939905, 315.78672371447465, 312.87842408245314, 269.3686509323858, 905.3322142722774, 746.0018906946236, 643.7383007187414, 588.0720809723013, 569.6826188293167, 498.4014366247411, 419.3958180536312, 410.8810972325534, 405.83423639805187, 379.758087557606, 374.4103210277158, 359.6512605251147, 357.3107650037189, 356.6841791215214, 344.03602434039374, 330.49429868348676, 328.67558696910675, 320.8909553773656, 316.27846172310404, 310.29059997877863, 286.98688486563526, 282.43020330913896, 278.19098209486464, 273.47172420750036, 258.73160045407354, 252.9909493561523, 245.0903457289962, 243.85598683701454, 241.42353089496015, 235.85284147267183], \"Category\": [\"Default\", \"Default\", \"Default\", \"Default\", \"Default\", \"Default\", \"Default\", \"Default\", \"Default\", \"Default\", \"Default\", \"Default\", \"Default\", \"Default\", \"Default\", \"Default\", \"Default\", \"Default\", \"Default\", \"Default\", \"Default\", \"Default\", \"Default\", \"Default\", \"Default\", \"Default\", \"Default\", \"Default\", \"Default\", \"Default\", \"Topic1\", \"Topic1\", \"Topic1\", \"Topic1\", \"Topic1\", \"Topic1\", \"Topic1\", \"Topic1\", \"Topic1\", \"Topic1\", \"Topic1\", \"Topic1\", \"Topic1\", \"Topic1\", \"Topic1\", \"Topic1\", \"Topic1\", \"Topic1\", \"Topic1\", \"Topic1\", \"Topic1\", \"Topic1\", \"Topic1\", \"Topic1\", \"Topic1\", \"Topic1\", \"Topic1\", \"Topic1\", \"Topic1\", \"Topic1\", \"Topic2\", \"Topic2\", \"Topic2\", \"Topic2\", \"Topic2\", \"Topic2\", \"Topic2\", \"Topic2\", \"Topic2\", \"Topic2\", \"Topic2\", \"Topic2\", \"Topic2\", \"Topic2\", \"Topic2\", \"Topic2\", \"Topic2\", \"Topic2\", \"Topic2\", \"Topic2\", \"Topic2\", \"Topic2\", \"Topic2\", \"Topic2\", \"Topic2\", \"Topic2\", \"Topic2\", \"Topic2\", \"Topic2\", \"Topic2\", \"Topic2\", \"Topic3\", \"Topic3\", \"Topic3\", \"Topic3\", \"Topic3\", \"Topic3\", \"Topic3\", \"Topic3\", \"Topic3\", \"Topic3\", \"Topic3\", \"Topic3\", \"Topic3\", \"Topic3\", \"Topic3\", \"Topic3\", \"Topic3\", \"Topic3\", \"Topic3\", \"Topic3\", \"Topic3\", \"Topic3\", \"Topic3\", \"Topic3\", \"Topic3\", \"Topic3\", \"Topic3\", \"Topic3\", \"Topic3\", \"Topic3\", \"Topic3\", \"Topic4\", \"Topic4\", \"Topic4\", \"Topic4\", \"Topic4\", \"Topic4\", \"Topic4\", \"Topic4\", \"Topic4\", \"Topic4\", \"Topic4\", \"Topic4\", \"Topic4\", \"Topic4\", \"Topic4\", \"Topic4\", \"Topic4\", \"Topic4\", \"Topic4\", \"Topic4\", \"Topic4\", \"Topic4\", \"Topic4\", \"Topic4\", \"Topic4\", \"Topic4\", \"Topic4\", \"Topic4\", \"Topic4\", \"Topic4\", \"Topic5\", \"Topic5\", \"Topic5\", \"Topic5\", \"Topic5\", \"Topic5\", \"Topic5\", \"Topic5\", \"Topic5\", \"Topic5\", \"Topic5\", \"Topic5\", \"Topic5\", \"Topic5\", \"Topic5\", \"Topic5\", \"Topic5\", \"Topic5\", \"Topic5\", \"Topic5\", \"Topic5\", \"Topic5\", \"Topic5\", \"Topic5\", \"Topic5\", \"Topic5\", \"Topic5\", \"Topic5\", \"Topic5\", \"Topic5\", \"Topic5\", \"Topic6\", \"Topic6\", \"Topic6\", \"Topic6\", \"Topic6\", \"Topic6\", \"Topic6\", \"Topic6\", \"Topic6\", \"Topic6\", \"Topic6\", \"Topic6\", \"Topic6\", \"Topic6\", \"Topic6\", \"Topic6\", \"Topic6\", \"Topic6\", \"Topic6\", \"Topic6\", \"Topic6\", \"Topic6\", \"Topic6\", \"Topic6\", \"Topic6\", \"Topic6\", \"Topic6\", \"Topic6\", \"Topic6\", \"Topic6\", \"Topic7\", \"Topic7\", \"Topic7\", \"Topic7\", \"Topic7\", \"Topic7\", \"Topic7\", \"Topic7\", \"Topic7\", \"Topic7\", \"Topic7\", \"Topic7\", \"Topic7\", \"Topic7\", \"Topic7\", \"Topic7\", \"Topic7\", \"Topic7\", \"Topic7\", \"Topic7\", \"Topic7\", \"Topic7\", \"Topic7\", \"Topic7\", \"Topic7\", \"Topic7\", \"Topic7\", \"Topic7\", \"Topic7\", \"Topic7\", \"Topic8\", \"Topic8\", \"Topic8\", \"Topic8\", \"Topic8\", \"Topic8\", \"Topic8\", \"Topic8\", \"Topic8\", \"Topic8\", \"Topic8\", \"Topic8\", \"Topic8\", \"Topic8\", \"Topic8\", \"Topic8\", \"Topic8\", \"Topic8\", \"Topic8\", \"Topic8\", \"Topic8\", \"Topic8\", \"Topic8\", \"Topic8\", \"Topic8\", \"Topic8\", \"Topic8\", \"Topic8\", \"Topic8\", \"Topic8\"], \"logprob\": [30.0, 29.0, 28.0, 27.0, 26.0, 25.0, 24.0, 23.0, 22.0, 21.0, 20.0, 19.0, 18.0, 17.0, 16.0, 15.0, 14.0, 13.0, 12.0, 11.0, 10.0, 9.0, 8.0, 7.0, 6.0, 5.0, 4.0, 3.0, 2.0, 1.0, -1.836, -1.9485, -2.025, -3.1603, -3.437, -4.1023, -4.2736, -4.5783, -4.7096, -4.7154, -4.7193, -4.8275, -5.0243, -5.1196, -5.1665, -5.2172, -5.2226, -5.2464, -5.2495, -5.2606, -5.2886, -5.2988, -5.3273, -5.374, -5.383, -5.385, -5.4111, -5.4281, -5.4608, -5.4748, -2.1039, -2.7665, -3.8283, -3.9154, -3.9186, -3.9256, -3.951, -4.1024, -4.1406, -4.2667, -4.4025, -4.4735, -4.5777, -4.5818, -4.6921, -4.7257, -4.8112, -4.8486, -4.9056, -4.9918, -5.0591, -5.0672, -5.0783, -5.1614, -5.2234, -5.2717, -5.2849, -5.2932, -5.3025, -5.317, -2.2852, -1.9688, -3.4825, -3.5311, -3.5971, -3.7511, -3.8114, -3.8846, -3.9527, -4.0949, -4.118, -4.1482, -4.2627, -4.3541, -4.479, -4.5259, -4.537, -4.6839, -4.7036, -4.7594, -4.7772, -4.7956, -4.8789, -4.8864, -4.9124, -4.9848, -5.0037, -5.0191, -5.1181, -5.1473, -5.1482, -5.0464, -2.0343, -3.0894, -3.1294, -3.2688, -3.3379, -3.3595, -3.4037, -3.4328, -3.8425, -3.8975, -4.0394, -4.1729, -4.2563, -4.3533, -4.361, -4.382, -4.459, -4.4766, -4.502, -4.5322, -4.5487, -4.7222, -4.7286, -4.7369, -4.7366, -4.749, -4.7786, -4.699, -4.8041, -4.8169, -2.7255, -3.3296, -3.5664, -3.7206, -3.7761, -3.9063, -3.9562, -4.0065, -4.0226, -4.0574, -4.1728, -4.1903, -4.2923, -4.2935, -4.4208, -4.4264, -4.5107, -4.5107, -4.5127, -4.5349, -4.5718, -4.5843, -4.5976, -4.6115, -4.6118, -4.6777, -4.6804, -4.6962, -4.6981, -4.7094, -4.403, -2.659, -2.9716, -3.2123, -3.5599, -3.7343, -3.7485, -3.9062, -3.9907, -4.0309, -4.1447, -4.2209, -4.2632, -4.2912, -4.2916, -4.2986, -4.3095, -4.3418, -4.3654, -4.3891, -4.424, -4.4323, -4.4626, -4.4791, -4.4957, -4.5072, -4.5067, -4.5982, -4.6179, -4.6574, -4.6653, -2.2842, -2.8665, -2.896, -3.3712, -3.4773, -3.5446, -3.6437, -3.7946, -3.8067, -3.9617, -3.975, -4.0168, -4.0476, -4.0641, -4.0955, -4.1011, -4.1203, -4.1983, -4.3505, -4.3946, -4.4386, -4.5394, -4.6165, -4.6204, -4.6415, -4.6553, -4.6942, -4.7596, -4.7688, -4.919, -3.3133, -3.5071, -3.6547, -3.7453, -3.7771, -3.911, -4.0839, -4.1045, -4.1169, -4.1835, -4.1977, -4.238, -4.2445, -4.2463, -4.2825, -4.3227, -4.3283, -4.3523, -4.3668, -4.386, -4.4643, -4.4804, -4.4955, -4.5127, -4.5683, -4.5908, -4.6227, -4.6277, -4.6378, -4.6612], \"loglift\": [30.0, 29.0, 28.0, 27.0, 26.0, 25.0, 24.0, 23.0, 22.0, 21.0, 20.0, 19.0, 18.0, 17.0, 16.0, 15.0, 14.0, 13.0, 12.0, 11.0, 10.0, 9.0, 8.0, 7.0, 6.0, 5.0, 4.0, 3.0, 2.0, 1.0, 1.1916, 1.1916, 1.1916, 1.1915, 1.1914, 1.1913, 1.1912, 1.1911, 1.191, 1.191, 1.191, 1.191, 1.1908, 1.1907, 1.1907, 1.1906, 1.1906, 1.1906, 1.1906, 1.1906, 1.1906, 1.1906, 1.1905, 1.1905, 1.1905, 1.1905, 1.1904, 1.1904, 1.1904, 1.1904, 1.7387, 1.7386, 1.7383, 1.7383, 1.7383, 1.7383, 1.7383, 1.7382, 1.7382, 1.7381, 1.738, 1.738, 1.7379, 1.7379, 1.7378, 1.7377, 1.7376, 1.7376, 1.7375, 1.7374, 1.7373, 1.7373, 1.7373, 1.7372, 1.7371, 1.737, 1.737, 1.737, 1.7369, 1.7369, 1.7292, 2.1615, 2.1612, 2.1612, 2.1611, 2.161, 2.161, 2.161, 2.1609, 2.1608, 2.1608, 2.1607, 2.1606, 2.1605, 2.1604, 2.1603, 2.1603, 2.1601, 2.1601, 2.16, 2.16, 2.1599, 2.1598, 2.1598, 2.1597, 2.1596, 2.1595, 2.1595, 2.1593, 2.1592, 2.1592, 2.1584, 2.1828, 2.1826, 2.1826, 2.1825, 2.1825, 2.1825, 2.1825, 2.1825, 2.1822, 2.1822, 2.1821, 2.182, 2.1819, 2.1818, 2.1818, 2.1818, 2.1817, 2.1816, 2.1816, 2.1816, 2.1815, 2.1813, 2.1813, 2.1813, 2.1813, 2.1812, 2.1812, 2.1812, 2.1812, 2.1811, 2.1938, 2.1936, 2.1935, 2.1934, 2.1934, 2.1933, 2.1933, 2.1933, 2.1932, 2.1932, 2.1931, 2.1931, 2.193, 2.193, 2.1929, 2.1928, 2.1927, 2.1927, 2.1927, 2.1927, 2.1927, 2.1926, 2.1926, 2.1926, 2.1926, 2.1925, 2.1925, 2.1925, 2.1925, 2.1925, 2.0615, 2.6428, 2.6427, 2.6425, 2.6423, 2.6422, 2.6422, 2.642, 2.6419, 2.6418, 2.6417, 2.6416, 2.6415, 2.6415, 2.6415, 2.6415, 2.6414, 2.6414, 2.6413, 2.6413, 2.6412, 2.6412, 2.6412, 2.6411, 2.6411, 2.6411, 2.6411, 2.6409, 2.6408, 2.6407, 2.6407, 2.7229, 2.7227, 2.7227, 2.7225, 2.7224, 2.7223, 2.7222, 2.7221, 2.7221, 2.7219, 2.7219, 2.7218, 2.7218, 2.7218, 2.7217, 2.7217, 2.7217, 2.7216, 2.7213, 2.7212, 2.7211, 2.7209, 2.7207, 2.7207, 2.7206, 2.7206, 2.7205, 2.7203, 2.7203, 2.7198, 3.1133, 3.1131, 3.1129, 3.1128, 3.1128, 3.1125, 3.1122, 3.1122, 3.1121, 3.112, 3.1119, 3.1118, 3.1118, 3.1118, 3.1117, 3.1116, 3.1116, 3.1115, 3.1115, 3.1114, 3.1112, 3.1112, 3.1111, 3.1111, 3.1109, 3.1108, 3.1107, 3.1107, 3.1106, 3.1105]}, \"token.table\": {\"Topic\": [2, 4, 4, 1, 1, 4, 4, 7, 7, 5, 4, 3, 3, 5, 4, 1, 1, 4, 8, 5, 7, 4, 8, 8, 1, 6, 1, 3, 7, 6, 1, 8, 1, 6, 8, 8, 3, 6, 1, 5, 5, 5, 1, 2, 6, 5, 7, 4, 5, 2, 8, 4, 8, 1, 3, 7, 6, 6, 3, 6, 5, 2, 5, 1, 7, 7, 3, 7, 6, 1, 2, 7, 8, 8, 6, 8, 8, 8, 5, 2, 5, 2, 3, 6, 3, 1, 3, 2, 4, 7, 6, 8, 2, 3, 2, 4, 3, 1, 3, 8, 2, 8, 3, 3, 7, 4, 4, 8, 7, 4, 2, 7, 7, 1, 5, 5, 5, 5, 6, 1, 4, 2, 8, 7, 6, 6, 8, 4, 4, 3, 1, 4, 2, 4, 5, 6, 1, 8, 3, 5, 6, 2, 8, 7, 8, 1, 8, 6, 2, 4, 2, 5, 8, 1, 5, 1, 6, 7, 5, 7, 3, 1, 3, 2, 2, 2, 6, 3, 1, 3, 3, 8, 4, 7, 5, 1, 7, 6, 2, 5, 5, 5, 7, 7, 4, 4, 7, 4, 2, 4, 3, 8, 6, 7, 1, 5, 3, 3, 8, 8, 5, 5, 4, 3, 6, 6, 7, 2, 7, 3, 2, 6, 1, 4, 8, 6, 2, 7, 3, 3, 4, 3, 1, 2, 5, 2, 6, 7, 1, 5, 1, 5, 6, 3, 6, 4, 2, 7, 5, 8, 2, 2, 2, 6, 3], \"Freq\": [0.999762318850776, 0.9995212602526548, 0.9995634234166039, 0.9999658460650186, 0.9996608553432511, 0.998737861651274, 0.9978850193861156, 0.9978350782299155, 0.9989653323396305, 0.999135242698288, 0.9982224488144407, 0.9985454161162263, 0.9986936039554565, 0.9987053036343927, 0.9996278048247947, 0.9994852336269678, 0.9988125996676182, 0.9997664255374619, 0.9959577970749608, 0.9989606948287549, 0.9982416370072767, 0.9983317501913535, 0.9978555907329689, 0.998904087294951, 0.9995301018474481, 0.9976530355348759, 0.9982990550250844, 0.998156164510279, 0.9965973163179008, 0.9994910759123602, 0.9993951511550868, 0.9981891888153991, 0.9993866337647387, 0.9985205900331299, 0.9957188328467869, 0.9981769565211654, 0.9990654062726011, 0.9978165055543116, 0.9998194624962184, 0.9996163985028713, 0.998421196761724, 0.9993312929982622, 0.999973586763907, 0.9998919783695296, 0.9988524304842635, 0.9988901493793403, 0.9949190415156018, 0.9979543453050773, 0.9982855588392188, 0.9974909589486561, 0.9963315826666871, 0.9995492195621408, 0.9979445173420494, 0.9985087233046154, 0.998078214184943, 0.9982625640345477, 0.9988286770017527, 0.9987629474961883, 0.995731361554029, 0.9979769923493323, 0.9988018054010167, 0.9989442573784575, 0.999314843493572, 0.999470198209732, 0.9995873986874596, 0.9996588031476884, 0.9993981616732408, 0.9975086865425477, 0.9979776865960358, 0.9982771334891335, 0.9989255651178328, 0.9985923718281083, 0.9988017559132848, 0.9965612196317009, 0.9990479768337348, 0.996489785433947, 0.9963840101847123, 0.9985043654748182, 0.9993475490054134, 0.9986769466114545, 0.9976208045776821, 0.9989001394180986, 0.9967675686168385, 0.9980995805038072, 0.9981133943259495, 0.999406087501685, 0.9996203479535889, 0.9994281643467123, 0.9986041977411223, 0.9989054402730573, 0.9982280581297815, 0.99865698638687, 0.999485429395792, 0.9986314994663864, 0.9993078511690789, 0.9983669338388811, 0.9974635427966853, 0.9995504930007534, 0.9990943187465793, 0.998476780089033, 0.999516410276758, 0.9980818349633379, 0.9988331587437854, 0.9985149895059269, 0.9978317017719768, 0.9974952758590347, 0.9992309511650258, 0.9990562184061154, 0.9998597941185982, 0.9980322193560326, 0.9993985392599551, 0.9968789602863751, 0.9989390625995961, 0.9994318281254218, 0.9996091148369495, 0.9991746456647753, 0.9993961278500835, 0.9992280334547576, 0.9980428809528902, 0.9985371392953722, 0.9978686820414003, 0.9992245865280289, 0.9982456933945497, 0.9995012946627305, 0.9995188479407785, 0.9989709023217255, 0.9980037619146399, 0.9983657397407087, 0.9983203962189477, 0.9986275007685479, 0.9991231656996188, 0.9977314090188417, 0.9985250385034248, 0.9996104690578606, 0.9993942469956077, 0.999566770093516, 0.9992236227793244, 0.9982750530832123, 0.12273935155423335, 0.876381912032096, 0.9975506758729302, 0.9983807288529466, 0.9972234948899765, 0.9971924427674129, 0.9991945516299878, 0.9988481009840683, 0.9979443912730083, 0.9991596179966887, 0.9989860018516322, 0.9993297424081282, 0.9994349330664271, 0.9991545617612497, 0.9969886166939056, 0.9999282009542284, 0.9993597577389189, 0.999168481882725, 0.9983513157059094, 0.9989768642345019, 0.9984019121462719, 0.9960738394578859, 0.9991282345930271, 0.9986290365450765, 0.998290802044396, 0.9991842726907321, 0.9985439395734519, 0.9983322981460735, 0.9987937053746647, 0.9992836131273425, 0.9989664763931692, 0.9989449430605499, 0.9992209103295604, 0.995840673295076, 0.9982343986164518, 0.9965133637530954, 0.9988626224875335, 0.9994907684438639, 0.9994542659982927, 0.9977992283148999, 0.9998681075300204, 0.9985754978698557, 0.9995261193006909, 0.9987336267370547, 0.9967109031669105, 0.9991469615096181, 0.9990937141228394, 0.9995189325332138, 0.9990807337675164, 0.9989300814757803, 0.9995761875057643, 0.9997090972047638, 0.9984055369935348, 0.9971723575597662, 0.9981894570850232, 0.9990507180692422, 0.9984525758299699, 0.9977448240477075, 0.9994060844484559, 0.9991445678381634, 0.9985284802072925, 0.9955512497819811, 0.9984097758644365, 0.9997334756319021, 0.9986521247677176, 0.9979715567077551, 0.9989410836429281, 0.9978198726935977, 0.9990127392451064, 0.9993727103585103, 0.9980514309432947, 0.9994866272033596, 0.9984441063596439, 0.997635196770327, 0.9989828210312446, 0.9983196774093283, 0.9960830640041701, 0.9976577707469904, 0.9977116147671721, 0.9988846036885091, 0.9984909715862882, 0.9999068405065735, 0.999846104521902, 0.9996760032212884, 0.9999549062284288, 0.9905408758577366, 0.009403555831566402, 0.9989762417761532, 0.998558591888166, 0.9984877889824132, 0.999573606005451, 0.9992221537189657, 0.9982662010731613, 0.9993447712521096, 0.999473745131013, 0.9974522867275669, 0.9972831663324428, 0.9975160843601977, 0.9995275377737743, 0.9980593444027474, 0.9990994742132128, 0.9988531042538294, 0.9997557021160205, 0.9992905151178909, 0.9997053889319317, 0.9990438800341588, 0.9990011262232789], \"Term\": [\"\", \"00\", \"04\", \"19\", \"28\", \"36\", \"51\", \"a\", \"administered\", \"age\", \"all\", \"americans\", \"app\", \"appointment\", \"appointments\", \"april\", \"astrazeneca\", \"available\", \"b\", \"begin\", \"biden\", \"blood\", \"body\", \"c\", \"calling\", \"can\", \"canada\", \"care\", \"case\", \"cases\", \"cdc\", \"cells\", \"centers\", \"children\", \"citing\", \"citizens\", \"considering\", \"corona\", \"coronavirus\", \"countries\", \"country\", \"covaxin\", \"covid\", \"covid19\", \"covid19india\", \"covid19vaccine\", \"covidindia\", \"covidvaccine\", \"covishield\", \"cure\", \"currently\", \"cvs\", \"d\", \"data\", \"day\", \"days\", \"death\", \"deaths\", \"declares\", \"demand\", \"deserves\", \"disease\", \"don\", \"dont\", \"dose\", \"doses\", \"dr\", \"drug\", \"dying\", \"effective\", \"effects\", \"emergency\", \"employ\", \"encouraging\", \"end\", \"etc\", \"experimental\", \"face\", \"fair\", \"family\", \"fauci\", \"fight\", \"florida\", \"flu\", \"follow\", \"free\", \"fully\", \"getting\", \"getvaccinated\", \"global\", \"going\", \"good\", \"got\", \"government\", \"governor\", \"govt\", \"guidelines\", \"health\", \"healthy\", \"heart\", \"help\", \"herd\", \"here\", \"hesitancy\", \"higher\", \"house\", \"i\", \"immune\", \"india\", \"indian\", \"it\", \"j\", \"joe\", \"johnson\", \"know\", \"let\", \"life\", \"like\", \"likely\", \"live\", \"long\", \"longer\", \"love\", \"m\", \"mask\", \"masks\", \"may\", \"md\", \"miami\", \"million\", \"moderna\", \"months\", \"mrna\", \"near\", \"need\", \"new\", \"news\", \"not\", \"now\", \"now\", \"number\", \"old\", \"older\", \"on\", \"online\", \"open\", \"out\", \"outside\", \"oxygen\", \"pa\", \"pandemic\", \"patents\", \"patients\", \"people\", \"peoplesvaccine\", \"pfizer\", \"phase\", \"pm\", \"population\", \"president\", \"private\", \"produce\", \"program\", \"protect\", \"public\", \"rate\", \"re\", \"read\", \"received\", \"register\", \"registration\", \"registrations\", \"residents\", \"return\", \"right\", \"risk\", \"rogan\", \"rollout\", \"s\", \"safe\", \"said\", \"saving\", \"saying\", \"says\", \"school\", \"science\", \"second\", \"share\", \"shot\", \"sign\", \"single\", \"sir\", \"social\", \"spread\", \"st\", \"start\", \"state\", \"states\", \"study\", \"surge\", \"suspend\", \"t\", \"teachers\", \"tennessee\", \"tested\", \"that\", \"this\", \"time\", \"times\", \"today\", \"transmission\", \"trump\", \"tuesday\", \"u\", \"understand\", \"up\", \"update\", \"use\", \"vaccinate\", \"vaccinated\", \"vaccination\", \"vaccinations\", \"vaccine\", \"vaccines\", \"vaccines\", \"vaccineswork\", \"variants\", \"ve\", \"virus\", \"walk\", \"want\", \"way\", \"wear\", \"week\", \"weeks\", \"white\", \"won\", \"wont\", \"work\", \"working\", \"world\", \"year\", \"years\", \"you\", \"young\"]}, \"R\": 30, \"lambda.step\": 0.01, \"plot.opts\": {\"xlab\": \"PC1\", \"ylab\": \"PC2\"}, \"topic.order\": [1, 7, 2, 4, 5, 6, 8, 3]};\n\nfunction LDAvis_load_lib(url, callback){\n  var s = document.createElement('script');\n  s.src = url;\n  s.async = true;\n  s.onreadystatechange = s.onload = callback;\n  s.onerror = function(){console.warn(\"failed to load library \" + url);};\n  document.getElementsByTagName(\"head\")[0].appendChild(s);\n}\n\nif(typeof(LDAvis) !== \"undefined\"){\n   // already loaded: just create the visualization\n   !function(LDAvis){\n       new LDAvis(\"#\" + \"ldavis_el11471400396295351524521287452\", ldavis_el11471400396295351524521287452_data);\n   }(LDAvis);\n}else if(typeof define === \"function\" && define.amd){\n   // require.js is available: use it to load d3/LDAvis\n   require.config({paths: {d3: \"https://d3js.org/d3.v5\"}});\n   require([\"d3\"], function(d3){\n      window.d3 = d3;\n      LDAvis_load_lib(\"https://cdn.jsdelivr.net/gh/bmabey/pyLDAvis@3.3.1/pyLDAvis/js/ldavis.v3.0.0.js\", function(){\n        new LDAvis(\"#\" + \"ldavis_el11471400396295351524521287452\", ldavis_el11471400396295351524521287452_data);\n      });\n    });\n}else{\n    // require.js not available: dynamically load d3 & LDAvis\n    LDAvis_load_lib(\"https://d3js.org/d3.v5.js\", function(){\n         LDAvis_load_lib(\"https://cdn.jsdelivr.net/gh/bmabey/pyLDAvis@3.3.1/pyLDAvis/js/ldavis.v3.0.0.js\", function(){\n                 new LDAvis(\"#\" + \"ldavis_el11471400396295351524521287452\", ldavis_el11471400396295351524521287452_data);\n            })\n         });\n}\n</script>"
     },
     "metadata": {},
     "execution_count": 48
    }
   ],
   "source": [
    "pyLDAvis.enable_notebook()\n",
    "single_plot = pyLDAvis.gensim_models.prepare(single_model, single_corpus, single_dict)\n",
    "single_plot\n"
   ]
  },
  {
   "source": [
    "Other resources used: https://www.geeksforgeeks.org/python-convert-a-string-representation-of-list-into-list/; https://stackoverflow.com/questions/66759852/no-module-named-pyldavis"
   ],
   "cell_type": "markdown",
   "metadata": {}
  }
 ]
}