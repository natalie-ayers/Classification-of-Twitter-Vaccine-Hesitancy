{
 "metadata": {
  "language_info": {
   "codemirror_mode": {
    "name": "ipython",
    "version": 3
   },
   "file_extension": ".py",
   "mimetype": "text/x-python",
   "name": "python",
   "nbconvert_exporter": "python",
   "pygments_lexer": "ipython3",
   "version": "3.8.2"
  },
  "orig_nbformat": 2,
  "kernelspec": {
   "name": "python382jvsc74a57bd0cda595cc091c472e9dda46637922ba357e006ec97741f8a0b4e3fc352369fe49",
   "display_name": "Python 3.8.2 64-bit ('base': conda)"
  }
 },
 "nbformat": 4,
 "nbformat_minor": 2,
 "cells": [
  {
   "source": [
    "# LDA for COVID-19 Tweet Topic Identification\n",
    "\n",
    "This notebook to identify the primary topics in COVID-19 vaccine tweets is based on a variety of guides written by others:\n",
    "https://www.machinelearningplus.com/nlp/topic-modeling-gensim-python/; \n",
    "https://thinkinfi.com/guide-to-build-best-lda-model-using-gensim-python/; https://towardsdatascience.com/topic-modeling-and-latent-dirichlet-allocation-in-python-9bf156893c24\n",
    "\n",
    "\n"
   ],
   "cell_type": "markdown",
   "metadata": {}
  },
  {
   "source": [
    "First, we load in the packages we'll need - we'll primarily be using Gensim for our LDA. We'll also load in our pre-processed data."
   ],
   "cell_type": "markdown",
   "metadata": {}
  },
  {
   "cell_type": "code",
   "execution_count": 1,
   "metadata": {},
   "outputs": [
    {
     "output_type": "stream",
     "name": "stderr",
     "text": [
      "/home/npodpx/miniconda3/lib/python3.8/site-packages/ipykernel/pylab/config.py:70: DeprecationWarning: InlineBackend._figure_formats_changed is deprecated in traitlets 4.1: use @observe and @unobserve instead.\n  def _figure_formats_changed(self, name, old, new):\n"
     ]
    }
   ],
   "source": [
    "import pandas as pd\n",
    "import numpy as np\n",
    "import gensim\n",
    "import gensim.corpora as corpora\n",
    "from gensim.models import CoherenceModel\n",
    "import pyLDAvis\n",
    "import pyLDAvis.gensim_models\n",
    "import matplotlib.pyplot as plt\n",
    "import os"
   ]
  },
  {
   "cell_type": "code",
   "execution_count": 2,
   "metadata": {},
   "outputs": [
    {
     "output_type": "stream",
     "name": "stderr",
     "text": [
      "/home/npodpx/miniconda3/lib/python3.8/site-packages/ipykernel/ipkernel.py:283: DeprecationWarning: `should_run_async` will not call `transform_cell` automatically in the future. Please pass the result to `transformed_cell` argument and any exception that happen during thetransform in `preprocessing_exc_tuple` in IPython 7.17 and above.\n  and should_run_async(code)\n"
     ]
    }
   ],
   "source": [
    "tweets = os.listdir('data/pre-processed')"
   ]
  },
  {
   "cell_type": "code",
   "execution_count": 4,
   "metadata": {},
   "outputs": [
    {
     "output_type": "stream",
     "name": "stderr",
     "text": [
      "/home/npodpx/miniconda3/lib/python3.8/site-packages/ipykernel/ipkernel.py:283: DeprecationWarning: `should_run_async` will not call `transform_cell` automatically in the future. Please pass the result to `transformed_cell` argument and any exception that happen during thetransform in `preprocessing_exc_tuple` in IPython 7.17 and above.\n  and should_run_async(code)\n"
     ]
    }
   ],
   "source": [
    "tweets_dfs = []\n",
    "for tweet in tweets:\n",
    "    tw_file = 'data/pre-processed/' + tweet\n",
    "    df = pd.read_csv(tw_file)\n",
    "    tweets_dfs.append(df) \n",
    "tweets_clean = pd.concat(tweets_dfs)\n",
    "tweets_clean = tweets_clean[tweets_clean['text_cln_tok'].notna()]"
   ]
  },
  {
   "cell_type": "code",
   "execution_count": 5,
   "metadata": {},
   "outputs": [
    {
     "output_type": "stream",
     "name": "stdout",
     "text": [
      "\n",
      "    Size of combined df:\t(155092, 10)\n",
      "    First five rows:\n",
      "\n",
      "                           created_at  \\\n",
      "0  Fri Apr 23 04:00:26 +0000 2021   \n",
      "1  Fri Apr 23 04:00:35 +0000 2021   \n",
      "2  Fri Apr 23 04:00:15 +0000 2021   \n",
      "3  Fri Apr 23 04:00:36 +0000 2021   \n",
      "4  Fri Apr 23 04:00:10 +0000 2021   \n",
      "\n",
      "                                                text in_reply_to_screen_name  \\\n",
      "0  @kimsmann @makaumutua @WHO @ahmednasirlaw @Don...                kimsmann   \n",
      "1  The world can now properly thank US, UK, Brazi...                     NaN   \n",
      "2  Truck drivers from Manitoba are receiving thei...                     NaN   \n",
      "3  Here we go...free passes if you vaccinate? htt...                     NaN   \n",
      "4  Here are some opportunities in the coming days...                     NaN   \n",
      "\n",
      "   retweet_count favorite_count              source               id_str  \\\n",
      "0            0.0              0  Twitter for iPhone  1385443422522183680   \n",
      "1            0.0              0  Twitter for iPhone  1385443459432017921   \n",
      "2            2.0             28         True Anthem  1385443373113384970   \n",
      "3            0.0              0  Twitter for iPhone  1385443464955969538   \n",
      "4            4.0              6          SocialFlow  1385443352578084866   \n",
      "\n",
      "  is_retweet                                           text_cln  \\\n",
      "0      False  suits expiry dates dont matter talk double sta...   \n",
      "1      False  world properly thank us uk brazil india infect...   \n",
      "2      False  truck drivers manitoba receiving vaccinations ...   \n",
      "3      False                          go free passes vaccinate    \n",
      "4      False  opportunities coming days vaccinated covid 19 ...   \n",
      "\n",
      "                                        text_cln_tok  \n",
      "0  ['suits', 'expiry', 'dates', 'dont', 'matter',...  \n",
      "1  ['world', 'properly', 'thank', 'us', 'uk', 'br...  \n",
      "2  ['truck', 'drivers', 'manitoba', 'receiving', ...  \n",
      "3              ['go', 'free', 'passes', 'vaccinate']  \n",
      "4  ['opportunities', 'coming', 'days', 'vaccinate...  \n",
      "\n",
      "/home/npodpx/miniconda3/lib/python3.8/site-packages/ipykernel/ipkernel.py:283: DeprecationWarning: `should_run_async` will not call `transform_cell` automatically in the future. Please pass the result to `transformed_cell` argument and any exception that happen during thetransform in `preprocessing_exc_tuple` in IPython 7.17 and above.\n",
      "  and should_run_async(code)\n"
     ]
    }
   ],
   "source": [
    "print(\"\"\"\n",
    "    Size of combined df:\\t{}\n",
    "    First five rows:\n",
    "\n",
    "    {}\n",
    "\"\"\".format(\n",
    "    tweets_clean.shape,\n",
    "    tweets_clean.head()\n",
    ")\n",
    ")\n"
   ]
  },
  {
   "source": [
    "Create bigram and trigram lists as well? Additional models to try? If so, use Gensim.models.phrases and gensim.models.phraser?"
   ],
   "cell_type": "markdown",
   "metadata": {}
  },
  {
   "source": [
    "Next, we use Gensim to create a dictionary of the unique words that appear mapped to an id. (We may also want to filter out from the dictionary some words that don't appear enough or appear in too many tweets.) Second, we'll create a corpus of the tweets, which contains the number of times a given word (identified by id) appeared in each tweet. "
   ],
   "cell_type": "markdown",
   "metadata": {}
  },
  {
   "cell_type": "code",
   "execution_count": 6,
   "metadata": {},
   "outputs": [
    {
     "output_type": "stream",
     "name": "stderr",
     "text": [
      "/home/npodpx/miniconda3/lib/python3.8/site-packages/ipykernel/ipkernel.py:283: DeprecationWarning: `should_run_async` will not call `transform_cell` automatically in the future. Please pass the result to `transformed_cell` argument and any exception that happen during thetransform in `preprocessing_exc_tuple` in IPython 7.17 and above.\n  and should_run_async(code)\n"
     ]
    }
   ],
   "source": [
    "import ast\n",
    "tweets_clean_lst = []\n",
    "for tweet in tweets_clean['text_cln_tok']:\n",
    "    tweets_clean_lst.append(ast.literal_eval(tweet))"
   ]
  },
  {
   "cell_type": "code",
   "execution_count": 7,
   "metadata": {},
   "outputs": [
    {
     "output_type": "stream",
     "name": "stderr",
     "text": [
      "/home/npodpx/miniconda3/lib/python3.8/site-packages/ipykernel/ipkernel.py:283: DeprecationWarning: `should_run_async` will not call `transform_cell` automatically in the future. Please pass the result to `transformed_cell` argument and any exception that happen during thetransform in `preprocessing_exc_tuple` in IPython 7.17 and above.\n  and should_run_async(code)\n"
     ]
    }
   ],
   "source": [
    "single_dict = corpora.Dictionary(tweets_clean_lst)\n",
    "single_dict.filter_extremes(no_below=50, no_above=0.80, keep_n=1000000)\n",
    "\n",
    "single_corpus = [single_dict.doc2bow(tweet) for tweet in tweets_clean_lst]"
   ]
  },
  {
   "cell_type": "code",
   "execution_count": 14,
   "metadata": {
    "tags": [
     "outputPrepend"
    ]
   },
   "outputs": [
    {
     "output_type": "stream",
     "name": "stdout",
     "text": [
      " 3421, 'lied': 3422, 'profits': 3423, 'laminate': 3424, 'voters': 3425, 'committed': 3426, 'hoax': 3427, 'bars': 3428, 'feet': 3429, 'waived': 3430, 'petition': 3431, 'bought': 3432, 'ppe': 3433, 'activity': 3434, 'shut': 3435, 'appeals': 3436, 'shift': 3437, 'thousands': 3438, 'exports': 3439, 'confident': 3440, 'participants': 3441, 'tokyo': 3442, 'institutions': 3443, 'kudos': 3444, 'reporter': 3445, 'contracts': 3446, 'departments': 3447, 'invest': 3448, 'handle': 3449, 'educated': 3450, 'her': 3451, 'river': 3452, 'consequences': 3453, 'account': 3454, 'word': 3455, 'wto': 3456, 'bigpharma': 3457, 'closely': 3458, 'watching': 3459, 'handling': 3460, 'scenes': 3461, 'expanded': 3462, 'professionals': 3463, 'show': 3464, 'mainstream': 3465, 'some': 3466, 'posting': 3467, 'omg': 3468, 'maine': 3469, 'docs': 3470, 'blaming': 3471, 'female': 3472, 'mp': 3473, 'signal': 3474, 'travellers': 3475, 'many': 3476, 'estimate': 3477, 'slowing': 3478, 'its': 3479, 'circulating': 3480, 'itself': 3481, 'videos': 3482, 'nasal': 3483, 'spray': 3484, 'peel': 3485, 'energy': 3486, 'lasting': 3487, 'headlines': 3488, 'irresponsible': 3489, 'types': 3490, 'built': 3491, 'sound': 3492, 'weird': 3493, 'terms': 3494, '8': 3495, 'wa': 3496, 'detected': 3497, 'afternoon': 3498, 'osha': 3499, 'revealed': 3500, 'beer': 3501, 'village': 3502, 'scale': 3503, 'implications': 3504, 'grand': 3505, 'wasn': 3506, 'connect': 3507, 'injected': 3508, 'journey': 3509, 'outdoor': 3510, 'da': 3511, 'connecticut': 3512, 'safer': 3513, 'upper': 3514, 'thrombocytopenia': 3515, 'prevents': 3516, 'alliance': 3517, 'tools': 3518, 'chairs': 3519, 'needing': 3520, 'welcomed': 3521, 'consignment': 3522, 'affects': 3523, 'myths': 3524, 'increasingly': 3525, 'cohort': 3526, 'billgates': 3527, 'ignore': 3528, 'monopolies': 3529, 'poorest': 3530, 'pose': 3531, 'disinformation': 3532, 'heartbreaking': 3533, 'mention': 3534, 'cough': 3535, 'prohibit': 3536, 'child': 3537, 'faqs': 3538, 'concerned': 3539, 'feds': 3540, 'murphy': 3541, 'stigma': 3542, 'subscribe': 3543, 'does': 3544, 'hate': 3545, 'strength': 3546, 'grants': 3547, 'table': 3548, 'mandated': 3549, 'model': 3550, 'mental': 3551, 'code': 3552, 'refugees': 3553, 'endcovideverywhere': 3554, 'deals': 3555, 'versus': 3556, 'decline': 3557, 'ofindia': 3558, 'rolling': 3559, 'adviser': 3560, 'dc': 3561, 'contribute': 3562, 'remind': 3563, 'smallpox': 3564, 'faced': 3565, 'task': 3566, '833': 3567, 'ticket': 3568, 'yankees': 3569, 'homeless': 3570, 'technologies': 3571, '00pm': 3572, 'because': 3573, 'h': 3574, 'miscarriages': 3575, 'labor': 3576, 'hungary': 3577, 'label': 3578, 'yellow': 3579, 'employ': 3580, 'milwaukee': 3581, 'launching': 3582, 'selfish': 3583, 'stepped': 3584, 'congratulations': 3585, 'uts': 3586, 'launched': 3587, 'indicate': 3588, 'host': 3589, 'physicians': 3590, 'asian': 3591, 'club': 3592, 'football': 3593, 'summary': 3594, 'honestly': 3595, 'alaska': 3596, 'checking': 3597, 'recommendation': 3598, 'appeal': 3599, 'novavax': 3600, 'nottingham': 3601, 'jump': 3602, 'controlling': 3603, 'silver': 3604, 'hanover': 3605, 'ocean': 3606, 'prefer': 3607, 'graphic': 3608, 'determined': 3609, 'serve': 3610, 'underserved': 3611, 'units': 3612, 'throw': 3613, 'vaccinates': 3614, 'your': 3615, 'makers': 3616, 'visited': 3617, 'toronto': 3618, 'british': 3619, 'pathetic': 3620, 'arrived': 3621, 'montgomery': 3622, 'decisions': 3623, 'wanna': 3624, 'articles': 3625, 'bell': 3626, 'pharmacist': 3627, 'marks': 3628, 'idiot': 3629, 'pennsylvania': 3630, 'inject': 3631, 'saskatchewan': 3632, 'antivaxxers': 3633, 'advanced': 3634, 'cybersecurity': 3635, 'wales': 3636, 'themselves': 3637, 'experiences': 3638, 'transportation': 3639, 'decrease': 3640, 'compromised': 3641, 'differently': 3642, 'btw': 3643, 'nvax': 3644, 'launches': 3645, 'ct': 3646, 'equal': 3647, 'dog': 3648, 'targets': 3649, 'reserve': 3650, 'followers': 3651, 'revenue': 3652, 'prominent': 3653, 'racial': 3654, 'zoom': 3655, 'managed': 3656, 'territories': 3657, 'sleep': 3658, 'max': 3659, 'humanrights': 3660, 'threatens': 3661, 'male': 3662, 'blue': 3663, 'compliance': 3664, 'poison': 3665, 'listening': 3666, 'lord': 3667, '25': 3668, 'pediatric': 3669, 'challenging': 3670, 'brampton': 3671, 'joint': 3672, 'rolled': 3673, 'scenario': 3674, 'mandating': 3675, 'baseball': 3676, 'bmc': 3677, 'partnered': 3678, 'rollouts': 3679, 'migrants': 3680, 'wasnt': 3681, 'approaching': 3682, 'canadas': 3683, 'context': 3684, 'delaying': 3685, 'advocate': 3686, 'warn': 3687, 'fmrevolution': 3688, 'medtech': 3689, 'todaysmedicalupdate': 3690, 'fairly': 3691, 'placebo': 3692, 'ignorant': 3693, 'stick': 3694, 'conference': 3695, 'nc': 3696, 'valid': 3697, 'booked': 3698, 'brand': 3699, 'ms': 3700, 'summit': 3701, 'terrible': 3702, 'much': 3703, 'controlled': 3704, 'identify': 3705, 'beautiful': 3706, 'powerful': 3707, 'congrats': 3708, 'cancel': 3709, 'barely': 3710, 'wanting': 3711, 'investigate': 3712, 'distributing': 3713, 'closer': 3714, 'newsletter': 3715, 'bunch': 3716, 'december': 3717, 'sri': 3718, 'remaining': 3719, 'lgbtq': 3720, 'award': 3721, 'vaccinehesitancy': 3722, 'ambassador': 3723, 'excited': 3724, 'minutes': 3725, 'timeline': 3726, 'unusual': 3727, 'covid19ontario': 3728, 'mississauga': 3729, 'harmful': 3730, 'plasma': 3731, 'ineffective': 3732, 'markets': 3733, 'respond': 3734, 'rushed': 3735, 'recommend': 3736, 'series': 3737, 'findings': 3738, 'rejects': 3739, 'huntingdon': 3740, 'harrisburg': 3741, 'senator': 3742, 'chester': 3743, 'arrange': 3744, 'un': 3745, 'argument': 3746, 'transmissions': 3747, 'outpaces': 3748, 'supports': 3749, 'scotland': 3750, 'moral': 3751, 'treating': 3752, 'sophie': 3753, 'defends': 3754, 'pmimrankhan': 3755, 'heavy': 3756, 'very': 3757, 'basic': 3758, 'annual': 3759, 'licensed': 3760, 'storage': 3761, 'celebrating': 3762, 'depending': 3763, 'locals': 3764, 'location': 3765, 'she': 3766, 'connection': 3767, 'shipping': 3768, 'position': 3769, 'internet': 3770, 'colleagues': 3771, 'tackle': 3772, 'distribute': 3773, 'rolls': 3774, 'covidcanada': 3775, 'mon': 3776, 'assessment': 3777, 'locked': 3778, 'build': 3779, 'stops': 3780, 'complex': 3781, 'pic': 3782, 'readily': 3783, 'households': 3784, 'outdoors': 3785, 'bound': 3786, 'increases': 3787, 'vaxx': 3788, 'banning': 3789, 'tiny': 3790, 'unveils': 3791, 'sharply': 3792, 'investment': 3793, 'limits': 3794, 'signaling': 3795, 'privileged': 3796, 'victims': 3797, '351': 3798, 'usage': 3799, 'advertising': 3800, 'activist': 3801, 'donated': 3802, 'obviously': 3803, 'fyi': 3804, 'incidence': 3805, 'broad': 3806, 'uganda': 3807, 'chart': 3808, 'languages': 3809, 'cbs': 3810, 'dallas': 3811, 'factory': 3812, 'innovation': 3813, 'countrys': 3814, 'grant': 3815, 'unsure': 3816, 'coronapandemic': 3817, 'focusing': 3818, 'exciting': 3819, 'vector': 3820, 'crap': 3821, 'mix': 3822, 'campaigns': 3823, 'evolution': 3824, 'hot': 3825, 'missouri': 3826, 'greed': 3827, 'havent': 3828, 'scammers': 3829, 'representative': 3830, 'french': 3831, 'dedicated': 3832, 'bus': 3833, 'chains': 3834, 'relevant': 3835, 'employer': 3836, 'situations': 3837, 'infertility': 3838, 'aarogya': 3839, 'setu': 3840, 'founder': 3841, 'determine': 3842, 'discussed': 3843, 'ads': 3844, 'outreach': 3845, 'covid19ireland': 3846, 'hidden': 3847, 'compulsory': 3848, 'corrupt': 3849, 'struggle': 3850, 'nj': 3851, 'movement': 3852, 'surveillance': 3853, 'technical': 3854, 'yall': 3855, 'doubts': 3856, 'comparison': 3857, 'interests': 3858, 'partnering': 3859, 'applies': 3860, 'nurse': 3861, 'tries': 3862, 'unused': 3863, '40': 3864, 'seychelles': 3865, 'crowds': 3866, 'producers': 3867, 'taxpayers': 3868, 'chronic': 3869, 'rally': 3870, 'depends': 3871, 'provinces': 3872, 'richmond': 3873, 'degree': 3874, 'nuclear': 3875, 'discriminatory': 3876, 'focused': 3877, 'size': 3878, 'honest': 3879, 'requested': 3880, 'transport': 3881, 'oil': 3882, 'resistance': 3883, 'easier': 3884, 'declared': 3885, 'anymore': 3886, 'wb': 3887, 'shameful': 3888, 'verify': 3889, 'mills': 3890, 'rose': 3891, 'township': 3892, 'bigger': 3893, 'eye': 3894, 'y': 3895, 'logic': 3896, 'bnt162b2': 3897, '31': 3898, 'mount': 3899, 'hang': 3900, 'ventilation': 3901, 'dude': 3902, 'suggested': 3903, 'unproven': 3904, 'blind': 3905, 'least': 3906, 'skipped': 3907, 'accelerate': 3908, 'voting': 3909, 'advisors': 3910, 'foxnews': 3911, 'anniversary': 3912, 'ottawa': 3913, 'nationally': 3914, 'rule': 3915, 'autism': 3916, 'eased': 3917, 'unit': 3918, 'charts': 3919, 'closing': 3920, 'consumer': 3921, 'worrying': 3922, 'johnsonandjohnsonvaccine': 3923, 'reveals': 3924, 'votes': 3925, 'formula': 3926, 'played': 3927, 'disgusting': 3928, 'regulators': 3929, 'counting': 3930, 'incompetent': 3931, 'coerced': 3932, 'favour': 3933, 'winter': 3934, 'virtually': 3935, 'enjoy': 3936, 'associate': 3937, 'temporarily': 3938, 'adding': 3939, 'chris': 3940, 'ed': 3941, 'channel': 3942, 'lying': 3943, 'stated': 3944, 'version': 3945, 'room': 3946, 'communications': 3947, 'prevented': 3948, 'nova': 3949, 'minnesota': 3950, 'effectively': 3951, 'dare': 3952, 'monitor': 3953, 'ins': 3954, 'text': 3955, 'extraordinary': 3956, 'thru': 3957, 'catholic': 3958, 'holds': 3959, 'massachusetts': 3960, 'restaurants': 3961, 'next': 3962, 'staystrongindia': 3963, 'bitcoin': 3964, 'conservatives': 3965, 'nyc': 3966, 'along': 3967, 'declare': 3968, 'feels': 3969, 'investing': 3970, 'obvious': 3971, 'bloomberg': 3972, 'dogecoin': 3973, 'forced': 3974, 'incentives': 3975, 'must': 3976, 'gatherings': 3977, 'offices': 3978, 'arrested': 3979, 'madhya': 3980, 'square': 3981, 'missed': 3982, 'curb': 3983, 'administrations': 3984, 'medium': 3985, 'holiday': 3986, 'woke': 3987, 'poonawalla': 3988, 'noon': 3989, 'hosting': 3990, 'incentive': 3991, 'morons': 3992, 'yorkers': 3993, 'narrative': 3994, 'entitled': 3995, 'intensive': 3996, 'astrazenecas': 3997, 'strangers': 3998, 'codes': 3999, 'zip': 4000, 'weve': 4001, 'transfer': 4002, 'content': 4003, 'through': 4004, 'thorough': 4005, 'spots': 4006, 'plenty': 4007, 'backing': 4008, 'activists': 4009, 'pro': 4010, 'assess': 4011, 'ft': 4012, 'careful': 4013, 'fraud': 4014, 'nonsense': 4015, 'reject': 4016, 'fool': 4017, 'messages': 4018, 'partly': 4019, 'animal': 4020, 'shouldnt': 4021, 'bills': 4022, 'conservative': 4023, 'dec': 4024, 'attempt': 4025, 'immunized': 4026, 'atlanta': 4027, 'twice': 4028, 'smaller': 4029, 'inviting': 4030, 'visitors': 4031, 'lists': 4032, 'privacy': 4033, 'helpful': 4034, 'explanation': 4035, 'boosters': 4036, 'resource': 4037, 'maskless': 4038, 'tts': 4039, 'powers': 4040, 'dollar': 4041, 'corner': 4042, 'awesome': 4043, 'proved': 4044, 'flight': 4045, 'suspicious': 4046, 'poorer': 4047, 'worldimmunisationweek': 4048, 'eager': 4049, 'expecting': 4050, 'freely': 4051, 'steady': 4052, 'politicizing': 4053, '150': 4054, 'bbmp': 4055, 'plays': 4056, 'expands': 4057, 'doug': 4058, 'staying': 4059, 'gains': 4060, 'partner': 4061, 'controversial': 4062, 'mutate': 4063, 'unanswered': 4064, 'wellbeing': 4065, 'carried': 4066, 'lagging': 4067, 'mounting': 4068, 'feb': 4069, 'todays': 4070, 'inequities': 4071, 'touch': 4072, 'requests': 4073, 'licensing': 4074, 'moron': 4075, 'interest': 4076, 'canadians': 4077, 'extend': 4078, 'negotiations': 4079, 'accessibility': 4080, 'obama': 4081, 'independent': 4082, 'recovering': 4083, 'cadila': 4084, 'featured': 4085, 'prevailed': 4086, 'capable': 4087, 'mutating': 4088, 'wtf': 4089, 'generally': 4090, 'lawmakers': 4091, 'covid19indiahelp': 4092, 'korean': 4093, 'cool': 4094, 'arkansas': 4095, 'resident': 4096, 'spanish': 4097, 'excuse': 4098, 'blocked': 4099, 'resumed': 4100, 'prince': 4101, 'investigated': 4102, 'boston': 4103, 'israeli': 4104, 'artificial': 4105, 'latin': 4106, 'ideas': 4107, 'republicans': 4108, 'fatigue': 4109, 'resumes': 4110, 'ramping': 4111, 'unveiled': 4112, 'devastating': 4113, 'newly': 4114, 'en': 4115, 'transplant': 4116, 'everywhere': 4117, '__': 4118, 'separate': 4119, 'clearing': 4120, 'shingles': 4121, 'hamont': 4122, 'venues': 4123, 'expanding': 4124, 'approves': 4125, 'suspected': 4126, 'awaiting': 4127, 'zone': 4128, 'remarks': 4129, 'dubai': 4130, 'encouraged': 4131, 'bay': 4132, 'reminder': 4133, 'designated': 4134, 'getvaccinatedasap': 4135, 'widespread': 4136, 'drops': 4137, 'jammu': 4138, 'addressing': 4139, 'follows': 4140, 'foolish': 4141, 'used': 4142, 'convention': 4143, 'quote': 4144, 'never': 4145, 'srinagar': 4146, 'vaccinationforall': 4147, 'threats': 4148, 'weather': 4149, 'decreased': 4150, 'manner': 4151, 'declares': 4152, 'inactivated': 4153, 'covidresources': 4154, 'downtown': 4155, 'mayo': 4156, 'shield': 4157, 'yours': 4158, 'utter': 4159, 'moves': 4160, 'detroit': 4161, 'ford': 4162, 'weak': 4163, 'capitalism': 4164, 'miles': 4165, 'el': 4166, 'paso': 4167, 'mississippi': 4168, 'signing': 4169, 'surrounding': 4170, 'ups': 4171, 'hopkins': 4172, 'johns': 4173, 'palestinians': 4174, 'friendly': 4175, 'organized': 4176, 'secondary': 4177, 'youngsters': 4178, 'pink': 4179, 'thisisourshot': 4180, 'angry': 4181, 'needle': 4182, 'barrier': 4183, 'sat': 4184, 'shes': 4185, 'actively': 4186, 'roundup': 4187, 'scheduling': 4188, 'armed': 4189, 'acip': 4190, 'suit': 4191, 'retail': 4192, 'clears': 4193, 'covidvaccinerace': 4194, 'contagious': 4195, 'finder': 4196, 'bishop': 4197, 'shed': 4198, '29': 4199, 'excess': 4200, 'sister': 4201, 'baptist': 4202, 'anthony': 4203, 'cult': 4204, 'approximately': 4205, 'dropping': 4206, 'permanently': 4207, 'discrimination': 4208, 'collapse': 4209, 'bntx': 4210, 'communication': 4211, 'reopening': 4212, 'skeptics': 4213, 'texans': 4214, 'greenfield': 4215, 'evaluate': 4216, 'mitigation': 4217, 'hire': 4218, 'decreasing': 4219, 'covid19on': 4220, 'medicare': 4221, 'autumn': 4222, 'sask': 4223, 'mn': 4224, 'carolina': 4225, 'est': 4226, 'democracy': 4227, 'noprofitonpandemic': 4228, 'signatures': 4229, 'ethnic': 4230, 'prisons': 4231, 'mentalhealth': 4232, 'fullyvaccinated': 4233, 'embarrassing': 4234, 'trudeauvaccinefailure': 4235, 'disparities': 4236, 'priest': 4237, 'childhood': 4238, 'ron': 4239, 'wecandothis': 4240, 'guardian': 4241, 'equitably': 4242, 'insane': 4243, 'physician': 4244, 'instructions': 4245, 'theyve': 4246, 'jones': 4247, 'sues': 4248, 'fifth': 4249, 'assume': 4250, 'disturbing': 4251, 'ohioans': 4252, 'bucks': 4253, 'rushing': 4254, 'vaxxed': 4255, 'vaccineready': 4256, 'countys': 4257, 'bubble': 4258, 'chat': 4259, 'atlantic': 4260, 'caregivers': 4261, 'produces': 4262, 'js': 4263, 'hygiene': 4264, 'ride': 4265, 'estonia': 4266, 'inflammation': 4267, 'voluntary': 4268, 'apollo': 4269, 'covidinindia': 4270, 'agent': 4271, 'messenger': 4272, 'potus': 4273, 'doing': 4274, 'latino': 4275, 'athletes': 4276, 'donald': 4277, 'desantis': 4278, 'rescue': 4279, 'argentina': 4280, 'yay': 4281, 'veterans': 4282, 'pneumonia': 4283, 'color': 4284, 'walmart': 4285, 'skip': 4286, 'applied': 4287, 'being': 4288, 'democrats': 4289, 'ave': 4290, 'yo': 4291, 'appts': 4292, 'gaines': 4293, 'authorisation': 4294, 'owned': 4295, 'ableg': 4296, '05': 4297, 'sponsored': 4298, 'owner': 4299, 'consecutively': 4300, 'embarrasing': 4301, 'gyms': 4302, 'halt': 4303, 'mad': 4304, 'stockpile': 4305, 'bet': 4306, 'drinking': 4307, 'naci': 4308, 'ontarios': 4309, 'serbia': 4310, 'prospect': 4311, 'rochelle': 4312, 'mothers': 4313, 'dark': 4314, 'owners': 4315, 'deadlier': 4316, 'trends': 4317, 'cures': 4318, 'whale': 4319, 'disorder': 4320, 'volunteering': 4321, 'complicated': 4322, 'fainting': 4323, 'ottnews': 4324, 'throwing': 4325, 'jim': 4326, 'combined': 4327, 'vaxbecause': 4328, 'painful': 4329, 'recipe': 4330, 'reviewing': 4331, 'fence': 4332, 'sanofi': 4333, 'protest': 4334, 'wh': 4335, 'immunocompromised': 4336, 'punishment': 4337, 'fired': 4338, 'alabama': 4339, 'cruise': 4340, 'independence': 4341, 'vhcon': 4342, 'waivers': 4343, 'rationale': 4344, 'james': 4345, 'ahf': 4346, 'sk': 4347, 'license': 4348, 'rages': 4349, 'surprisingly': 4350, 'harris': 4351, 'scare': 4352, 'paidsickdays': 4353, 'those': 4354, 'exceptions': 4355, 'jummamubarak': 4356, 'pakistanis': 4357, 'therapies': 4358, 'pfecolleague': 4359, 'transparency': 4360, 'genetic': 4361, 'refer': 4362, 'served': 4363, 'presented': 4364, 'savinglives': 4365, 'liability': 4366, 'headed': 4367, 'homebound': 4368, 'creates': 4369, 'canceled': 4370, 'cdcs': 4371, 'momentum': 4372, 'ribbon': 4373, 'churches': 4374, 'protective': 4375, 'indeed': 4376, 'tunnel': 4377, 'hudson': 4378, 'depopulation': 4379, 'museum': 4380, 'congratulated': 4381, 'jr': 4382, 'methodist': 4383, 'protesters': 4384, 'fulfill': 4385, 'fri': 4386, 'lockstep': 4387, 'restaurant': 4388, 'dchope': 4389, 'rsvp': 4390, 'timing': 4391, 'projections': 4392, 'match': 4393, 'dollars': 4394, 'sporting': 4395, 'arguments': 4396, 'violence': 4397, 'dining': 4398, 'innovative': 4399, 'aim': 4400, 'ennaid': 4401, 'adolescents': 4402, 'tens': 4403, 'republican': 4404, 'train': 4405, 'simulation': 4406, 'addiction': 4407, 'disorders': 4408, 'box': 4409, 'kennedy': 4410, 'kid': 4411, 'ingredient': 4412, 'closest': 4413, 'russias': 4414, 'suddenly': 4415, 'parish': 4416, 'memorial': 4417, 'gift': 4418, 'eating': 4419, 'substantial': 4420, 'admissions': 4421, 'walgreens': 4422, 'ontarians': 4423, 'questioned': 4424, 'abandoned': 4425, 'robert': 4426, 'calculated': 4427, 'timelines': 4428, 'modeling': 4429, 'kenyan': 4430, 'abpoli': 4431, 'right2cure': 4432, 'freethevaccine': 4433, 'speech': 4434, 'ward': 4435, 'cutting': 4436, 'nfl': 4437, 'founded': 4438, 'greatest': 4439, 'thehill': 4440, 'montreal': 4441, 'admits': 4442, 'fairgrounds': 4443, 'biontechs': 4444, 'indiacovidcrisis': 4445, 'duterte': 4446, 'ego': 4447, 'mega': 4448, 'spotify': 4449, 'skipping': 4450, 'bidens': 4451, 'dispatches': 4452, 'lobbyists': 4453, 'kvax': 4454, 'packed': 4455, 'recreation': 4456, 'secured': 4457, 'poisons': 4458, 'blvd': 4459, 'democrat': 4460, 'americas': 4461, 'phishing': 4462, 'biking': 4463, 'brazils': 4464, 'branch': 4465, 'pediatrician': 4466, 'ivanka': 4467, 'dressed': 4468, 'neighbourhoods': 4469, 'huffpost': 4470, 'backlash': 4471, 'quantities': 4472, 'venture': 4473, 'virtue': 4474, 'springs': 4475, 'nebraska': 4476, 'stance': 4477, 'teenagers': 4478, 'harry': 4479, '18s': 4480, 'grows': 4481, 'spreader': 4482, 'myocarditis': 4483, 'hiking': 4484, 'modifies': 4485, 'vancouver': 4486, 'nashville': 4487, 'restarting': 4488, 'pmcares': 4489, 'authorize': 4490, 'techno': 4491, 'bollywood': 4492, 'darth': 4493, 'deprived': 4494, 'carlson': 4495, 'pharmacovigilance': 4496, 'computerscience': 4497, 'oop': 4498, 'python': 4499, 'pythonprogramming': 4500, 'mart': 4501, 'forge': 4502, 'monumental': 4503, 'parishioners': 4504, 'mets': 4505, 'rio': 4506, 'sparks': 4507, 'katherine': 4508, 'savings': 4509, 'curbs': 4510, 'aunts': 4511, 'avenger': 4512, 'grandmas': 4513, 'uncles': 4514, 'debunked': 4515, 'fruitful': 4516, 'chopra': 4517, 'centner': 4518, 'altman': 4519, 'authorizes': 4520, 'indiastaystrong': 4521, 'vaccinebhiprecautionsbhi': 4522, 'bcci': 4523, 'dixit': 4524, 'madhuri': 4525, 'tuesdayvibe': 4526, 'indiaforchange': 4527, 'mahavaccination': 4528, 'categorises': 4529, 'meghan': 4530, 'godless': 4531, 'tai': 4532, 'callahan': 4533, 'vermin': 4534, 'vader': 4535, 'rogan': 4536, 'janeiro': 4537, 'joerogan': 4538, 'mayday': 4539, 'seating': 4540, 'karanja': 4541, 'modikavaccinejumla': 4542, 'covidemergencyindia': 4543, 'centraldelhi': 4544, 'northwestdelhi': 4545, 'southdelhi': 4546, 'doodle': 4547, 'westdelhi': 4548, 'vaccine__msp_': 4549, 'reintroduced': 4550, 'sams': 4551, 'wednesdaythought': 4552, 'gbsss': 4553}\n",
      "/home/npodpx/miniconda3/lib/python3.8/site-packages/ipykernel/ipkernel.py:283: DeprecationWarning: `should_run_async` will not call `transform_cell` automatically in the future. Please pass the result to `transformed_cell` argument and any exception that happen during thetransform in `preprocessing_exc_tuple` in IPython 7.17 and above.\n",
      "  and should_run_async(code)\n"
     ]
    }
   ],
   "source": [
    "print(single_dict.token2id)"
   ]
  },
  {
   "cell_type": "code",
   "execution_count": 15,
   "metadata": {},
   "outputs": [
    {
     "output_type": "stream",
     "name": "stdout",
     "text": [
      "[(0, 1), (1, 1), (2, 1), (3, 1), (4, 1), (5, 1), (6, 1), (7, 1), (8, 1), (9, 1), (10, 1), (11, 1), (12, 1), (13, 1)]\n",
      "/home/npodpx/miniconda3/lib/python3.8/site-packages/ipykernel/ipkernel.py:283: DeprecationWarning: `should_run_async` will not call `transform_cell` automatically in the future. Please pass the result to `transformed_cell` argument and any exception that happen during thetransform in `preprocessing_exc_tuple` in IPython 7.17 and above.\n",
      "  and should_run_async(code)\n"
     ]
    }
   ],
   "source": [
    "print(single_corpus[0])"
   ]
  },
  {
   "source": [
    "Now, we can try training an initial model."
   ],
   "cell_type": "markdown",
   "metadata": {}
  },
  {
   "cell_type": "code",
   "execution_count": 20,
   "metadata": {
    "tags": []
   },
   "outputs": [
    {
     "output_type": "stream",
     "name": "stderr",
     "text": [
      "/home/npodpx/miniconda3/lib/python3.8/site-packages/ipykernel/ipkernel.py:283: DeprecationWarning: `should_run_async` will not call `transform_cell` automatically in the future. Please pass the result to `transformed_cell` argument and any exception that happen during thetransform in `preprocessing_exc_tuple` in IPython 7.17 and above.\n  and should_run_async(code)\n"
     ]
    }
   ],
   "source": [
    "#import logging\n",
    "#logging.basicConfig(format='%(asctime)s : %(levelname)s : %(message)s', level=logging.INFO)\n",
    "single_model = gensim.models.ldamodel.LdaModel(corpus=single_corpus,\n",
    "                                           id2word=single_dict,\n",
    "                                           num_topics=6, \n",
    "                                           random_state=100,\n",
    "                                           update_every=1,\n",
    "                                           chunksize=100,\n",
    "                                           passes=10,\n",
    "                                           alpha='auto',\n",
    "                                           per_word_topics=True)"
   ]
  },
  {
   "cell_type": "code",
   "execution_count": 22,
   "metadata": {},
   "outputs": [
    {
     "output_type": "stream",
     "name": "stderr",
     "text": [
      "/home/npodpx/miniconda3/lib/python3.8/site-packages/ipykernel/ipkernel.py:287: DeprecationWarning: `should_run_async` will not call `transform_cell` automatically in the future. Please pass the result to `transformed_cell` argument and any exception that happen during thetransform in `preprocessing_exc_tuple` in IPython 7.17 and above.\n  coro = run_cell(code, store_history=store_history, silent=silent)\n"
     ]
    },
    {
     "output_type": "execute_result",
     "data": {
      "text/plain": [
       "[(0,\n",
       "  '0.067*\"waiver\" + 0.066*\"patent\" + 0.056*\"protections\" + 0.046*\"india\" + 0.035*\"supports\" + 0.025*\"canada\" + 0.023*\"ip\" + 0.023*\"global\" + 0.019*\"effective\" + 0.016*\"south\"'),\n",
       " (1,\n",
       "  '0.111*\"covid\" + 0.098*\"19\" + 0.093*\"vaccine\" + 0.027*\"s\" + 0.024*\"vaccinated\" + 0.019*\"coronavirus\" + 0.018*\"people\" + 0.018*\"biden\" + 0.010*\"administration\" + 0.010*\"support\"'),\n",
       " (2,\n",
       "  '0.114*\"vaccination\" + 0.052*\"available\" + 0.040*\"appointments\" + 0.039*\"05\" + 0.038*\"cvs\" + 0.037*\"sign\" + 0.035*\"near\" + 0.032*\"00\" + 0.029*\"06\" + 0.023*\"help\"'),\n",
       " (3,\n",
       "  '0.085*\"pfizer\" + 0.056*\"waiving\" + 0.055*\"says\" + 0.045*\"moderna\" + 0.029*\"protection\" + 0.024*\"know\" + 0.022*\"astrazeneca\" + 0.021*\"died\" + 0.017*\"biontech\" + 0.016*\"variant\"'),\n",
       " (4,\n",
       "  '0.117*\"vaccines\" + 0.091*\"covid19\" + 0.022*\"t\" + 0.021*\"property\" + 0.020*\"intellectual\" + 0.019*\"world\" + 0.018*\"pandemic\" + 0.014*\"patents\" + 0.014*\"backs\" + 0.011*\"like\"'),\n",
       " (5,\n",
       "  '0.020*\"it\" + 0.018*\"variants\" + 0.014*\"said\" + 0.014*\"time\" + 0.013*\"need\" + 0.012*\"government\" + 0.011*\"president\" + 0.010*\"decision\" + 0.010*\"waive\" + 0.010*\"free\"')]"
      ]
     },
     "metadata": {},
     "execution_count": 22
    }
   ],
   "source": [
    "single_model.print_topics()"
   ]
  },
  {
   "source": [
    "We can use Perplexity and Coherence as two methods for considering our model's accuracy:"
   ],
   "cell_type": "markdown",
   "metadata": {}
  },
  {
   "cell_type": "code",
   "execution_count": 23,
   "metadata": {},
   "outputs": [
    {
     "output_type": "stream",
     "name": "stderr",
     "text": [
      "/home/npodpx/miniconda3/lib/python3.8/site-packages/ipykernel/ipkernel.py:283: DeprecationWarning: `should_run_async` will not call `transform_cell` automatically in the future. Please pass the result to `transformed_cell` argument and any exception that happen during thetransform in `preprocessing_exc_tuple` in IPython 7.17 and above.\n",
      "  and should_run_async(code)\n",
      "-7.115721600186615\n"
     ]
    }
   ],
   "source": [
    "# Perplexity\n",
    "perp = single_model.log_perplexity(single_corpus)  # a measure of how good the model is. lower the better.\n",
    "print(perp)"
   ]
  },
  {
   "cell_type": "code",
   "execution_count": null,
   "metadata": {},
   "outputs": [],
   "source": [
    "# Compute Coherence Score\n",
    "single_coherence_model_lda = CoherenceModel(model=single_model, texts=tweets_clean_lst, dictionary=single_dict, coherence='c_v')\n",
    "single_coherence_lda = single_coherence_model_lda.get_coherence()"
   ]
  },
  {
   "cell_type": "code",
   "execution_count": 24,
   "metadata": {},
   "outputs": [
    {
     "output_type": "stream",
     "name": "stdout",
     "text": [
      "0.30482965200722806\n",
      "/home/npodpx/miniconda3/lib/python3.8/site-packages/ipykernel/ipkernel.py:287: DeprecationWarning: `should_run_async` will not call `transform_cell` automatically in the future. Please pass the result to `transformed_cell` argument and any exception that happen during thetransform in `preprocessing_exc_tuple` in IPython 7.17 and above.\n",
      "  coro = run_cell(code, store_history=store_history, silent=silent)\n"
     ]
    }
   ],
   "source": [
    "print(single_coherence_lda)"
   ]
  },
  {
   "source": [
    "We can also visualize the topics and their overlap:"
   ],
   "cell_type": "markdown",
   "metadata": {}
  },
  {
   "cell_type": "code",
   "execution_count": 25,
   "metadata": {},
   "outputs": [
    {
     "output_type": "stream",
     "name": "stderr",
     "text": [
      "/home/npodpx/miniconda3/lib/python3.8/site-packages/ipykernel/ipkernel.py:287: DeprecationWarning: `should_run_async` will not call `transform_cell` automatically in the future. Please pass the result to `transformed_cell` argument and any exception that happen during thetransform in `preprocessing_exc_tuple` in IPython 7.17 and above.\n  coro = run_cell(code, store_history=store_history, silent=silent)\n"
     ]
    },
    {
     "output_type": "execute_result",
     "data": {
      "text/plain": [
       "PreparedData(topic_coordinates=              x         y  topics  cluster       Freq\n",
       "topic                                                \n",
       "1      0.290615  0.004398       1        1  42.348064\n",
       "4     -0.162108  0.308992       2        1  19.533040\n",
       "5     -0.137731 -0.306782       3        1  14.453651\n",
       "2      0.292902  0.019986       4        1   9.798033\n",
       "0     -0.131730 -0.165027       5        1   8.295030\n",
       "3     -0.151947  0.138433       6        1   5.572182, topic_info=             Term           Freq          Total Category  logprob  loglift\n",
       "13       vaccines   48241.000000   48241.000000  Default  30.0000  30.0000\n",
       "75        vaccine   83206.000000   83206.000000  Default  29.0000  29.0000\n",
       "30          covid  101022.000000  101022.000000  Default  28.0000  28.0000\n",
       "107       covid19   37467.000000   37467.000000  Default  27.0000  27.0000\n",
       "29             19   90135.000000   90135.000000  Default  26.0000  26.0000\n",
       "...           ...            ...            ...      ...      ...      ...\n",
       "258         thats     865.818292     866.663846   Topic6  -4.9087   2.8864\n",
       "925   individuals     865.268920     866.113997   Topic6  -4.9093   2.8864\n",
       "1277       centre     849.949688     850.798189   Topic6  -4.9272   2.8864\n",
       "758   vaccinating     843.785567     844.629670   Topic6  -4.9345   2.8864\n",
       "763       chinese     818.248471     819.095863   Topic6  -4.9652   2.8863\n",
       "\n",
       "[218 rows x 6 columns], token_table=      Topic      Freq   Term\n",
       "term                        \n",
       "99        4  0.999931     00\n",
       "4297      4  0.999931     05\n",
       "598       4  0.999788     06\n",
       "710       1  0.999753      1\n",
       "103       4  0.999453     15\n",
       "...     ...       ...    ...\n",
       "161       1  0.999622   work\n",
       "28        2  0.999919  world\n",
       "3456      5  0.999581    wto\n",
       "449       4  0.999860   year\n",
       "976       1  0.999654    you\n",
       "\n",
       "[192 rows x 3 columns], R=30, lambda_step=0.01, plot_opts={'xlab': 'PC1', 'ylab': 'PC2'}, topic_order=[2, 5, 6, 3, 1, 4])"
      ],
      "text/html": "\n<link rel=\"stylesheet\" type=\"text/css\" href=\"https://cdn.jsdelivr.net/gh/bmabey/pyLDAvis@3.3.1/pyLDAvis/js/ldavis.v1.0.0.css\">\n\n\n<div id=\"ldavis_el4241405390900410889863214246\"></div>\n<script type=\"text/javascript\">\n\nvar ldavis_el4241405390900410889863214246_data = {\"mdsDat\": {\"x\": [0.2906145381681251, -0.16210825639354093, -0.13773120501619796, 0.29290227481083564, -0.1317301825834959, -0.15194716898572572], \"y\": [0.004398266383241583, 0.30899150805045356, -0.30678179058814314, 0.01998595615300868, -0.16502742238792795, 0.13843348238936726], \"topics\": [1, 2, 3, 4, 5, 6], \"cluster\": [1, 1, 1, 1, 1, 1], \"Freq\": [42.34806352546245, 19.533039996341657, 14.453650998836759, 9.79803269495703, 8.2950302847842, 5.5721824996179015]}, \"tinfo\": {\"Term\": [\"vaccines\", \"vaccine\", \"covid\", \"covid19\", \"19\", \"vaccination\", \"waiver\", \"pfizer\", \"patent\", \"available\", \"protections\", \"india\", \"s\", \"appointments\", \"waiving\", \"says\", \"05\", \"cvs\", \"vaccinated\", \"sign\", \"near\", \"00\", \"supports\", \"moderna\", \"t\", \"people\", \"06\", \"biden\", \"property\", \"intellectual\", \"vaccine\", \"vaccinated\", \"people\", \"biden\", \"administration\", \"support\", \"health\", \"new\", \"news\", \"cases\", \"u\", \"doses\", \"dose\", \"getting\", \"countries\", \"deaths\", \"children\", \"shot\", \"end\", \"vaccinations\", \"access\", \"cdc\", \"death\", \"fully\", \"day\", \"i\", \"m\", \"you\", \"1\", \"work\", \"s\", \"covid\", \"coronavirus\", \"19\", \"covid19\", \"t\", \"property\", \"intellectual\", \"world\", \"pandemic\", \"patents\", \"backs\", \"like\", \"virus\", \"today\", \"country\", \"right\", \"don\", \"big\", \"pharma\", \"want\", \"way\", \"kids\", \"state\", \"great\", \"announced\", \"mask\", \"rules\", \"plan\", \"let\", \"vaccinate\", \"family\", \"fda\", \"africa\", \"vaccines\", \"safe\", \"it\", \"variants\", \"said\", \"time\", \"need\", \"government\", \"president\", \"decision\", \"waive\", \"free\", \"ages\", \"medical\", \"hospital\", \"going\", \"hope\", \"joe\", \"days\", \"thank\", \"summer\", \"now\", \"blood\", \"taking\", \"step\", \"us\", \"boost\", \"cards\", \"start\", \"away\", \"immune\", \"cancer\", \"vaccination\", \"available\", \"appointments\", \"05\", \"cvs\", \"sign\", \"near\", \"00\", \"06\", \"help\", \"pa\", \"good\", \"got\", \"covidvaccine\", \"wednesday\", \"data\", \"year\", \"md\", \"public\", \"15\", \"lives\", \"risk\", \"trump\", \"stop\", \"community\", \"5\", \"immunity\", \"months\", \"high\", \"rate\", \"19\", \"covid\", \"waiver\", \"patent\", \"protections\", \"india\", \"supports\", \"canada\", \"ip\", \"global\", \"effective\", \"south\", \"rights\", \"million\", \"dr\", \"production\", \"control\", \"dont\", \"wto\", \"companies\", \"giving\", \"live\", \"proposal\", \"trips\", \"post\", \"booster\", \"crisis\", \"pharmaceutical\", \"man\", \"2\", \"nations\", \"waivers\", \"pfizer\", \"waiving\", \"says\", \"moderna\", \"protection\", \"know\", \"astrazeneca\", \"died\", \"biontech\", \"variant\", \"study\", \"efforts\", \"19vaccines\", \"china\", \"approves\", \"australia\", \"developing\", \"gov\", \"tucker\", \"single\", \"351\", \"older\", \"healthy\", \"company\", \"adverse\", \"thats\", \"individuals\", \"centre\", \"vaccinating\", \"chinese\"], \"Freq\": [48241.0, 83206.0, 101022.0, 37467.0, 90135.0, 23569.0, 11717.0, 10012.0, 11539.0, 10746.0, 9782.0, 7982.0, 23662.0, 8151.0, 6521.0, 6475.0, 7985.0, 7836.0, 21168.0, 7645.0, 7295.0, 6702.0, 6191.0, 5261.0, 8880.0, 16423.0, 6036.0, 16301.0, 8447.0, 8219.0, 83205.40368329748, 21168.137264070017, 16423.067339940633, 16300.864442008573, 9197.02738814836, 8675.09911657118, 8337.185789689966, 7964.268050024791, 7904.498971929781, 7416.1763312563935, 7375.288733199593, 6834.917709313383, 5648.29617458852, 5509.094963796388, 5123.258622576823, 4890.699720606981, 4569.064562205398, 3959.197737796933, 3966.6988612801274, 3908.0815991250165, 3732.9740310309417, 3688.8152757048256, 3670.74608532225, 3638.2503484088325, 3424.998579538953, 3323.103338066543, 2983.029370509599, 2918.1769447331653, 2823.8639726957517, 2817.23179576037, 23626.62301444845, 98776.5871239508, 16760.61955695961, 86940.80379150633, 37466.40488075173, 8879.376685009609, 8446.286677691984, 8218.676604107308, 7804.792905443612, 7442.548752439875, 5820.388748080195, 5790.368552484394, 4367.946500107778, 3661.909805099591, 3340.341596565862, 3195.655794426931, 2662.364453145054, 2531.0910948395403, 2479.1033008199165, 2343.009603207299, 2306.2524578983484, 2221.71445065073, 2180.434097125494, 2033.1935802469502, 1987.1662129350896, 1926.2007331926918, 1919.5905236742087, 1842.2862800448127, 1836.1901149714631, 1823.429559903663, 1768.4141685449918, 1771.4337249653445, 1749.9401578436268, 1730.4210191623795, 48212.86757066456, 2671.3589865069985, 6091.826252253521, 5415.945242024188, 4319.667321223348, 4127.896997772724, 3997.461320088203, 3771.9151076434723, 3294.840663019613, 3186.7853013458666, 3006.9162967208226, 2936.9723550653234, 2357.4387610944277, 2331.1610854572928, 2308.7365698098843, 2245.2562583500276, 2225.3069223540956, 2178.8240628243616, 2093.207666679231, 2028.8104960902326, 2040.088770037883, 2001.638627804281, 1840.6974092400271, 1771.6455352508137, 1733.8721291204113, 1734.0656441961848, 1647.310965742239, 1601.135662017413, 1490.9816675965872, 1407.7551684707105, 1395.2145132344665, 1368.4520582493828, 23568.48661334808, 10745.821313751178, 8150.473910619041, 7984.712925122211, 7836.05522691545, 7644.571702484169, 7294.605808304244, 6701.623728734069, 6035.439087867864, 4658.67785597145, 4301.182889136658, 3553.741499915514, 3482.69048637152, 3217.3459909232683, 3154.4306013464907, 2989.7317528849017, 2818.548298531128, 2728.3576908530126, 2728.0809206056742, 2336.4339265538583, 2182.7186890320972, 1946.874905686508, 1735.7758421711376, 1720.7163523841427, 1681.4295744437713, 1645.9013787172548, 1493.4754948876398, 1485.2615071029952, 1430.7727247860905, 1396.0387309837545, 3193.637478923994, 2244.9090212294836, 11716.698134263946, 11538.886062072577, 9781.604176141533, 7981.405566385032, 6190.428624488394, 4387.461172858609, 3958.4906869335446, 3951.4739460058963, 3355.606426624847, 2755.231815451237, 2674.7212500367577, 2248.137971507847, 2163.8894370433873, 2126.9569109287977, 1993.1250007735532, 1819.2317146490238, 1693.8482844802882, 1649.856414867531, 1604.108571365321, 1571.887206608183, 1488.8279668031787, 1443.6220865358557, 1435.0693765962828, 1388.5060678606617, 1205.3750972610173, 1150.9663300380112, 1115.8753894669906, 1105.3091389520778, 1025.5211098814996, 1003.6605439299195, 10011.727565902496, 6520.347118633154, 6474.426396582634, 5261.106728808355, 3382.588257384035, 2832.8599648202608, 2609.034402243292, 2437.434971753591, 1981.8388945081729, 1842.835220362332, 1822.202877978813, 1340.8474213768516, 1306.684542457424, 1235.8887669980695, 1117.9350214632789, 1068.565034988748, 1057.5159852216232, 1040.6161406097438, 1044.2017240533607, 987.5472991985406, 921.002099323324, 902.8854326934743, 892.5294471726709, 872.0883664905402, 869.074055861464, 865.8182923535077, 865.2689201506906, 849.9496880173607, 843.7855669644781, 818.2484706246825], \"Total\": [48241.0, 83206.0, 101022.0, 37467.0, 90135.0, 23569.0, 11717.0, 10012.0, 11539.0, 10746.0, 9782.0, 7982.0, 23662.0, 8151.0, 6521.0, 6475.0, 7985.0, 7836.0, 21168.0, 7645.0, 7295.0, 6702.0, 6191.0, 5261.0, 8880.0, 16423.0, 6036.0, 16301.0, 8447.0, 8219.0, 83206.23865678064, 21168.971576440126, 16423.902451580518, 16301.700004154278, 9197.862805949675, 8675.935137095072, 8338.020489381095, 7965.10184220889, 7905.333193488176, 7417.010477231134, 7376.123305277356, 6835.752049951196, 5649.1294550185075, 5509.929046822678, 5124.094294121764, 4891.534476642025, 4569.899613304207, 3960.0309346727777, 3967.5347377180187, 3908.9137304518863, 3733.8088695651068, 3689.6503098747407, 3671.5828824866107, 3639.0829734297, 3425.8332212285927, 3323.938171225757, 2983.863044426668, 2919.011066541512, 2824.6985697970326, 2818.066036989348, 23662.8286655232, 101022.16291841478, 16929.822554338836, 90135.10790108146, 37467.24190928907, 8880.211722721708, 8447.12102656376, 8219.510847550559, 7805.628810597306, 7443.384444638727, 5821.224529471453, 5791.206289736328, 4368.78232490043, 3662.7466819395595, 3341.1771131859077, 3196.4919455517274, 2663.1988602610363, 2531.9254751346007, 2479.938088611638, 2343.84569572338, 2307.087861304797, 2222.5498401015925, 2181.2699783088574, 2034.0289501530094, 1988.0008011235716, 1927.0376202655668, 1920.4250313361752, 1843.1202890374063, 1837.0293465135662, 1824.2653930152555, 1769.249171748423, 1772.2716486283798, 1750.7788763471058, 1731.262141622105, 48241.64796110146, 3104.5907197264987, 6092.659553861123, 5416.780815822646, 4320.501253678104, 4128.729914366982, 3998.2936852289063, 3772.749200946676, 3295.6743228989762, 3187.6208685157553, 3007.751271581919, 2937.80429337615, 2358.2722398770857, 2331.9947033681237, 2309.5726720708444, 2246.0886786606006, 2226.1400220979103, 2179.6582225420543, 2094.042151162884, 2029.643087955156, 2040.926130592586, 2002.4721455960282, 1841.5311367734218, 1772.4805494352447, 1734.7034833369198, 1734.8999183031797, 1648.1434241127179, 1601.9739511233893, 1491.8148810895682, 1408.5879713301701, 1396.0461442076812, 1369.2876679470417, 23569.329640569158, 10746.66147606508, 8151.312372606951, 7985.550338187364, 7836.893303784815, 7645.409931525932, 7295.443766187448, 6702.461400760839, 6036.280574625825, 4659.526184844263, 4302.020526698811, 3554.5874504923613, 3483.536782488805, 3218.192331829068, 3155.2782846823043, 2990.5779278334894, 2819.394169623117, 2729.195932234211, 2728.926522786917, 2337.2785465282436, 2183.5664404181907, 1947.7212633034947, 1736.6211408788972, 1721.5628501993433, 1682.2717600163578, 1646.7426059739332, 1494.3182880233041, 1486.1096141434568, 1431.6172875222217, 1396.8825342023356, 90135.10790108146, 101022.16291841478, 11717.562127732574, 11539.750118788781, 9782.467351950023, 7982.274670862574, 6191.291675030043, 4388.3298781276035, 3959.354848170241, 3952.3385974748203, 3356.4742287065333, 2756.0988858747423, 2675.5860895044693, 2249.0075626250114, 2164.755812620298, 2127.822189365744, 1993.9953110568008, 1820.1002523640354, 1694.7108621771774, 1650.7234219683871, 1604.9786879906562, 1572.7541498683988, 1489.6913022529272, 1444.4883325188273, 1435.9374815966928, 1389.373139941909, 1206.241862785492, 1151.8330480121735, 1116.75080757947, 1106.1763799142427, 1026.3870134506221, 1004.5259172786748, 10012.571092545488, 6521.191887467433, 6475.2709164248545, 5261.949732823761, 3383.4320924804033, 2833.7052821746856, 2609.8780792107127, 2438.279762526803, 1982.680762887891, 1843.678875409545, 1823.0463385036282, 1341.6911671896423, 1307.530345194331, 1236.736159032328, 1118.7769810844516, 1069.4130581845557, 1058.3599826971135, 1041.4612715409303, 1045.055643604405, 988.3928020716137, 921.8451267741763, 903.7275833133637, 893.3789955422934, 872.9311006542356, 869.9170592067114, 866.6638456026792, 866.11399673964, 850.7981891560364, 844.6296702865276, 819.0958633451316], \"Category\": [\"Default\", \"Default\", \"Default\", \"Default\", \"Default\", \"Default\", \"Default\", \"Default\", \"Default\", \"Default\", \"Default\", \"Default\", \"Default\", \"Default\", \"Default\", \"Default\", \"Default\", \"Default\", \"Default\", \"Default\", \"Default\", \"Default\", \"Default\", \"Default\", \"Default\", \"Default\", \"Default\", \"Default\", \"Default\", \"Default\", \"Topic1\", \"Topic1\", \"Topic1\", \"Topic1\", \"Topic1\", \"Topic1\", \"Topic1\", \"Topic1\", \"Topic1\", \"Topic1\", \"Topic1\", \"Topic1\", \"Topic1\", \"Topic1\", \"Topic1\", \"Topic1\", \"Topic1\", \"Topic1\", \"Topic1\", \"Topic1\", \"Topic1\", \"Topic1\", \"Topic1\", \"Topic1\", \"Topic1\", \"Topic1\", \"Topic1\", \"Topic1\", \"Topic1\", \"Topic1\", \"Topic1\", \"Topic1\", \"Topic1\", \"Topic1\", \"Topic2\", \"Topic2\", \"Topic2\", \"Topic2\", \"Topic2\", \"Topic2\", \"Topic2\", \"Topic2\", \"Topic2\", \"Topic2\", \"Topic2\", \"Topic2\", \"Topic2\", \"Topic2\", \"Topic2\", \"Topic2\", \"Topic2\", \"Topic2\", \"Topic2\", \"Topic2\", \"Topic2\", \"Topic2\", \"Topic2\", \"Topic2\", \"Topic2\", \"Topic2\", \"Topic2\", \"Topic2\", \"Topic2\", \"Topic2\", \"Topic2\", \"Topic2\", \"Topic3\", \"Topic3\", \"Topic3\", \"Topic3\", \"Topic3\", \"Topic3\", \"Topic3\", \"Topic3\", \"Topic3\", \"Topic3\", \"Topic3\", \"Topic3\", \"Topic3\", \"Topic3\", \"Topic3\", \"Topic3\", \"Topic3\", \"Topic3\", \"Topic3\", \"Topic3\", \"Topic3\", \"Topic3\", \"Topic3\", \"Topic3\", \"Topic3\", \"Topic3\", \"Topic3\", \"Topic3\", \"Topic3\", \"Topic3\", \"Topic4\", \"Topic4\", \"Topic4\", \"Topic4\", \"Topic4\", \"Topic4\", \"Topic4\", \"Topic4\", \"Topic4\", \"Topic4\", \"Topic4\", \"Topic4\", \"Topic4\", \"Topic4\", \"Topic4\", \"Topic4\", \"Topic4\", \"Topic4\", \"Topic4\", \"Topic4\", \"Topic4\", \"Topic4\", \"Topic4\", \"Topic4\", \"Topic4\", \"Topic4\", \"Topic4\", \"Topic4\", \"Topic4\", \"Topic4\", \"Topic4\", \"Topic4\", \"Topic5\", \"Topic5\", \"Topic5\", \"Topic5\", \"Topic5\", \"Topic5\", \"Topic5\", \"Topic5\", \"Topic5\", \"Topic5\", \"Topic5\", \"Topic5\", \"Topic5\", \"Topic5\", \"Topic5\", \"Topic5\", \"Topic5\", \"Topic5\", \"Topic5\", \"Topic5\", \"Topic5\", \"Topic5\", \"Topic5\", \"Topic5\", \"Topic5\", \"Topic5\", \"Topic5\", \"Topic5\", \"Topic5\", \"Topic5\", \"Topic6\", \"Topic6\", \"Topic6\", \"Topic6\", \"Topic6\", \"Topic6\", \"Topic6\", \"Topic6\", \"Topic6\", \"Topic6\", \"Topic6\", \"Topic6\", \"Topic6\", \"Topic6\", \"Topic6\", \"Topic6\", \"Topic6\", \"Topic6\", \"Topic6\", \"Topic6\", \"Topic6\", \"Topic6\", \"Topic6\", \"Topic6\", \"Topic6\", \"Topic6\", \"Topic6\", \"Topic6\", \"Topic6\", \"Topic6\"], \"logprob\": [30.0, 29.0, 28.0, 27.0, 26.0, 25.0, 24.0, 23.0, 22.0, 21.0, 20.0, 19.0, 18.0, 17.0, 16.0, 15.0, 14.0, 13.0, 12.0, 11.0, 10.0, 9.0, 8.0, 7.0, 6.0, 5.0, 4.0, 3.0, 2.0, 1.0, -2.3714, -3.7402, -3.9941, -4.0015, -4.5739, -4.6323, -4.672, -4.7178, -4.7253, -4.7891, -4.7946, -4.8707, -5.0614, -5.0863, -5.159, -5.2054, -5.2734, -5.4167, -5.4148, -5.4297, -5.4755, -5.4874, -5.4923, -5.5012, -5.5616, -5.5918, -5.6998, -5.7218, -5.7546, -5.757, -3.6304, -2.1999, -3.9737, -2.3275, -2.3955, -3.8352, -3.8852, -3.9125, -3.9642, -4.0117, -4.2576, -4.2627, -4.5446, -4.7209, -4.8129, -4.8571, -5.0397, -5.0903, -5.111, -5.1675, -5.1833, -5.2206, -5.2394, -5.3093, -5.3322, -5.3634, -5.3668, -5.4079, -5.4112, -5.4182, -5.4488, -5.4471, -5.4593, -5.4706, -2.1433, -5.0363, -3.9108, -4.0284, -4.2546, -4.3, -4.3321, -4.3902, -4.5254, -4.5588, -4.6169, -4.6404, -4.8602, -4.8714, -4.8811, -4.9089, -4.9179, -4.939, -4.9791, -5.0103, -5.0048, -5.0238, -5.1076, -5.1459, -5.1674, -5.1673, -5.2186, -5.2471, -5.3183, -5.3758, -5.3847, -5.4041, -2.1691, -2.9545, -3.2309, -3.2515, -3.2703, -3.295, -3.3419, -3.4267, -3.5314, -3.7903, -3.8701, -4.061, -4.0812, -4.1604, -4.1802, -4.2338, -4.2928, -4.3253, -4.3254, -4.4804, -4.5484, -4.6628, -4.7775, -4.7863, -4.8094, -4.8307, -4.9279, -4.9334, -4.9708, -4.9954, -4.1678, -4.5203, -2.7015, -2.7168, -2.882, -3.0854, -3.3395, -3.6837, -3.7866, -3.7884, -3.9518, -4.149, -4.1786, -4.3524, -4.3906, -4.4078, -4.4728, -4.5641, -4.6355, -4.6618, -4.6899, -4.7102, -4.7645, -4.7953, -4.8013, -4.8342, -4.9757, -5.0219, -5.0528, -5.0623, -5.1373, -5.1588, -2.4608, -2.8897, -2.8967, -3.1043, -3.546, -3.7233, -3.8056, -3.8737, -4.0806, -4.1533, -4.1646, -4.4713, -4.4971, -4.5528, -4.6531, -4.6983, -4.7087, -4.7248, -4.7214, -4.7771, -4.8469, -4.8668, -4.8783, -4.9015, -4.9049, -4.9087, -4.9093, -4.9272, -4.9345, -4.9652], \"loglift\": [30.0, 29.0, 28.0, 27.0, 26.0, 25.0, 24.0, 23.0, 22.0, 21.0, 20.0, 19.0, 18.0, 17.0, 16.0, 15.0, 14.0, 13.0, 12.0, 11.0, 10.0, 9.0, 8.0, 7.0, 6.0, 5.0, 4.0, 3.0, 2.0, 1.0, 0.8592, 0.8592, 0.8592, 0.8592, 0.8592, 0.8592, 0.8591, 0.8591, 0.8591, 0.8591, 0.8591, 0.8591, 0.8591, 0.8591, 0.8591, 0.8591, 0.8591, 0.859, 0.859, 0.859, 0.859, 0.859, 0.859, 0.859, 0.859, 0.859, 0.859, 0.859, 0.859, 0.859, 0.8577, 0.8368, 0.8492, 0.8232, 1.633, 1.633, 1.633, 1.633, 1.633, 1.633, 1.6329, 1.6329, 1.6329, 1.6328, 1.6328, 1.6328, 1.6327, 1.6327, 1.6327, 1.6327, 1.6327, 1.6327, 1.6327, 1.6327, 1.6326, 1.6326, 1.6326, 1.6326, 1.6326, 1.6326, 1.6326, 1.6326, 1.6326, 1.6326, 1.6325, 1.4828, 1.9341, 1.9341, 1.934, 1.934, 1.934, 1.934, 1.934, 1.934, 1.9339, 1.9339, 1.9339, 1.9339, 1.9339, 1.9339, 1.9338, 1.9338, 1.9338, 1.9338, 1.9338, 1.9338, 1.9338, 1.9338, 1.9337, 1.9337, 1.9337, 1.9337, 1.9337, 1.9336, 1.9336, 1.9336, 2.323, 2.3229, 2.3229, 2.3229, 2.3229, 2.3229, 2.3229, 2.3229, 2.3228, 2.3228, 2.3228, 2.3228, 2.3227, 2.3227, 2.3227, 2.3227, 2.3227, 2.3227, 2.3227, 2.3226, 2.3226, 2.3226, 2.3225, 2.3225, 2.3225, 2.3225, 2.3224, 2.3224, 2.3224, 2.3224, -1.0172, -1.4837, 2.4894, 2.4894, 2.4894, 2.4894, 2.4894, 2.4893, 2.4893, 2.4893, 2.4893, 2.4892, 2.4892, 2.4891, 2.4891, 2.4891, 2.4891, 2.489, 2.489, 2.489, 2.489, 2.489, 2.4889, 2.4889, 2.4889, 2.4889, 2.4888, 2.4888, 2.4887, 2.4887, 2.4887, 2.4887, 2.8873, 2.8873, 2.8873, 2.8872, 2.8871, 2.8871, 2.8871, 2.887, 2.887, 2.8869, 2.8869, 2.8868, 2.8867, 2.8867, 2.8866, 2.8866, 2.8866, 2.8866, 2.8866, 2.8865, 2.8865, 2.8865, 2.8864, 2.8864, 2.8864, 2.8864, 2.8864, 2.8864, 2.8864, 2.8863]}, \"token.table\": {\"Topic\": [4, 4, 4, 1, 4, 1, 4, 6, 5, 6, 4, 1, 1, 6, 2, 3, 2, 4, 6, 6, 6, 4, 3, 2, 1, 2, 6, 3, 3, 5, 5, 3, 3, 1, 1, 6, 1, 6, 6, 4, 5, 6, 5, 1, 5, 1, 2, 1, 4, 2, 4, 5, 4, 4, 1, 3, 1, 1, 3, 6, 6, 2, 5, 1, 1, 5, 5, 6, 1, 2, 2, 3, 1, 1, 5, 5, 3, 4, 4, 6, 3, 2, 1, 6, 4, 4, 3, 3, 1, 3, 4, 5, 6, 2, 5, 3, 3, 2, 6, 2, 2, 5, 4, 1, 5, 2, 4, 3, 5, 6, 4, 5, 4, 3, 1, 1, 3, 6, 4, 2, 5, 2, 1, 6, 2, 5, 2, 5, 3, 5, 2, 5, 6, 5, 4, 4, 2, 5, 4, 2, 1, 3, 2, 6, 3, 6, 1, 4, 6, 5, 3, 2, 3, 4, 6, 3, 1, 5, 2, 3, 3, 6, 3, 2, 5, 4, 6, 1, 3, 2, 1, 6, 4, 1, 1, 2, 5, 6, 3, 2, 3, 5, 5, 6, 2, 2, 4, 1, 2, 5, 4, 1], \"Freq\": [0.9999311595049564, 0.9999310832486107, 0.9997878536940102, 0.999752692267946, 0.9994529763984944, 0.9645631100304798, 0.03543569286570608, 0.9995943916741358, 0.9989365349544582, 0.9990832226047193, 0.9995490455088493, 0.9997833661032572, 0.999906194953341, 0.998945808457248, 0.9992709702408658, 0.9994605203523271, 0.9994615464406845, 0.9998389986118847, 0.9993055085172574, 0.9996635554673197, 0.9996137524398132, 0.9999384482272422, 0.9995825810370829, 0.9997917032003392, 0.9999570594383347, 0.9996217290197906, 0.9996566452347582, 0.9997115787168538, 0.9993062350666881, 0.999731432880641, 0.9996969511945235, 0.9990596074315251, 0.9993920306115426, 0.9998637621944534, 0.9998237475586778, 0.9990618349143077, 0.9998031437492437, 0.9994047566031351, 0.9986621061170347, 0.9992440222521803, 0.99956175458665, 0.9989333629497932, 0.9995008458388634, 0.9900280966444288, 0.009982384603120844, 0.9997864414550257, 0.9998460982977254, 0.9777755409946235, 0.022222846305647366, 0.9999668534638317, 0.999629502619444, 0.998970469502174, 0.9998860130219734, 0.9998067504517737, 0.9997567828978278, 0.9995023256039497, 0.999841244905735, 0.9998907343606435, 0.9998052251063206, 0.9996598674335776, 0.9994751371247584, 0.9996344777349533, 0.9993954990322064, 0.9998000656512652, 0.9998899828510893, 0.9996508554840727, 0.9998587122455828, 0.9994848537379208, 0.9998652216670127, 0.9992824753308196, 0.9995551258027908, 0.9997262263596104, 0.9997024048537483, 0.9998313867901414, 0.999390217453989, 0.9996613150817404, 0.99951530023238, 0.9998347345506213, 0.9998459087639024, 0.999557091988406, 0.999801417770763, 0.9994965791145527, 0.9998776101135282, 0.9995757729427438, 0.9998870733153138, 0.999568818058009, 0.9994878929058397, 0.999752044143157, 0.999717753105675, 0.9992506378016073, 0.9991177997125044, 0.9998403123276093, 0.9987137989412093, 0.9999378493976061, 0.9996578108752068, 0.9998917461487398, 0.999698015709414, 0.9994177803199574, 0.9997511095528804, 0.9993063547551247, 0.9998209283863903, 0.9995204909372123, 0.9997405893369188, 0.9997107627214058, 0.9993276856623929, 0.9997786785064557, 0.9995618005215068, 0.9995734538476064, 0.9995519967821561, 0.9998195093317147, 0.999253343001824, 0.9996229361385613, 0.9999391721461133, 0.9996764406692571, 0.9998616662748678, 0.9998313551806679, 0.9997642186449052, 0.9991949085910423, 0.9997627796770197, 0.9999483508286336, 0.9999349969643139, 0.9997896440061274, 0.9999450525486754, 0.9999429624478858, 0.9996391845568491, 0.9992767632309116, 0.9994396678988717, 0.9993471292387671, 0.9997953915244929, 0.9996136005302261, 0.9998672889188831, 0.9995359426131564, 0.9998722916646196, 0.9999522255548413, 0.9996604808597153, 0.9993682115849207, 0.9995498420043185, 0.9997809491136285, 0.9996296886432963, 0.9993921780124337, 0.9984858671788719, 0.0015213734802742365, 0.860338846930298, 0.13947088009016062, 0.9998839825176125, 0.9998037276831722, 0.9997396649951011, 0.9999463820083418, 0.9996025850544537, 0.9996012893875563, 0.9994537652761762, 0.9994941320019403, 0.9995944647925843, 0.9996730585820447, 0.9994260494198479, 0.9995462204247847, 0.9998922148356004, 0.9997913722858104, 0.9998635479919238, 0.9997288830980978, 0.999683152196082, 0.9992340218112854, 0.999823210919067, 0.9996476950649332, 0.9996619339126293, 0.9996423279296354, 0.9989898685195707, 0.9998477106156086, 0.999481285177499, 0.9992939537469511, 0.9999541037486579, 0.9992545013410268, 0.9999435859827397, 0.9997662444057621, 0.9999851134145632, 0.9994061570797798, 0.0005804113495993577, 0.9996317821836548, 0.9998558524243097, 0.9997961415286399, 0.9997502215063403, 0.9999520269040227, 0.9994764522551101, 0.9998172285852034, 0.9995284699282403, 0.9997526084267395, 0.9995948741863722, 0.9996217132688321, 0.9999194413912621, 0.9995805407323204, 0.9998601935027873, 0.9996536270269404], \"Term\": [\"00\", \"05\", \"06\", \"1\", \"15\", \"19\", \"19\", \"19vaccines\", \"2\", \"351\", \"5\", \"access\", \"administration\", \"adverse\", \"africa\", \"ages\", \"announced\", \"appointments\", \"approves\", \"astrazeneca\", \"australia\", \"available\", \"away\", \"backs\", \"biden\", \"big\", \"biontech\", \"blood\", \"boost\", \"booster\", \"canada\", \"cancer\", \"cards\", \"cases\", \"cdc\", \"centre\", \"children\", \"china\", \"chinese\", \"community\", \"companies\", \"company\", \"control\", \"coronavirus\", \"coronavirus\", \"countries\", \"country\", \"covid\", \"covid\", \"covid19\", \"covidvaccine\", \"crisis\", \"cvs\", \"data\", \"day\", \"days\", \"death\", \"deaths\", \"decision\", \"developing\", \"died\", \"don\", \"dont\", \"dose\", \"doses\", \"dr\", \"effective\", \"efforts\", \"end\", \"family\", \"fda\", \"free\", \"fully\", \"getting\", \"giving\", \"global\", \"going\", \"good\", \"got\", \"gov\", \"government\", \"great\", \"health\", \"healthy\", \"help\", \"high\", \"hope\", \"hospital\", \"i\", \"immune\", \"immunity\", \"india\", \"individuals\", \"intellectual\", \"ip\", \"it\", \"joe\", \"kids\", \"know\", \"let\", \"like\", \"live\", \"lives\", \"m\", \"man\", \"mask\", \"md\", \"medical\", \"million\", \"moderna\", \"months\", \"nations\", \"near\", \"need\", \"new\", \"news\", \"now\", \"older\", \"pa\", \"pandemic\", \"patent\", \"patents\", \"people\", \"pfizer\", \"pharma\", \"pharmaceutical\", \"plan\", \"post\", \"president\", \"production\", \"property\", \"proposal\", \"protection\", \"protections\", \"public\", \"rate\", \"right\", \"rights\", \"risk\", \"rules\", \"s\", \"s\", \"safe\", \"safe\", \"said\", \"says\", \"shot\", \"sign\", \"single\", \"south\", \"start\", \"state\", \"step\", \"stop\", \"study\", \"summer\", \"support\", \"supports\", \"t\", \"taking\", \"thank\", \"thats\", \"time\", \"today\", \"trips\", \"trump\", \"tucker\", \"u\", \"us\", \"vaccinate\", \"vaccinated\", \"vaccinating\", \"vaccination\", \"vaccinations\", \"vaccine\", \"vaccines\", \"vaccines\", \"variant\", \"variants\", \"virus\", \"waive\", \"waiver\", \"waivers\", \"waiving\", \"want\", \"way\", \"wednesday\", \"work\", \"world\", \"wto\", \"year\", \"you\"]}, \"R\": 30, \"lambda.step\": 0.01, \"plot.opts\": {\"xlab\": \"PC1\", \"ylab\": \"PC2\"}, \"topic.order\": [2, 5, 6, 3, 1, 4]};\n\nfunction LDAvis_load_lib(url, callback){\n  var s = document.createElement('script');\n  s.src = url;\n  s.async = true;\n  s.onreadystatechange = s.onload = callback;\n  s.onerror = function(){console.warn(\"failed to load library \" + url);};\n  document.getElementsByTagName(\"head\")[0].appendChild(s);\n}\n\nif(typeof(LDAvis) !== \"undefined\"){\n   // already loaded: just create the visualization\n   !function(LDAvis){\n       new LDAvis(\"#\" + \"ldavis_el4241405390900410889863214246\", ldavis_el4241405390900410889863214246_data);\n   }(LDAvis);\n}else if(typeof define === \"function\" && define.amd){\n   // require.js is available: use it to load d3/LDAvis\n   require.config({paths: {d3: \"https://d3js.org/d3.v5\"}});\n   require([\"d3\"], function(d3){\n      window.d3 = d3;\n      LDAvis_load_lib(\"https://cdn.jsdelivr.net/gh/bmabey/pyLDAvis@3.3.1/pyLDAvis/js/ldavis.v3.0.0.js\", function(){\n        new LDAvis(\"#\" + \"ldavis_el4241405390900410889863214246\", ldavis_el4241405390900410889863214246_data);\n      });\n    });\n}else{\n    // require.js not available: dynamically load d3 & LDAvis\n    LDAvis_load_lib(\"https://d3js.org/d3.v5.js\", function(){\n         LDAvis_load_lib(\"https://cdn.jsdelivr.net/gh/bmabey/pyLDAvis@3.3.1/pyLDAvis/js/ldavis.v3.0.0.js\", function(){\n                 new LDAvis(\"#\" + \"ldavis_el4241405390900410889863214246\", ldavis_el4241405390900410889863214246_data);\n            })\n         });\n}\n</script>"
     },
     "metadata": {},
     "execution_count": 25
    }
   ],
   "source": [
    "pyLDAvis.enable_notebook()\n",
    "single_plot = pyLDAvis.gensim_models.prepare(single_model, single_corpus, single_dict)\n",
    "single_plot\n"
   ]
  },
  {
   "source": [
    "We can also try building a Mallet LDA model, which can give better topic results than Gensim's LDA model."
   ],
   "cell_type": "markdown",
   "metadata": {}
  },
  {
   "cell_type": "code",
   "execution_count": 10,
   "metadata": {},
   "outputs": [
    {
     "output_type": "stream",
     "name": "stderr",
     "text": [
      "/home/npodpx/miniconda3/lib/python3.8/site-packages/ipykernel/ipkernel.py:283: DeprecationWarning: `should_run_async` will not call `transform_cell` automatically in the future. Please pass the result to `transformed_cell` argument and any exception that happen during thetransform in `preprocessing_exc_tuple` in IPython 7.17 and above.\n  and should_run_async(code)\n"
     ]
    }
   ],
   "source": [
    "# Download MalletLDA with: wget http://mallet.cs.umass.edu/dist/mallet-2.0.8.zip\n",
    "mallet_path = '/usr/lib/mallet-2.0.8/bin/mallet'\n",
    "mallet_lda = gensim.models.wrappers.LdaMallet(mallet_path=mallet_path, corpus=single_corpus, num_topics=8, id2word=single_dict)"
   ]
  },
  {
   "cell_type": "code",
   "execution_count": 14,
   "metadata": {},
   "outputs": [
    {
     "output_type": "stream",
     "name": "stdout",
     "text": [
      "[(0, '0.198*\"vaccine\" + 0.075*\"coronavirus\" + 0.029*\"news\" + 0.012*\"live\" + 0.011*\"good\" + 0.011*\"read\" + 0.008*\"uk\" + 0.008*\"great\" + 0.007*\"supply\" + 0.007*\"rollout\"'), (1, '0.138*\"covid\" + 0.123*\"19\" + 0.088*\"vaccine\" + 0.035*\"johnson\" + 0.021*\"health\" + 0.018*\"biden\" + 0.017*\"cdc\" + 0.017*\"astrazeneca\" + 0.011*\"support\" + 0.011*\"blood\"'), (2, '0.028*\"cases\" + 0.025*\"dose\" + 0.024*\"health\" + 0.023*\"today\" + 0.021*\"vaccinations\" + 0.015*\"appointment\" + 0.014*\"deaths\" + 0.014*\"state\" + 0.013*\"received\" + 0.012*\"april\"'), (3, '0.106*\"vaccines\" + 0.078*\"covid19\" + 0.028*\"world\" + 0.026*\"shot\" + 0.025*\"pandemic\" + 0.023*\"countries\" + 0.016*\"million\" + 0.015*\"doses\" + 0.014*\"share\" + 0.014*\"life\"'), (4, '0.100*\"covid19\" + 0.044*\"india\" + 0.016*\"free\" + 0.015*\"government\" + 0.014*\"covid19vaccine\" + 0.014*\"covidvaccine\" + 0.012*\"vaccines\" + 0.012*\"information\" + 0.011*\"oxygen\" + 0.010*\"hospital\"'), (5, '0.081*\"vaccine\" + 0.057*\"covid\" + 0.038*\"19\" + 0.030*\"pfizer\" + 0.030*\"vaccines\" + 0.013*\"moderna\" + 0.012*\"virus\" + 0.012*\"dr\" + 0.011*\"data\" + 0.011*\"effective\"'), (6, '0.095*\"vaccinated\" + 0.078*\"people\" + 0.023*\"fully\" + 0.014*\"mask\" + 0.010*\"dont\" + 0.010*\"don\" + 0.009*\"masks\" + 0.009*\"school\" + 0.009*\"americans\" + 0.009*\"safe\"'), (7, '0.214*\"covid\" + 0.206*\"19\" + 0.133*\"vaccination\" + 0.041*\"appointments\" + 0.035*\"sign\" + 0.033*\"00\" + 0.032*\"cvs\" + 0.023*\"pa\" + 0.022*\"05\" + 0.021*\"04\"')]\n",
      "/home/npodpx/miniconda3/lib/python3.8/site-packages/ipykernel/ipkernel.py:283: DeprecationWarning: `should_run_async` will not call `transform_cell` automatically in the future. Please pass the result to `transformed_cell` argument and any exception that happen during thetransform in `preprocessing_exc_tuple` in IPython 7.17 and above.\n",
      "  and should_run_async(code)\n"
     ]
    }
   ],
   "source": [
    "print(mallet_lda.show_topics())"
   ]
  },
  {
   "cell_type": "code",
   "execution_count": 16,
   "metadata": {},
   "outputs": [
    {
     "output_type": "stream",
     "name": "stderr",
     "text": [
      "/home/npodpx/miniconda3/lib/python3.8/site-packages/ipykernel/ipkernel.py:283: DeprecationWarning: `should_run_async` will not call `transform_cell` automatically in the future. Please pass the result to `transformed_cell` argument and any exception that happen during thetransform in `preprocessing_exc_tuple` in IPython 7.17 and above.\n  and should_run_async(code)\n"
     ]
    }
   ],
   "source": [
    "coherence_model_malletlda = CoherenceModel(model=mallet_lda,texts=tweets_clean_lst, dictionary=single_dict, coherence='c_v')\n",
    "coherence_malletlda = coherence_model_malletlda.get_coherence()"
   ]
  },
  {
   "cell_type": "code",
   "execution_count": 17,
   "metadata": {},
   "outputs": [
    {
     "output_type": "stream",
     "name": "stdout",
     "text": [
      "0.42764912960929946\n",
      "/home/npodpx/miniconda3/lib/python3.8/site-packages/ipykernel/ipkernel.py:283: DeprecationWarning: `should_run_async` will not call `transform_cell` automatically in the future. Please pass the result to `transformed_cell` argument and any exception that happen during thetransform in `preprocessing_exc_tuple` in IPython 7.17 and above.\n",
      "  and should_run_async(code)\n"
     ]
    }
   ],
   "source": [
    "print(coherence_malletlda)"
   ]
  },
  {
   "source": [
    "Other resources used: https://www.geeksforgeeks.org/python-convert-a-string-representation-of-list-into-list/; https://stackoverflow.com/questions/66759852/no-module-named-pyldavis; http://mallet.cs.umass.edu/download.php; https://www.machinelearningplus.com/nlp/topic-modeling-gensim-python/; https://thinkinfi.com/guide-to-build-best-lda-model-using-gensim-python/; https://medium.com/swlh/topic-modeling-lda-mallet-implementation-in-python-part-2-602ffb38d396"
   ],
   "cell_type": "markdown",
   "metadata": {}
  }
 ]
}