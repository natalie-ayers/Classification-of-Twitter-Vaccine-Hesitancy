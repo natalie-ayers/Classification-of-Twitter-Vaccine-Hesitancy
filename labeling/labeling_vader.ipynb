{
 "metadata": {
  "language_info": {
   "codemirror_mode": {
    "name": "ipython",
    "version": 3
   },
   "file_extension": ".py",
   "mimetype": "text/x-python",
   "name": "python",
   "nbconvert_exporter": "python",
   "pygments_lexer": "ipython3",
   "version": "3.9.0"
  },
  "orig_nbformat": 2,
  "kernelspec": {
   "name": "python390jvsc74a57bd06ecce1c9e98c8f9bb38a7b8b8e9f7e1b215f4f110c46525b87c9faaa54cf2c18",
   "display_name": "Python 3.9.0 64-bit ('3.9.0': pyenv)"
  },
  "metadata": {
   "interpreter": {
    "hash": "aee8b7b246df8f9039afb4144a1f6fd8d2ca17a180786b69acc140d282b71a49"
   }
  }
 },
 "nbformat": 4,
 "nbformat_minor": 2,
 "cells": [
  {
   "source": [
    "** Labeling using Vader in NLTK ** "
   ],
   "cell_type": "markdown",
   "metadata": {}
  },
  {
   "source": [
    "Hutto, C.J. & Gilbert, E.E. (2014). VADER: A Parsimonious Rule-based Model for Sentiment Analysis of Social Media Text. Eighth International Conference on Weblogs and Social Media (ICWSM-14). Ann Arbor, MI, June 2014."
   ],
   "cell_type": "markdown",
   "metadata": {}
  },
  {
   "source": [
    "Using cleaned data (original data is already labeled so I omitted it)"
   ],
   "cell_type": "markdown",
   "metadata": {}
  },
  {
   "cell_type": "code",
   "execution_count": 2,
   "metadata": {},
   "outputs": [
    {
     "output_type": "stream",
     "name": "stderr",
     "text": [
      "/Users/kiridabe/.pyenv/versions/3.9.0/lib/python3.9/site-packages/pandas/compat/__init__.py:97: UserWarning: Could not import the lzma module. Your installed Python is incomplete. Attempting to use lzma compression will result in a RuntimeError.\n  warnings.warn(msg)\n"
     ]
    }
   ],
   "source": [
    "import pandas as pd\n",
    "import nltk\n",
    "import numpy as np\n",
    "import csv\n",
    "from nltk.sentiment.vader import SentimentIntensityAnalyzer\n",
    "# nltk.download('vader_lexicon') # need this if not yet downloaded"
   ]
  },
  {
   "cell_type": "code",
   "execution_count": 3,
   "metadata": {},
   "outputs": [
    {
     "output_type": "stream",
     "name": "stderr",
     "text": [
      "<ipython-input-3-2aac27b8a51c>:1: FutureWarning: Passing a negative integer is deprecated in version 1.0 and will not be supported in future version. Instead, use None to not limit the column width.\n  pd.set_option(\"display.max_colwidth\", -1)\n"
     ]
    },
    {
     "output_type": "execute_result",
     "data": {
      "text/plain": [
       "                                                                                                                text\n",
       "0   text                                                                                                            \n",
       "1   awww that bummer you shoulda got david carr of third day to do it                                               \n",
       "2   is upset that he can not update his facebook by texting it and might cry as result school today also blah       \n",
       "3   dived many times for the ball managed to save the rest go out of bounds                                         \n",
       "4   my whole body feels itchy and like its on fire                                                                  \n",
       "..                                             ...                                                                  \n",
       "95  hmm do really enjoy being with him if the problems are too constants should think things more find someone ulike\n",
       "96  strider is sick little puppy                                                                                    \n",
       "97  so rylee grace wana go steve party or not sadly since its easter wnt able do much but ohh well                  \n",
       "98  hey actually won one of my bracket pools too bad it was not the one for money                                   \n",
       "99  you do not follow me either and work for you                                                                    \n",
       "\n",
       "[100 rows x 1 columns]"
      ],
      "text/html": "<div>\n<style scoped>\n    .dataframe tbody tr th:only-of-type {\n        vertical-align: middle;\n    }\n\n    .dataframe tbody tr th {\n        vertical-align: top;\n    }\n\n    .dataframe thead th {\n        text-align: right;\n    }\n</style>\n<table border=\"1\" class=\"dataframe\">\n  <thead>\n    <tr style=\"text-align: right;\">\n      <th></th>\n      <th>text</th>\n    </tr>\n  </thead>\n  <tbody>\n    <tr>\n      <th>0</th>\n      <td>text</td>\n    </tr>\n    <tr>\n      <th>1</th>\n      <td>awww that bummer you shoulda got david carr of third day to do it</td>\n    </tr>\n    <tr>\n      <th>2</th>\n      <td>is upset that he can not update his facebook by texting it and might cry as result school today also blah</td>\n    </tr>\n    <tr>\n      <th>3</th>\n      <td>dived many times for the ball managed to save the rest go out of bounds</td>\n    </tr>\n    <tr>\n      <th>4</th>\n      <td>my whole body feels itchy and like its on fire</td>\n    </tr>\n    <tr>\n      <th>...</th>\n      <td>...</td>\n    </tr>\n    <tr>\n      <th>95</th>\n      <td>hmm do really enjoy being with him if the problems are too constants should think things more find someone ulike</td>\n    </tr>\n    <tr>\n      <th>96</th>\n      <td>strider is sick little puppy</td>\n    </tr>\n    <tr>\n      <th>97</th>\n      <td>so rylee grace wana go steve party or not sadly since its easter wnt able do much but ohh well</td>\n    </tr>\n    <tr>\n      <th>98</th>\n      <td>hey actually won one of my bracket pools too bad it was not the one for money</td>\n    </tr>\n    <tr>\n      <th>99</th>\n      <td>you do not follow me either and work for you</td>\n    </tr>\n  </tbody>\n</table>\n<p>100 rows × 1 columns</p>\n</div>"
     },
     "metadata": {},
     "execution_count": 3
    }
   ],
   "source": [
    "pd.set_option(\"display.max_colwidth\", -1)\n",
    "df = pd.read_csv('clean_tweet.csv',usecols=[1],names=['text'])[0:100]\n",
    "df"
   ]
  },
  {
   "cell_type": "code",
   "execution_count": 4,
   "metadata": {},
   "outputs": [],
   "source": [
    "analyzer = SentimentIntensityAnalyzer()"
   ]
  },
  {
   "cell_type": "code",
   "execution_count": 5,
   "metadata": {},
   "outputs": [
    {
     "output_type": "execute_result",
     "data": {
      "text/plain": [
       "                                                                                                                text  \\\n",
       "0   text                                                                                                               \n",
       "1   awww that bummer you shoulda got david carr of third day to do it                                                  \n",
       "2   is upset that he can not update his facebook by texting it and might cry as result school today also blah          \n",
       "3   dived many times for the ball managed to save the rest go out of bounds                                            \n",
       "4   my whole body feels itchy and like its on fire                                                                     \n",
       "..                                             ...                                                                     \n",
       "95  hmm do really enjoy being with him if the problems are too constants should think things more find someone ulike   \n",
       "96  strider is sick little puppy                                                                                       \n",
       "97  so rylee grace wana go steve party or not sadly since its easter wnt able do much but ohh well                     \n",
       "98  hey actually won one of my bracket pools too bad it was not the one for money                                      \n",
       "99  you do not follow me either and work for you                                                                       \n",
       "\n",
       "    positive  neutral  negative  compound  \n",
       "0   0.000     1.000    0.000     0.0000    \n",
       "1   0.000     0.833    0.167    -0.3818    \n",
       "2   0.000     0.717    0.283    -0.7269    \n",
       "3   0.186     0.814    0.000     0.4939    \n",
       "4   0.179     0.500    0.321    -0.2500    \n",
       "..    ...       ...      ...        ...    \n",
       "95  0.144     0.744    0.112     0.2006    \n",
       "96  0.000     0.548    0.452    -0.5106    \n",
       "97  0.339     0.661    0.000     0.7356    \n",
       "98  0.167     0.676    0.158     0.0516    \n",
       "99  0.000     1.000    0.000     0.0000    \n",
       "\n",
       "[100 rows x 5 columns]"
      ],
      "text/html": "<div>\n<style scoped>\n    .dataframe tbody tr th:only-of-type {\n        vertical-align: middle;\n    }\n\n    .dataframe tbody tr th {\n        vertical-align: top;\n    }\n\n    .dataframe thead th {\n        text-align: right;\n    }\n</style>\n<table border=\"1\" class=\"dataframe\">\n  <thead>\n    <tr style=\"text-align: right;\">\n      <th></th>\n      <th>text</th>\n      <th>positive</th>\n      <th>neutral</th>\n      <th>negative</th>\n      <th>compound</th>\n    </tr>\n  </thead>\n  <tbody>\n    <tr>\n      <th>0</th>\n      <td>text</td>\n      <td>0.000</td>\n      <td>1.000</td>\n      <td>0.000</td>\n      <td>0.0000</td>\n    </tr>\n    <tr>\n      <th>1</th>\n      <td>awww that bummer you shoulda got david carr of third day to do it</td>\n      <td>0.000</td>\n      <td>0.833</td>\n      <td>0.167</td>\n      <td>-0.3818</td>\n    </tr>\n    <tr>\n      <th>2</th>\n      <td>is upset that he can not update his facebook by texting it and might cry as result school today also blah</td>\n      <td>0.000</td>\n      <td>0.717</td>\n      <td>0.283</td>\n      <td>-0.7269</td>\n    </tr>\n    <tr>\n      <th>3</th>\n      <td>dived many times for the ball managed to save the rest go out of bounds</td>\n      <td>0.186</td>\n      <td>0.814</td>\n      <td>0.000</td>\n      <td>0.4939</td>\n    </tr>\n    <tr>\n      <th>4</th>\n      <td>my whole body feels itchy and like its on fire</td>\n      <td>0.179</td>\n      <td>0.500</td>\n      <td>0.321</td>\n      <td>-0.2500</td>\n    </tr>\n    <tr>\n      <th>...</th>\n      <td>...</td>\n      <td>...</td>\n      <td>...</td>\n      <td>...</td>\n      <td>...</td>\n    </tr>\n    <tr>\n      <th>95</th>\n      <td>hmm do really enjoy being with him if the problems are too constants should think things more find someone ulike</td>\n      <td>0.144</td>\n      <td>0.744</td>\n      <td>0.112</td>\n      <td>0.2006</td>\n    </tr>\n    <tr>\n      <th>96</th>\n      <td>strider is sick little puppy</td>\n      <td>0.000</td>\n      <td>0.548</td>\n      <td>0.452</td>\n      <td>-0.5106</td>\n    </tr>\n    <tr>\n      <th>97</th>\n      <td>so rylee grace wana go steve party or not sadly since its easter wnt able do much but ohh well</td>\n      <td>0.339</td>\n      <td>0.661</td>\n      <td>0.000</td>\n      <td>0.7356</td>\n    </tr>\n    <tr>\n      <th>98</th>\n      <td>hey actually won one of my bracket pools too bad it was not the one for money</td>\n      <td>0.167</td>\n      <td>0.676</td>\n      <td>0.158</td>\n      <td>0.0516</td>\n    </tr>\n    <tr>\n      <th>99</th>\n      <td>you do not follow me either and work for you</td>\n      <td>0.000</td>\n      <td>1.000</td>\n      <td>0.000</td>\n      <td>0.0000</td>\n    </tr>\n  </tbody>\n</table>\n<p>100 rows × 5 columns</p>\n</div>"
     },
     "metadata": {},
     "execution_count": 5
    }
   ],
   "source": [
    "df['positive'] = df['text'].apply(lambda x:analyzer.polarity_scores(x)['pos'])\n",
    "df['neutral'] = df['text'].apply(lambda x:analyzer.polarity_scores(x)['neu'])\n",
    "df['negative'] = df['text'].apply(lambda x:analyzer.polarity_scores(x)['neg'])\n",
    "df['compound'] = df['text'].apply(lambda x:analyzer.polarity_scores(x)['compound'])\n",
    "df"
   ]
  },
  {
   "source": [
    "The pos, neu, and neg scores are ratios for proportions of text that fall in each category.  \n",
    "Typical threshold values (used in the literature cited on this page) are:  \n",
    "positive sentiment: compound score >= 0.05.  \n",
    "neutral sentiment: (compound score > -0.05) and (compound score < 0.05).   \n",
    "negative sentiment: compound score <= -0.05.  \n"
   ],
   "cell_type": "markdown",
   "metadata": {}
  },
  {
   "source": [],
   "cell_type": "markdown",
   "metadata": {}
  }
 ]
}