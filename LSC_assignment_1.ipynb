{
  "nbformat": 4,
  "nbformat_minor": 0,
  "metadata": {
    "colab": {
      "name": "LSC-assignment-1.ipynb",
      "provenance": [],
      "collapsed_sections": [],
      "authorship_tag": "ABX9TyNe0xblcWtrCCKRyZkd/Y9j",
      "include_colab_link": true
    },
    "kernelspec": {
      "name": "python3",
      "display_name": "Python 3"
    },
    "language_info": {
      "name": "python"
    }
  },
  "cells": [
    {
      "cell_type": "markdown",
      "metadata": {
        "id": "view-in-github",
        "colab_type": "text"
      },
      "source": [
        "<a href=\"https://colab.research.google.com/github/natalie-ayers/Classification-of-Twitter-Vaccine-Hesitancy/blob/main/LSC_assignment_1.ipynb\" target=\"_parent\"><img src=\"https://colab.research.google.com/assets/colab-badge.svg\" alt=\"Open In Colab\"/></a>"
      ]
    },
    {
      "cell_type": "code",
      "metadata": {
        "colab": {
          "base_uri": "https://localhost:8080/"
        },
        "id": "iNk14R1F_phb",
        "outputId": "301ea641-65e2-4243-e7b8-34177f666f64"
      },
      "source": [
        "! pip install mpi4py"
      ],
      "execution_count": 18,
      "outputs": [
        {
          "output_type": "stream",
          "name": "stdout",
          "text": [
            "Collecting mpi4py\n",
            "  Downloading mpi4py-3.1.1.tar.gz (2.4 MB)\n",
            "\u001b[K     |████████████████████████████████| 2.4 MB 5.3 MB/s \n",
            "\u001b[?25h  Installing build dependencies ... \u001b[?25l\u001b[?25hdone\n",
            "  Getting requirements to build wheel ... \u001b[?25l\u001b[?25hdone\n",
            "    Preparing wheel metadata ... \u001b[?25l\u001b[?25hdone\n",
            "Building wheels for collected packages: mpi4py\n",
            "  Building wheel for mpi4py (PEP 517) ... \u001b[?25l\u001b[?25hdone\n",
            "  Created wheel for mpi4py: filename=mpi4py-3.1.1-cp37-cp37m-linux_x86_64.whl size=2180572 sha256=75314f8f272043d95a2097b912051fd1adaae2dc441c2b87f0d78fd0bdbd0307\n",
            "  Stored in directory: /root/.cache/pip/wheels/91/be/c0/2b0347be1de5cd8ca9fe67da7ec8c3fe8930fcb6b0df6f2255\n",
            "Successfully built mpi4py\n",
            "Installing collected packages: mpi4py\n",
            "Successfully installed mpi4py-3.1.1\n"
          ]
        }
      ]
    },
    {
      "cell_type": "code",
      "metadata": {
        "colab": {
          "base_uri": "https://localhost:8080/"
        },
        "id": "ZDVFlY1t_cdo",
        "outputId": "17e56c03-7755-4c6f-95d0-caeb250e26f2"
      },
      "source": [
        "%%writefile health_sim_orig.py \n",
        "\n",
        "import numpy as np\n",
        "import scipy.stats as sts\n",
        "import time\n",
        "\n",
        "\n",
        "t0 = time.time()\n",
        "\n",
        "# Set model parameters\n",
        "rho = 0.5\n",
        "mu = 3.0\n",
        "sigma = 1.0\n",
        "z_0 = mu\n",
        "\n",
        "# Set simulation parameters, draw all idiosyncratic random shocks,\n",
        "# and create empty containers\n",
        "S = 1000 # Set the number of lives to simulate\n",
        "T = int(4160) # Set the number of periods for each simulation\n",
        "np.random.seed(25)\n",
        "eps_mat = sts.norm.rvs(loc=0, scale=sigma, size=(T, S))\n",
        "z_mat = np.zeros((T, S))\n",
        "\n",
        "for s_ind in range(S):\n",
        "  z_tm1 = z_0\n",
        "  for t_ind in range(T):\n",
        "    e_t = eps_mat[t_ind, s_ind]\n",
        "    z_t = rho * z_tm1 + (1 - rho) * mu + e_t\n",
        "    z_mat[t_ind, s_ind] = z_t\n",
        "    z_tm1 = z_t\n",
        "\n",
        "time_elapsed = time.time() - t0\n",
        "\n",
        "print(\"Simulated %d Lifecycles: %f seconds\" \\\n",
        "                % (S, time_elapsed))"
      ],
      "execution_count": 19,
      "outputs": [
        {
          "output_type": "stream",
          "name": "stdout",
          "text": [
            "Overwriting health_sim_orig.py\n"
          ]
        }
      ]
    },
    {
      "cell_type": "code",
      "metadata": {
        "colab": {
          "base_uri": "https://localhost:8080/"
        },
        "id": "6riA7h2l_8ce",
        "outputId": "1718ddc7-da45-4877-abd3-aeaa29596669"
      },
      "source": [
        "! mpirun --allow-run-as-root -n 4 python health_sim_orig.py"
      ],
      "execution_count": 20,
      "outputs": [
        {
          "output_type": "stream",
          "name": "stdout",
          "text": [
            "Simulated 1000 Lifecycles: 18.934609 seconds\n",
            "Simulated 1000 Lifecycles: 18.800377 seconds\n",
            "Simulated 1000 Lifecycles: 19.016541 seconds\n",
            "Simulated 1000 Lifecycles: 19.212811 seconds\n"
          ]
        }
      ]
    },
    {
      "cell_type": "code",
      "metadata": {
        "id": "9z39hLCP_44N"
      },
      "source": [
        "%%writefile mpi_rand_walk.py \n",
        "from mpi4py import MPI\n",
        "import numpy as np\n",
        "import scipy.stats as sts\n",
        "import time\n",
        "\n",
        "def sim_rand_walks_parallel(n_runs):\n",
        "\n",
        "    for s_ind in range(S):\n",
        "      z_tm1 = z_0\n",
        "      for t_ind in range(T):\n",
        "        e_t = eps_mat[t_ind, s_ind]\n",
        "        z_t = rho * z_tm1 + (1 - rho) * mu + e_t\n",
        "        z_mat[t_ind, s_ind] = z_t\n",
        "        z_tm1 = z_t\n",
        "\n",
        "    return\n",
        "\n",
        "def main():\n",
        "    # Set model parameters\n",
        "    rho = 0.5\n",
        "    mu = 3.0\n",
        "    sigma = 1.0\n",
        "    z_0 = mu\n",
        "    \n",
        "    # Set simulation parameters, draw all idiosyncratic random shocks,\n",
        "    # and create empty containers\n",
        "    S = 1000 # Set the number of lives to simulate\n",
        "    T = int(4160) # Set the number of periods for each simulation\n",
        "    np.random.seed(25)\n",
        "    eps_mat = sts.norm.rvs(loc=0, scale=sigma, size=(T, S))\n",
        "    z_mat = np.zeros((T, S))\n",
        "\n",
        "    sim_rand_walks_parallel(n_runs=10000)\n",
        "\n",
        "if __name__ == '__main__':\n",
        "    main()"
      ],
      "execution_count": null,
      "outputs": []
    },
    {
      "cell_type": "code",
      "metadata": {
        "colab": {
          "base_uri": "https://localhost:8080/"
        },
        "id": "c2qUZdheCOIo",
        "outputId": "038b483d-1ff7-41e7-cd3d-4034766d62fb"
      },
      "source": [
        "import numpy as np\n",
        "import scipy.stats as sts\n",
        "\n",
        "sigma = 1.0\n",
        "S = 1000 # Set the number of lives to simulate\n",
        "T = int(4160) # Set the number of periods for each simulation\n",
        "np.random.seed(25)\n",
        "\n",
        "eps_mat = sts.norm.rvs(loc=0, scale=sigma, size=(T, S))\n",
        "eps_mat[1,2]"
      ],
      "execution_count": 7,
      "outputs": [
        {
          "output_type": "execute_result",
          "data": {
            "text/plain": [
              "-0.7348711020538244"
            ]
          },
          "metadata": {},
          "execution_count": 7
        }
      ]
    },
    {
      "cell_type": "code",
      "metadata": {
        "colab": {
          "base_uri": "https://localhost:8080/"
        },
        "id": "pSNlIQEtC9EF",
        "outputId": "216ffab4-9a18-4ee5-f9a3-4ee7d5eb729e"
      },
      "source": [
        "z_mat = np.zeros((T, S))\n",
        "z_mat.shape"
      ],
      "execution_count": 11,
      "outputs": [
        {
          "output_type": "execute_result",
          "data": {
            "text/plain": [
              "(4160, 1000)"
            ]
          },
          "metadata": {},
          "execution_count": 11
        }
      ]
    }
  ]
}